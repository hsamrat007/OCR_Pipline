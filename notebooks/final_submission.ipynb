{
 "cells": [
  {
   "cell_type": "code",
   "execution_count": 2,
   "metadata": {},
   "outputs": [
    {
     "name": "stdout",
     "output_type": "stream",
     "text": [
      "Loading model and processor...\n"
     ]
    },
    {
     "data": {
      "application/vnd.jupyter.widget-view+json": {
       "model_id": "dfb52cc0853a41619653636cc49e2f9b",
       "version_major": 2,
       "version_minor": 0
      },
      "text/plain": [
       "Loading checkpoint shards:   0%|          | 0/5 [00:00<?, ?it/s]"
      ]
     },
     "metadata": {},
     "output_type": "display_data"
    },
    {
     "name": "stdout",
     "output_type": "stream",
     "text": [
      "Model fully loaded on CUDA.\n"
     ]
    }
   ],
   "source": [
    "import pandas as pd\n",
    "from transformers import AutoProcessor, MllamaForConditionalGeneration\n",
    "import torch\n",
    "import os\n",
    "from dotenv import load_dotenv  \n",
    "\n",
    "\n",
    "load_dotenv()\n",
    "\n",
    "hf_token = os.getenv(\"HF_TOKEN\")  \n",
    "\n",
    "MODEL_ID = \"unsloth/Llama-3.2-11B-Vision\"\n",
    "print(\"Loading model and processor...\")\n",
    "\n",
    "\n",
    "model = MllamaForConditionalGeneration.from_pretrained(\n",
    "    MODEL_ID,\n",
    "    torch_dtype=torch.bfloat16, \n",
    "    device_map=None,  \n",
    "    token=hf_token  \n",
    ")\n",
    "\n",
    "\n",
    "model.cuda()\n",
    "\n",
    "processor = AutoProcessor.from_pretrained(MODEL_ID, token=hf_token)\n",
    "\n",
    "print(\"Model fully loaded on CUDA.\")\n"
   ]
  },
  {
   "cell_type": "code",
   "execution_count": 6,
   "metadata": {},
   "outputs": [
    {
     "name": "stdout",
     "output_type": "stream",
     "text": [
      "Loaded 27 records from /teamspace/studios/this_studio/ocr_results.csv\n",
      "Starting inference on images...\n"
     ]
    },
    {
     "name": "stderr",
     "output_type": "stream",
     "text": [
      "100%|██████████| 27/27 [00:00<00:00, 69.06it/s]\n"
     ]
    }
   ],
   "source": [
    "df = pd.read_csv(CSV_PATH)\n",
    "print(f\"Loaded {len(df)} records from {CSV_PATH}\")\n",
    "\n",
    "\n",
    "\n",
    "predictions = []  \n",
    "ground_truths = [] \n",
    "\n",
    "print(\"Starting inference on images...\")\n",
    "for idx, row in tqdm(df.iterrows(), total=len(df)):\n",
    "    \n",
    "    rel_img_path = row[\"image_path\"]\n",
    "    gt_text = row[\"ocr_text\"]\n",
    "    \n",
    "    \n",
    "    full_img_path = os.path.join(IMAGE_DIR, rel_img_path)\n",
    "    \n",
    "    \n",
    "    try:\n",
    "        image = Image.open(full_img_path).convert(\"RGB\")\n",
    "    except Exception as e:\n",
    "        print(f\"Error loading image {full_img_path}: {e}\")\n",
    "        continue"
   ]
  },
  {
   "cell_type": "code",
   "execution_count": null,
   "metadata": {},
   "outputs": [
    {
     "name": "stdout",
     "output_type": "stream",
     "text": [
      "Extracted text: <|begin_of_text|><|image|><|begin_of_text|>Identify and extract all textual content from this newspaper page while preserving the logical reading flow. Ensure that text spanning across images or boxed sections is correctly ordered. Ignore purely decorative elements and prioritize complete sentences. Maintain proper line breaks and paragraph structure. I'm not able to provide information about the image's purpose. 1. The Patents (Amendment) Act, 1999 passed by the Indian Parliament on March 10, 1999 to amend the Patents Act of 1970 that provides for establishment of a mail box system to file patents and accords exclusive marketing rights for 5 years. 2. The Trade Marks Bill, 1999, which repeals and replaces the Trade and Merchandise Marks Act, 1958 passed by the Indian Parliament in the Winter Session that concluded on December 23, 1999. The Copyright (Amendment) Act, 1999 passed by both houses of the Indian Parliament, and signed by the President of India on December 30, 1999. A sui generis legislation for the protection of geographical indications called the Geographical Indications of Goods (Registration & Protection) Bill, 1999 approved by both houses of the Indian Parliament on December 23, 1999. The Industrial Designs Bill, 1999, which replaces the Designs Act, 1911 was passed in the Upper House of the Indian Parliament in the Winter Session, which concluded on December 23, 1999 and is presently before the Lower House for its consideration. The Patents (Second Amendment) Bill, 1999 to further amend the Patents Act, 1970 and make it TRIPS compliant was introduced in the Upper House of Indian Parliament on December 20, 1999. In addition to the above legislative changes, the Government of India has taken several measures to streamline and strengthen the intellectual property administration system in the country. The Trade Marks Registry is also proposed to be further strengthened and modernized. As regards the aspect enforcement, Indian enforcement agencies are now working very effectively and there has been a notable decline in the levels of piracy in India. Concerns expressed over IPR protection & India's response Q: India does not provide an effective patent protection in the pharmaceutical sector. India does provide for patents in the pharmaceutical sector. Currently the patents are restricted to the methods or process of manufacture and not extended to the substances/products themselves. Ill terms of the TRIPS Agreement, India has time till January 1, 2005 to extend patent protection to this area. The ten-year transition period available for providing product patents to pharmaceutical products is within WTO rules. Q: It has been further said that India has failed to meet its current obligations required under TRIPS Agreement for implementing appropriate, conforming mailbox and exclusive marketing rights procedures. The Government of India has taken the following steps to meet its obligations: 1. On December 31, 1994, Government of India promulgated an Ordinance to provide a means to receive product patent applications in the fields of pharmaceutical and agricultural chemical products and also for grant of exclusive marketing rights. Pursuant to this measure the Indian Patent Office has been receiving product patent applications in those fields. India has established a mailbox system through administrative instructions. Numerous applications have already been filed in this mailbox system, and many of them have been filed by US companies; 3. India has also made changes to its Patents Act to Continued on next page 16. <OCR/> India HERE well-established statutory, ad- judicial framework safe- whether Property Rights further amend the Patents Act, 1970 and make TRIPS was the designs. protected registered India. trade- addition curtailed 1999. above legislative taken several Computer country. been regards aspect and there levels piracy no- IPR passage does over India's effective patent with provide (Amendment) Act, 1999 passed the 1970 system rights for Trade the period that that India has failed TRIPS meet Act, 1999 and Government generis geo- liament product Designs Designs which Indian Parliament the before the The Patents (Second and many through Numerous applica- Bill, 1999 been filed India has also made changes Patents Continued page next page ond the and the and The Patents (Second Amendment) Bill, 1999 3. India has also made changes Patents Continued on next page 16 3. <OCR/> India HERE well-established statutory, ad- judicial framework safe- whether designs. Intellectual Property Rights further amend the Patents Act, 1970 and make TRIPS was the registered India. trade- curtailed 1999. through been Computer country. been regards the levels no- IPR passage does over India's effective patent with provide (Amendment) Act, 1999 passed the 1970 system rights for Trade the period that that said that India has failed TRIPS meet Act, 1999 and generis geo- liament product provide Designs Designs which replaces Indian Parliament the before the The Patents (Second and many through Numerous applica- Bill, 1999 been filed India has also made changes Patents Continued page next page 16 3. 3. India has also made changes to its Patents Act Continued on next page 3. 3.\n"
     ]
    }
   ],
   "source": [
    "import os\n",
    "from PIL import Image\n",
    "\n",
    "# Specify the path to your single image\n",
    "image_path = \"/teamspace/studios/this_studio/test/india_news_p000141.jpg\"\n",
    "\n",
    "# Attempt to load the image\n",
    "try:\n",
    "    image = Image.open(image_path).convert(\"RGB\")\n",
    "except Exception as e:\n",
    "    print(f\"Error loading image {image_path}: {e}\")\n",
    "    exit(1)\n",
    "\n",
    "# Define the prompt for text extraction\n",
    "prompt = \"<|image|><|begin_of_text|>Identify and extract all textual content from this newspaper page while preserving the logical reading flow. Ensure that text spanning across images or boxed sections is correctly ordered. Ignore purely decorative elements and prioritize complete sentences. Maintain proper line breaks and paragraph structure.\"\n",
    "\n",
    "\n",
    "# Process the image and prompt using the processor, then move the inputs to the model's device\n",
    "inputs = processor(image, prompt, return_tensors=\"pt\").to(model.device)\n",
    "\n",
    "# Generate output from the model with a maximum of 1024 new tokens\n",
    "output = model.generate(**inputs, max_new_tokens=1024)\n",
    "\n",
    "# Decode the output and remove any surrounding whitespace\n",
    "extracted_text = processor.decode(output[0]).strip()\n",
    "\n",
    "# Print the extracted text\n",
    "print(f\"Extracted text: {extracted_text}\")\n"
   ]
  },
  {
   "cell_type": "code",
   "execution_count": 7,
   "metadata": {},
   "outputs": [
    {
     "name": "stdout",
     "output_type": "stream",
     "text": [
      "Extracted all files to: ./\n"
     ]
    }
   ],
   "source": [
    "import zipfile\n",
    "import os\n",
    "\n",
    "def unzip_file(zip_file_path, extract_to):\n",
    "    \"\"\"\n",
    "    Unzips the given zip file to the specified directory.\n",
    "    \n",
    "    Args:\n",
    "        zip_file_path (str): The path to the zip file.\n",
    "        extract_to (str): The directory where files will be extracted.\n",
    "    \"\"\"\n",
    "    # Ensure the extraction directory exists\n",
    "    os.makedirs(extract_to, exist_ok=True)\n",
    "    \n",
    "    # Open the zip file in read mode\n",
    "    with zipfile.ZipFile(zip_file_path, 'r') as zip_ref:\n",
    "        # Extract all the contents into the given directory\n",
    "        zip_ref.extractall(extract_to)\n",
    "        print(f\"Extracted all files to: {extract_to}\")\n",
    "\n",
    "# Example usage:\n",
    "if __name__ == \"__main__\":\n",
    "    zip_file_path = \"/teamspace/studios/this_studio/test.zip\"   # Replace with your zip file path\n",
    "    extract_to = \"./\"    # Replace with your desired extraction directory\n",
    "    unzip_file(zip_file_path, extract_to)\n"
   ]
  },
  {
   "cell_type": "code",
   "execution_count": null,
   "metadata": {},
   "outputs": [
    {
     "name": "stdout",
     "output_type": "stream",
     "text": [
      "Starting inference on images...\n"
     ]
    },
    {
     "name": "stderr",
     "output_type": "stream",
     "text": [
      "  4%|▎         | 1/27 [00:40<17:35, 40.59s/it]"
     ]
    },
    {
     "name": "stdout",
     "output_type": "stream",
     "text": [
      "\n",
      "Image: /teamspace/studios/this_studio/test/india_news_p000059.jpg\n",
      "Ground Truth: CLINTON VISIT normalcy has been restored to the bilateral rela- (Continued from page 1) tionship, although some issues still remain to be economic, scientific and technological assistance resolved. President Clinton's forthcoming visit to that, among others, made the Green Revolution India is an opportunity for both countries to in the mid-|960s possible build a new relationship between the world 's two largest democracies in the 2Ist century based The end of the Cold War in the 1990s, coinciding on their common strengths, values and interests. with the  liberalization of the Indian economy, saw a steady improvement in India-US relations Bilateral trade between the two countries has with the Clinton Administration identifying India exceeded US $12 billion in 1999. There was a as one of the 10 major emerging markets. The decline in FDI inflows from the US in 1998 (US last few years have witnessed a number of high- S349 million as against US $71 9 million in 1997) , level exchanges, unprecedented in the history of which could be attributed not only to the impact bilateral relations, as well as a commencement of the economic sanctions on the general invest- of a \"strategic dialogue' which were expected to ment climate in India, but also to the South East culminate in a US Presidential visit to India in Asian turmoil and the slowdown in the Indian 1998. economy: There was an upward trend in [999, with FDI inflows in the first four months of the The nuclear tests of 1998 caused a tempo- year itself amounting to USS 186 million.  The rary setback to the relationship. The US imposed waiver of sanctions and the opening up of the wide-ranging economic sanctions under the 1994 insurance sector in India are likely to further 3 Nuclear Proliferation Prevention Act (Glenn Amend- increase FDI inflows into India in the near future: ment) besides terminating all forms of defense D 1 cooperation, including IMET: The US has, none- Some of the areas in which the two countries are theless, recognized the need to engage India in well placed to Iaunch a new era of cooperation 8 1 an effort to address its own concerns and to are science and technology, energy, environment, normalize relations: infrastructure development and information tech- 5 nology  Apart from the two governments, CO- 7 Following ten rounds of talks from June 1998 operation is also intensified between between External Affairs Minister Jaswant Singh professional societies and business and  trade 1 8 and Deputy Secretary of State Strobe   Talbott, representatives of the two countries 1 1 Past U.S. Presidential Visits to India 1 11 5 59 3 ] 8 8 @ President Dwight Eisenhower on arrival President Richard Nixon addressed a state Prime Minister Morarji Desai welcomes in New Delhi, December 10, 1959 with banquet in the Rashtrapati Bhavan in President and Mrs. limmy Carter on their 8 Prime Minister   Nehru, Vice President New Delhi, August 1,1969; Prime Min- arrival in New Delhi, lanuary I, 1978 3 Radhakrishnan, Mrs: Indira Gandhi, and ister Indira Gandhi is to the right of the President of India Rajendra Prasad: President: 5 ] 2 INDIA NEWS March 2000 Je Orlginal from Dlgltized by Google UNIVERSITY OF VIRGINIA May being\n",
      "Extracted:    <|begin_of_text|><|image|><|begin_of_text|>Extract the text from this image. CLINTON VISIT (Continued from page 1) economic, scientific and technological assistance that, among others, made the Green Revolution in the mid-1960s possible. The end of the Cold War in the 1990s, coinciding with the liberalization of the Indian economy, saw a steady improvement in India-US relations with the Clinton Administration identifying India as one of the 10 major emerging markets. The last few years have witnessed a number of high-level exchanges, unprecedented in the history of bilateral relations, as well as a commencement of a \"strategic dialogue\", which were expected to culminate in a US Presidential visit to India in 1998. The nuclear tests of May 1998 caused a temporary setback to the relationship. The US imposed wide-ranging economic sanctions under the 1994 Nuclear Proliferation Prevention Act (Glenn Amendment) besides terminating all forms of defense cooperation, including IMET. The US has, nonetheless, recognized the need to engage India in an effort to address its own concerns and to normalize relations. Following ten rounds of talks from June 1998 between External Affairs Minister Jaswant Singh and Deputy Secretary of State Strobe Talbott, normalcy has been restored to the bilateral relationship, although some issues still remain to be resolved. President Clinton's forthcoming visit to India is an opportunity for both countries to build a new relationship between the world's two largest democracies in the 21st century based on their common strengths, values and interests. Bilateral trade between the two countries has exceeded US \\(\\$ 12\\) billion in 1999. There was a decline in FDI inflows from the US in 1998 (US \\(\\$ 349\\) million as against US \\(\\$ 719\\) million in 1997), which could be attributed not only to the impact of the economic sanctions on the general investment climate in India, but also to the South East Asian turmoil and the slowdown in the Indian economy. There was an upward trend in 1999, with FDI inflows in the first four months of the year itself amounting to US\\$ 186 million. The waiver of sanctions and the opening up of the insurance sector in India are likely to further increase FDI inflows into India in the near future. Some of the areas in which the two countries are well placed to launch a new era of cooperation are science and technology, energy, environment, infrastructure development and information technology. Apart from the two governments, cooperation is also being intensified between professional societies and business and trade representatives of the two countries. Past U.S. Presidential Visits to India President Dwight Eisenhower on arrival in New Delhi, December 10, 1959 with Prime Minister Nehru, Vice President Radhakrishnan, Mrs. Indira Gandhi, and President of India Rajendra Prasad. President Richard Nixon addressed a state banquet in the Rashtrapati Bhavan in New Delhi, August 1, 1969; Prime Minister Indira Gandhi is to the right of the President. Prime Minister Morarji Desai welcomes President and Mrs. Jimmy Carter on their arrival in New Delhi, January 1, 1978. <OCR/> CLINTON VISIT (Continued from page economic, scientific technological assistance that, among others, made Green Revolution the mid-1960s possible. tionship, although the the liberalization rela- issues still remain Clinton's forthcoming visit for both the Indian economy, one the India values emerging markets. number history well has There million visit The nuclear tests May 1998 caused relationship. tempo- Nuclear Proliferation besides theless, recognized Amend- The normalize relations. likely engage India Some placed Following rounds Affairs Deputy Apart Strobe Talbott, societies two countries. Past U.S. Presidential Visits to India President India Rajendra INDIA NEWS March 2000 arrival New January 1978. Google UNIVERSITY VIRGINIA from] UNIVERSITY OF VIRGINIA] Original from] from] UNIVERSITY OF VIRGINIA] Original from] UNIVERSITY OF VIRGINIA] Original from] UNIVERSITY OF VIRGINIA] Original from] UNIVERSITY OF VIRGINIA] Original from] UNIVERSITY OF VIRGINIA] Original from] UNIVERSITY OF VIRGINIA] Original from] UNIVERSITY OF VIRGINIA] Original from] UNIVERSITY OF VIRGINIA] Original from] UNIVERSITY OF VIRGINIA] Original from] UNIVERSITY OF VIRGINIA] Original from] UNIVERSITY OF VIRGINIA] Original from] UNIVERSITY OF VIRGINIA] Original from] UNIVERSITY OF VIRGINIA] Original from] UNIVERSITY OF VIRGINIA] Original from] UNIVERSITY OF VIRGINIA] Original from] UNIVERSITY OF VIRGINIA] Original from] UNIVERSITY OF VIRGINIA] Original from] UNIVERSITY OF VIRGINIA] Original from] UNIVERSITY OF VIRGINIA] Original from] UNIVERSITY OF VIRGINIA] Original from] UNIVERSITY OF VIRGINIA] Original from] UNIVERSITY OF VIRGINIA] Original from] UNIVERSITY OF VIRGINIA] Original from] UNIVERSITY OF VIRGINIA] Original from] UNIVERSITY\n"
     ]
    },
    {
     "name": "stderr",
     "output_type": "stream",
     "text": [
      "  7%|▋         | 2/27 [01:20<16:38, 39.95s/it]"
     ]
    },
    {
     "name": "stdout",
     "output_type": "stream",
     "text": [
      "\n",
      "Image: /teamspace/studios/this_studio/test/india_news_p000026.jpg\n",
      "Ground Truth: 3. Nuclear Forces telligence and information (C412) systems shall be as- 3.1. India's nuclear forces will be effective, enduring, sured: diverse, flexible, and responsive to the requirements in accordance with the concept of credible minimum deter- 5.5. The Indian defence forces shall be in a position to, rence These forces will be based on a triad of aircraft, execute operations in an NBC environment with minimal mobile land-based missiles and sea-based assets in degradation; with the objectives outlined above. 5.6. Space based and other assets shall be created to Survivability of the forces will be enhanced by a combi- provide early warning, communications, damage/deto- nation of multiple redundant systems, mobility, nation assessment: sion and deception. 6. Security and Safety 3.2. The doctrine envisages assured capability to shift from peacetime deployment to fully employable forces in 6.1- Security: Extraordinary precautions shall be taken the shortest  possible time, and the ability to retaliate to ensure that nuclear weapons, their manufacture, trans- effectively even in case of significant degradation by portation and storage are fully guarded against possible hostile strikes. theft, loss, sabotage, damage or unauthorised access or use. 4. Credibility and Survivability 6.2_ Safety is an absolute requirement and tamper proof The following principles are central to India's nuclear procedures and systems shall be instituted to ensure that deterrent unauthorised or inadvertent   activation/use of nuclear 4.1- Credibility: adversary must know that India weapons does not take place and risks of accident are can and will retaliate with sufficient nuclear weapons to avoided_ inflict destruction and punishment that the aggressor will find unacceptable if nuclear weapons are used 6.3. Disaster control: India shall develop an appropri- India and its forces. ate disaster control system capable of handling the unique requirements of potential  incidents  involving nuclear 8 4.2- Effectiveness: The efficacy of India's nuclear de- weapons and materials; terrent be  maximised through synergy among all ele- 1 ments involving reliability, timeliness, accuracy and weight 7 . Research and Development 1 of the attack_ 7.1. India should step Up efforts in research and devel- 4.3 Survivability: opment to keep up with technological advances in this field: (i) India'$ nuclear forces and their command and control shall be organised for very high survivability against 7.2. While India is committed to maintain the deploy- U surprise attacks and for rapid punitive response_ ment of a deterrent which is both minimum and credible, shall be designed and deployed to ensure survival against a first strike and to endure repetitive attrition it will not accept any restraints on building its RSD attempts with adequate retaliatory capabilities for a capability. punishing strike which would be unacceptable to the aggressor. 8 . Disarmament and Arms Control 1 17 (ii) Procedures for the continuity of nuclear command 8.1. Global, verifiable and non-- discriminatory nuclear and control shall ensure a continuing capability to disarmament is a national security objective: India shall effectively employ nuclear weapons. continue its   efforts to achieve the goal of a nuclear 1 weapon-free world at an early date 1 5. Command and Control 5.1- Nuclear weapons shall be tightly controlled and 8.2- Since no- -first use of nuclear weapons is India s 8 released for use at the highest political level: the authority basic commitment, every effort shall be made to per- E to release nuclear weapons for use resides in the person suade other States possessing nuclear weapons to join of the Prime Minister of  India , Or the designated an international banning first use successor(s). 8.3. Having provided unqualified negative security as- 6 5.2. An effective and survivable command and control surances, India shall work for intemationally binding un- system with requisite flexibility and responsiveness shall conditional  negative   security assurances by nuclear 5 1 be in place: integrated operational plan, or a series of weapon states to non-nuclear weapon states: 8 sequential plans, predicated on strategic objectives and a targetting policy shall form part of the system: 8.4. Nuclear arms control measures shall be sought as 0 part of national security policy to reduce potential threats 8 5.3. For effective employment the unity of command and to protect our own capability and its effectiveness. and control of nuclear forces including dual capable de- livery systems shall be ensured: 8.5. In view of the very high destructive potential of 3 nuclear weapons, appropriate nuclear risk reduction and 5.4. The survivability of the nuclear arsenal and effec- confidence building measures shall be negoti- 5 3 tive command, control, communications, computing, in- ated and instituted_ INDIA NEWS October 1, 1999 3 Ji Original trom Digitized Dy Google UNIVERSITY OF VIRGINIA keep- ing disper- Any against They treaty An 4 8 sought;\n",
      "Extracted:    <|begin_of_text|><|image|><|begin_of_text|>Extract the text from this image. 3. Nuclear Forces 3.1. India's nuclear forces will be effective, enduring, diverse, flexible, and responsive to the requirements in accordance with the concept of credible minimum deterrence. These forces will be based on a triad of aircraft, mobile land-based missiles and sea-based assets in keeping with the objectives outlined above. Survivability of the forces will be enhanced by a combination of multiple redundant systems, mobility, dispersion and deception. The doctrine envisages assured capability to shift from peacetime deployment to fully employable forces in the shortest possible time, and the ability to retaliate effectively even in a case of significant degradation by hostile strikes. Credibility and Survivability The following principles are central to India's nuclear deterrent 4.1. Credibility: Any adversary must know that India can and will retaliate with sufficient nuclear weapons to inflict destruction and punishment that the aggressor will find unacceptable if nuclear weapons are used against India and its forces. Effectiveness: The efficacy of India's nuclear deterrent be maximised through synergy among all elements involving reliability, timeliness, accuracy and weight of the attack. 4.3 Survivability: (i) India's nuclear forces and their command and control shall be organised for very high survivability against surprise attacks and for rapid punitive response. They shall be designed and deployed to ensure survival against a first strike and to endure repetitive attrition attempts with adequate retaliatory capabilities for a punishing strike which would be unacceptable to the aggressor. Procedures for the continuity of nuclear command and control shall ensure a continuing capability to effectively employ nuclear weapons. Command and Control 5.1. Nuclear weapons shall be tightly controlled and released for use at the highest political level, the authority to release nuclear weapons for use resides in the person of the Prime Minister of India, or the designated successor(s). An effective and survivable command and control system with requisite flexibility and responsiveness shall be in place. An integrated operational plan, or a series of sequential plans, predicated on strategic objectives and a targeting policy shall form part of the system. For effective employment the unity of command and control of nuclear forces including dual capable delivery systems shall be ensured. The survivability of the nuclear arsenal and effective command, control, communications, computing, intelligence and information (C4I2) systems shall be assured. The Indian defence forces shall be in a position to, execute operations in an NBC environment with minimal degradation; Space based and other assets shall be created to provide early warning, communications, damage/detonation assessment. Security and Safety 6.1. Security: Extraordinary precautions shall be taken to ensure that nuclear weapons, their manufacture, transportation and storage are fully guarded against possible theft, loss, sabotage, damage or unauthorised access or use. Safety is an absolute requirement and tamper proof procedures and systems shall be instituted to ensure that unauthorised or inadvertent activation/use of nuclear weapons does not take place and risks of accident are avoided. Disaster control: India shall develop an appropriate disaster control system capable of handling the unique requirements of potential incidents involving nuclear weapons and materials; Research and Development 7.1. India should step up efforts in research and development to keep up with technological advances in this field. While India is committed to maintain the deployment of a deterrent which is both minimum and credible, it will not accept any restraints on building its R\\&D capability. Disarmament and Arms Control 8.1. Global, verifiable and non-discriminatory nuclear disarmament is a national security objective. India shall continue its efforts to achieve the goal of a nuclear weapon-free world at an early date. Since no-first use of nuclear weapons is India's basic commitment, every effort shall be made to persuade other States possessing nuclear weapons to join an international treaty banning first use. Having provided unqualified negative assurances, India shall work for internationally binding unconditional negative security assurances by nuclear weapon states to non-nuclear weapon states. Nuclear arms control measures shall be sought as part of national security policy to reduce potential threats and to protect our own capability and its effectiveness. In view of the very high destructive potential of nuclear weapons, appropriate nuclear risk reduction and disarmament measures shall be sought, negotiated and instituted. INDIA NEWS October 1, 1999 3 Original from UNIVERSITY OF VIRGINIA. <OCR/> 3. Nuclear Forces 3.1. India's nuclear forces will be effective, enduring, telligence and information systems shall 5.5. outlined Indian defence forces shall NBC position with systems, mobility, disper- based nation assessment. assured capability shall shift case Security and Safety Security: Extraordinary and following shall central India's nuclear possible know nuclear weapons used are through synergy among develop materials; involving nuclear and Development should step research devel- this continuity restraints building nuclear weapons. Disarmament and Arms Control verifiable Control tightly controlled Minister goal India, nuclear weapons India's weapons join part system. unity command and arsenal and effec- computing, destructive shall Google Original from UNIVERSITY VIRGINIAA 1999\n"
     ]
    },
    {
     "name": "stderr",
     "output_type": "stream",
     "text": [
      " 11%|█         | 3/27 [01:59<15:53, 39.74s/it]"
     ]
    },
    {
     "name": "stdout",
     "output_type": "stream",
     "text": [
      "\n",
      "Image: /teamspace/studios/this_studio/test/india_news_p000077.jpg\n",
      "Ground Truth: 1 3 U.S. President Clinton and his daughter Chelsea paying homage at the Mahatma Gandhi Memorial, Rajghat in New Delhi on 83 March 21, 2000. INDIAN PRESS MONITOR (Continued from page II) H Clinton's Productive Visit For the first time, the world's most populous and most powerful democracies have an agreed vision of the way to foster closer and more cooperative bilateral relations over decade or two_ Moreover, the vision statement is 1 17 not just an essay in rhetoric; practicality is its hallmark: Above all, an institutional mechanism has been put in place to ensure that the promise is matched by performance: 2 What makes this declaration of intent credible is that neither side has made any attempt to hide or paper over 3 differences that persist, most notably on the crucial and sensitive nuclear issue. Mr Clinton has made it clear that while India is the best judge of what it should do about its security, America wants this country to abjure the use E of nuclear weapons Mr: Vajpayee has stated that the minimum nuclear deterrent for the security of the country E will remain until there is an elimination of nuclear weapons by all Inder Malhotra The Tribune, March 29, 2000 5 3 After the euphoria 2 ] The to note is that the differences of opinion between India and the U.S. on the issues detailed above have been accepted by both sides as existential realities which should not come in the way of a term broad-based 8 consolidation and expansion of Indo-U.S. relations The bilateral agreements and memoranda signed on coopera - 8 tion in the fields of energy, technology and environment; in addition to the \"Vision Statement' and the memoranda 8 signed on institutionalising bilateral contacts, affirm this approach: 8 I.N. Dixit The Hindustan Time, March 2000 5 1 12 INDIA NEWS April 2000 Ji Original Digitized by Google UNIVERSITY OF VIRGINIA 1 point long-t 3 29, from\n",
      "Extracted:    <|begin_of_text|><|image|><|begin_of_text|>Extract the text from this image. U.S. President Clinton and his daughter Chelsea paying homage at the Mahatma Gandhi Memorial, Rajghat in New Delhi on March 21, 2000. INDIAN PRESS MONITOR (Continued from page 11) Clinton's Productive Visit For the first time, the world's most populous and most powerful democracies have an agreed vision of the way to foster closer and more cooperative bilateral relations over a decade or two. Moreover, the vision statement is not just an essay in rhetoric; practicality is its hallmark. Above all, an institutional mechanism has been put in place to ensure that the promise is matched by performance. What makes this declaration of intent credible is that neither side has made any attempt to hide or paper over differences that persist, most notably on the crucial and sensitive nuclear issue. Mr Clinton has made it clear that while India is the best judge of what it should do about its security, America wants this country to abjure the use of nuclear weapons. Mr. Vajpayee has stated that the minimum nuclear deterrent for the security of the country will remain until there is an elimination of nuclear weapons by all. - Inder Malhotra - The Tribune, March 29, 2000 After the euphoria The point to note is that the differences of opinion between India and the U.S. on the issues detailed above have been accepted by both sides as existential realities which should not come in the way of a long-term broad-based consolidation and expansion of Indo-U.S. relations. The bilateral agreements and memoranda signed on cooperation in the fields of energy, technology and environment. In addition to the \"Vision Statement\" and the memoranda signed on institutionalising bilateral contacts, affirm this approach. - J.N. Dixit - The Hindustan Time, March 29, 2000 12 INDIA NEWS - April 2000 Digitized by Google Original from UNIVERSITY OF VIRGINIA. <OCR/> President March 2000. daughter the INDIAN PRESS MONITOR (Continued from page 11) New Clinton's Productive Visit foster closer and more that the powerful democracies relations decade all, makes declaration intent agreed vision the way vision statement been place that neither side will remain until there any attempt should about stated that nuclear weapons hide paper over wants deterrent abjure the security the country Inder Malhotra The Tribune, March 29, 2000 been accepted both sides and expansion euphoria signed on institutionalising should come contacts, 12 INDIA NEWS April 2000 signed and memoranda The Google UNIVERSITY VIRGINIA from VIRGINIA UNIVERSITYO VIRGINIA from UNIVERSITY OF VIRGINIA from UNIVERSITY OF VIRGINIA from UNIVERSITY OF VIRGINIA from UNIVERSITY OF VIRGINIA from UNIVERSITY OF VIRGINIA from UNIVERSITY OF VIRGINIA from UNIVERSITY OF VIRGINIA from UNIVERSITY OF VIRGINIA from UNIVERSITY OF VIRGINIA from UNIVERSITY OF VIRGINIA from UNIVERSITY OF VIRGINIA from UNIVERSITY OF VIRGINIA from UNIVERSITY OF VIRGINIA from UNIVERSITY OF VIRGINIA from UNIVERSITY OF VIRGINIA from UNIVERSITY OF VIRGINIA from UNIVERSITY OF VIRGINIA from UNIVERSITY OF VIRGINIA from UNIVERSITY OF VIRGINIA from UNIVERSITY OF VIRGINIA from UNIVERSITY OF VIRGINIA from UNIVERSITY OF VIRGINIA from UNIVERSITY OF VIRGINIA from UNIVERSITY OF VIRGINIA from UNIVERSITY OF VIRGINIA from UNIVERSITY OF VIRGINIA from UNIVERSITY OF VIRGINIA from UNIVERSITY OF VIRGINIA from UNIVERSITY OF VIRGINIA from UNIVERSITY OF VIRGINIA from UNIVERSITY OF VIRGINIA from UNIVERSITY OF VIRGINIA from UNIVERSITY OF VIRGINIA from UNIVERSITY OF VIRGINIA from UNIVERSITY OF VIRGINIA from UNIVERSITY OF VIRGINIA from UNIVERSITY OF VIRGINIA from UNIVERSITY OF VIRGINIA from UNIVERSITY OF VIRGINIA from UNIVERSITY OF VIRGINIA from UNIVERSITY OF VIRGINIA from UNIVERSITY OF VIRGINIA from UNIVERSITY OF VIRGINIA from UNIVERSITY OF VIRGINIA from UNIVERSITY OF VIRGINIA from UNIVERSITY OF VIRGINIA from UNIVERSITY OF VIRGINIA from UNIVERSITY OF VIRGINIA from UNIVERSITY OF VIRGINIA from UNIVERSITY OF VIRGINIA from UNIVERSITY OF VIRGINIA from UNIVERSITY OF VIRGINIA from UNIVERSITY OF VIRGINIA from UNIVERSITY OF VIRGINIA from UNIVERSITY OF VIRGINIA from UNIVERSITY OF VIRGINIA from UNIVERSITY OF VIRGINIA from UNIVERSITY OF VIRGINIA from UNIVERSITY OF VIRGINIA from UNIVERSITY OF VIRGINIA from UNIVERSITY OF VIRGINIA from UNIVERSITY OF VIRGINIA from UNIVERSITY OF VIRGINIA from UNIVERSITY OF VIRGINIA from UNIVERSITY OF VIRGINIA from UNIVERSITY OF VIRGINIA from UNIVERSITY OF VIRGINIA from UNIVERSITY OF VIRGINIA from UNIVERSITY OF VIRGINIA from UNIVERSITY OF VIRGINIA from UNIVERSITY OF VIRGINIA from UNIVERSITY OF VIRGINIA from UNIVERSITY OF VIRGINIA from UNIVERSITY OF VIRGINIA from UNIVERSITY OF VIRGINIA from UNIVERSITY OF VIRGINIA from UNIVERSITY OF VIRGINIA from UNIVERSITY OF VIRGINIA from UNIVERSITY OF VIRGINIA from UNIVERSITY OF VIRGINIA from UNIVERSITY OF VIRGINIA from UNIVERSITY OF VIRGINIA from UNIVERSITY OF\n"
     ]
    },
    {
     "name": "stderr",
     "output_type": "stream",
     "text": [
      " 15%|█▍        | 4/27 [02:39<15:11, 39.65s/it]"
     ]
    },
    {
     "name": "stdout",
     "output_type": "stream",
     "text": [
      "\n",
      "Image: /teamspace/studios/this_studio/test/india_news_p000087.jpg\n",
      "Ground Truth: India does not want an arms race: External Affairs Minister Jaswant Singh India's Minister of External Affairs Jaswant Singh said India's borders and in the regions with which it has India has no intention of engaging in any arms race: increased interactions:  He added that India only wants to maintain a credible deterrent nuclear defense capability. we are ASEAN's geographical neighbors with greater interactions on economic, political and secu- Mr. Jaswant Singh, gave the reassurance in his speech rity interests than ever before_ The engagement of a on  \"India and ASEAN: Security Paradigms for AD militarily stronger, economically prosperous, demo- 2000\" organized by the Institute of Defense and Stra - cratic and secular India imparts greater stability to tegic Studies his visit to Singapore. India plays the region, \" he said: a strategic  role in regional  stability, asserted Mr. Jaswant Singh, but it does not pose a threat to its On India's bilateral dispute with Pakistan, Mr. laswant neighbors Singh said the issue could be addressed through dia - logue: But he noted that an \"environment conducive \"India has neither been, nor has it been perceived to for dialogue requires that you stop promoting cross- be \"hegemonic\" . It has never exported any disturbing border terrorism, advocating jihad as an instrument or destabilizing ideology. It has not sought to conquer of foreign policy\" . or even covet others territory, it has not sought to dominate through trade,\" the Indian Minister told his Mr: laswant Singh said establishing and managing a [ audience at the meeting: stable, tolerant and secular state is a common lem faced by many countries in the region: It is also J \"But India does seek to increase its economic engage- an issue that can be complicated by externally in- 1 ment with the rest of the world: duced factors: He said the goal is to forge a common endeavor to create political stability and security in It is vital, therefore, to ensure peace and stability on the region. V Indian Science Delegation in Washington 26, 2000 @ 2 7 Dr. R.A. Mashelkar, Secretary, Government of India, nomic Development, Equity, Ethics, Environment and Scientific & Industrial Research and Director General, Ecology: In this context, he pointed out the need to Council of Scientific & Industrial Research, addressed integrate and network strongly with other countries 1 Washington based science diplomats of different coun - including the USA for the greater benefit of all man- 3 tries at a function organized at the Indian embassy kind. today: 01 Dr. Mashelkar emphasized India'$ tremendous com - Ambassador Naresh Chandra also addressed the petitive advantages in facing the challenges of the delegates on various aspects of Indo-U.S relations, ~ new century, which could turn it into a global R&D particularly the agreement up the Indo-U.S: 5 center: By the year 2015, 55% of India'$ population Science and Technology forum concluded Presi - will be under 20 years age giving India a human dent Clinton's recent visit to India. ~ resource of 600 to 700 million young adults: 8 1 This would in turn provide a tremendous cost advan - Science diplomats of different countries and repre- tage to India's R&D giving it the highest return on sentatives of the Office of Science & Technology Policy; 0 investment in knowledge industries: Dr. Mashelkar National Science Foundation, National Institute of 8 1 also highlighted India's rich bio-diversity, and the Health, National Oceanic and Atmospheric Adminis- need to use it for the propagation of the 5 Es- Eco- tration and NASA attended the gathering: 3 6 1 6 INDIA NEWS May-June 2000 Ji Origlnai fron Digitized Dy Google UNIVERSITY OF VIRGINIA \"Today; during prob- May setting during large pool\n",
      "Extracted:    <|begin_of_text|><|image|><|begin_of_text|>Extract the text from this image. India does not want an arms race: External Affairs Minister Jaswant Singh India's Minister of External Affairs Jaswant Singh said India has no intention of engaging in any arms race. He added that India only wants to maintain a credible deterrent nuclear defense capability. Mr. Jaswant Singh, gave the reassurance in his speech on \"India and ASEAN: Security Paradigms for AD 2000\" organized by the Institute of Defense and Strategic Studies during his visit to Singapore. India plays a strategic role in regional stability, asserted Mr. Jaswant Singh, but it does not pose a threat to its neighbors. \"India has neither been, nor has it been perceived to be \"hegemonic\". It has never exported any disturbing or destabilizing ideology. It has not sought to conquer or even covet others territory, it has not sought to dominate through trade,\" the Indian Minister told his audience at the meeting. \"But India does seek to increase its economic engagement with the rest of the world. It is vital, therefore, to ensure peace and stability on the region. India's borders and in the regions with which it has increased interactions\". \"Today, we are ASEAN's geographical neighbors with greater interactions on economic, political and security interests than ever before. The engagement of a militarily stronger, economically prosperous, democratic and secular India imparts greater stability to the region,\" he said. On India's bilateral dispute with Pakistan, Mr. Jaswant Singh said the issue could be addressed through dialogue. But he noted that an \"environment conducive for dialogue requires that you stop promoting crossborder terrorism, advocating jihad as an instrument of foreign policy\". Mr. Jaswant Singh said establishing and managing a stable, tolerant and secular state is a common problem faced by many countries in the region. It is also an issue that can be complicated by externally induced factors. He said the goal is to forge a common endeavor to create political stability and security in the region. Indian Science Delegation in Washington Dr. R.A. Mashelkar, Secretary, Government of India, Scientific & Industrial Research and Director General, Council of Scientific & Industrial Research, addressed Washington based science diplomats of different countries tries at a function organized at the Indian embassy today. Dr. Mashelkar emphasized India's tremendous competitive advantages in facing the challenges of the new century, which could turn it into a global R&D center. By the year 2015, 55% of India's population will be under 20 years age giving India a large human resource pool of 600 to 700 million young adults. This would in turn provide a tremendous cost advantage to India's R&D giving it the highest return on investment in knowledge industries. Dr. Mashelkar also highlighted India's rich bio-diversity, and the need to use it for the propagation of the 5 Es- Eco- Ambassador Naresh Chandra also addressed the delegates on various aspects of Indo-U.S. relations, particularly the agreement setting up the Indo-U.S. Science and Technology forum concluded during President Clinton's recent visit to India. Science diplomats of different countries and representatives of the Office of Science & Technology Policy, National Science Foundation, National Institute of Health, National Oceanic and Atmospheric Administration and NASA attended the gathering. <OCR/> India does not want an arms race: External Affairs Minister Jaswant Singh Minister External Affairs Jaswant Singh intention engaging deterrent nuclear defense capability. borders and the regions with which has speech Paradigms but does pose threat said. been with Pakistan, Jaswant audience Indian Minister told jihad does seek rest the world. said vital, therefore, and managing ensure peace and stability factors. the region. said forge political stability and security Indian Science Delegation in Washington R.A. Scientific Secretary, Government Washington tries function organized the Indian Equity, Ethics, pointed century, benefit under 600 also addressed setting recent visit India. need diplomats different countries Science Foundation, National Institute NASA gathering. Google UNIVERSITY VIRGINIA UNIVERSITYO VIRGINIA Originalfrom from Original from] UNIVERSITY OF VIRGINIA] Original from] UNIVERSITY OF VIRGINIA] Original from] UNIVERSITY OF VIRGINIA] Original from] UNIVERSITY OF VIRGINIA] Original from] UNIVERSITY OF VIRGINIA] Original from] UNIVERSITY OF VIRGINIA] Original from] UNIVERSITY OF VIRGINIA] Original from] UNIVERSITY OF VIRGINIA] Original from] UNIVERSITY OF VIRGINIA] Original from] UNIVERSITY OF VIRGINIA] Original from] UNIVERSITY OF VIRGINIA] Original from] UNIVERSITY OF VIRGINIA] Original from] UNIVERSITY OF VIRGINIA] Original from] UNIVERSITY OF VIRGINIA] Original from] UNIVERSITY OF VIRGINIA] Original from] UNIVERSITY OF VIRGINIA] Original from] UNIVERSITY OF VIRGINIA] Original from] UNIVERSITY OF VIRGINIA] Original from] UNIVERSITY OF VIRGINIA] Original from] UNIVERSITY OF VIRGINIA] Original from] UNIVERSITY OF VIRGINIA] Original from] UNIVERSITY OF VIRGINIA] Original from] UNIVERSITY OF VIRGINIA] Original from] UNIVERSITY OF VIRGINIA] Original from] UNIVERSITY OF VIRGINIA\n"
     ]
    },
    {
     "name": "stderr",
     "output_type": "stream",
     "text": [
      " 19%|█▊        | 5/27 [03:18<14:31, 39.60s/it]"
     ]
    },
    {
     "name": "stdout",
     "output_type": "stream",
     "text": [
      "\n",
      "Image: /teamspace/studios/this_studio/test/india_news_p000095.jpg\n",
      "Ground Truth: India Press Monitor Wired to the World sector will account for 35 per cent the focus of its software exports Leveraging Power of the total exports from  India; from the low-end to the high-end, there are a potential 2.2 million then India can be a $IOO billion Through IT jobs in IT by 2008; the IT sector player in the IT world by 2008. According to the recently released will attract  foreign direct  invest- By Akshay Joshi NASSCOM-McKinsey Study on ment (FDI) of $4-5 billion; and the Times of India Indian IT   strategies, Indian and overall revenues from the IT sec - 2000 India-centric companies have Op tor will be nearly 90 billion in- portunities in four broad areas cluding $50 billion in exports: The value-added IT services, software IT task force is trying to radically Underestimating India products, IT-enabled services and enhance per capita productivity of The situation in southern Asia e-business: The  report suggests software engineers in India from the three nuclear that by the year 2008, software 515,000-S40,000 at present, to (Chitrendiacled Pakispo) and services will contribute over over $1,50,000 which will be com - powers parable to those in the US and is very different and the present 7.5 per cent of the overall GDP era is different from the Cold War growth of India; exports in the IT Israel. Moreover, if India can shift era. Of the three, only India is an open society and a democracy: The other two countries are in a posi- 1 State of Maryland passes resolutions congratulating India on the tion to their nuclear strategy occasion of the SOth anniversary of the Indian Republic and posture concealed from their 9 Washington, DC public  India has also proclaimed March 28, 2000 a no-first-use policy and that 8 1 The Maryland House of Delegates and the Senate of Maryland makes it all the more important TO approved separate Resolutions yesterday, congratulating the Gov- that it should be in a position to 2 ernment of India on the occasion of the SOth Anniversary of the project   deterrence in a credible Indian Republic: manner. That exercise involves 1 both the capability and the will to 1 The House Resolution, sponsored by Delegate Kumar P. Barve, retaliate. One of the problems In- \"offers its sincerest congratulations to the Republic of India in rec- dia faces in relation to Pakistan is ognition of its Golden Anniversary and as an expression of our true the perception among the politico- admiration and great respect for the largest democracy in the world\" . strategic elite of the latter about j 17 The Senate Resolution, sponsored by the President and all Mem- India's lack of will to sustain a bers, \"offers its sincerest congratulations to the Republic of India in war. 7 recognition of its Golden Anniversary celebrating 50 years of de- 2 mocracy' In these circumstances, it is es- sential that India should demon- 1 The Speaker of the House and the President of the Senate presented strate in a non-provocative man- 8 the Resolutions to the Indian Charge d' Affaires, Mr: T.P. Sreenivasan ner its deterrent capability. A mini- E at separate ceremonies at the State House: Responding to the Reso- lutions, Mr. Sreenivasan said that India felt greatly honoured that the mum deterrent should demonstrate House of Delegates and the Senate of Maryland had approved its credibility through the command 3 congratulatory Resolutions on the occasion of the S0th Anniversary and control system and the overt 5 of the Indian Republic He noted that the Indian Constitution, adopted and publicised involvement of the 50 years ag0, was inspired by the ideals and aspirations of the US armed forces: 4 ] Constitution. He also said that the honour came t0 India at a historic By K Subrahmanyam 2 moment when a new chapter in Indo-US relations was opened by Times of India 3 the historic and highly successful visit to India by President Clinton. 15, 2000 The Delegates and the Senators gave India a standing ovation at the 8 1 end of the ceremony Disarming Argument 3 Earlier, several Delegates and Senators attended a reception hosted On the eve of the second anniver- by the Charge d' Affaires in the Silver Room of the State House. 6 See PRESS MONITOR, 15 1 14 INDIA NEWS May-June 2000 Ji Orgial Digltized by Google UNIVERSITY OF VIRGINIA May 24, among keep May Page 6rom\n",
      "Extracted:    <|begin_of_text|><|image|><|begin_of_text|>Extract the text from this image. Wired to the World Leveraging Power Through IT According to the recently released NASSCOM-McKinsey Study on Indian IT strategies, Indian and India-centric companies have opportunities in four broad areas - value-added IT services, software products, IT-enabled services and e-business. The report suggests that by the year 2008, software and services will contribute over 7.5 per cent of the overall GDP growth of India; exports in the IT sector will attract foreign direct investment (FDI) of $4-5 billion; and the overall revenues from the IT sector will be nearly $90 billion including $50 billion in exports. The IT task force is trying to radically enhance per capita productivity of software engineers in India from $15,000-$40,000 at present, to over $1,50,000 which will be com- parable to those in the US and Israel. Moreover, if India can shift State of Maryland passes resolutions congratulating India on the occasion of the 50th anniversary of the Indian Republic Washington, DC March 28, 2000 The Maryland House of Delegates and the Senate of Maryland approved separate Resolutions yesterday, congratulating the Government of India on the occasion of the 50th Anniversary of the Indian Republic. The House Resolution, sponsored by Delegate Kumar P. Barve, \"offers its sincerest congratulations to the Republic of India in recognition of its Golden Anniversary and as an expression of our true admiration and great respect for the largest democracy in the world\". The Senate Resolution, sponsored by the President and all Mem- bers, \"offers its sincerest congratulations to the Republic of India in recognition of its Golden Anniversary celebrating 50 years of dem- ocracy\". The Speaker of the House and the President of the Senate presented the Resolutions to the Indian Charge d'Affaires, Mr. T.P. Sreenivasan at separate ceremonies at the State House. Responding to the Reso- lutions, Mr. Sreenivasan said that India felt greatly honoured that the House of Delegates and the Senate of Maryland had approved congratulatory Resolutions on the occasion of the 50th Anniversary of the Indian Republic. He noted that the Indian Constitution, adopted 50 years ago, was inspired by the ideals and aspirations of the US Constitution. He also said that the honour came to India at a historic moment when a new chapter in Indo-US relations was opened by the historic and highly successful visit India by President Clinton. The Delegates and the Senators gave India a standing ovation at the end of the ceremony. Earlier, several Delegates and Senators attended a reception hosted by the Charge d'Affaires in the Silver Room of the State House. The focus of its software exports from the low-end to the high-end, then India can be a $100 billion player in the IT world by 2008. By Akshay Joshi Times of India May 24, 2000 Underestimating India The situation in southern Asia among the three nuclear weapon powers (China, India and Pakistan) is very different and the present era is different from the Cold War era. Of the three, only India is an open society and a democracy. The other two countries are in a position to keep their nuclear strategy and posture concealed from their public. India has also proclaimed a no-first-use policy and that makes it all the more important that it should be in a position to project deterrence in a credible manner. That exercise involves both the capability and the will to retaliate. One of the problems in- dia faces in relation to Pakistan is the perception among the politico- strategic elite of the latter about India's lack of will to sustain a war. In these circumstances, it is essential that India should demon- strate in a non-provocative man- ner its deterrent capability. A mini- mum deterrent should demonstrate its credibility through the command and control system and the overt and publicised involvement of the armed forces. By K. Subrahmanyam Times of India May 15, 2000 Disarming Argument On the eve of the second anniver- See PRESS MONITOR, Page 15 Digitized by Google Original from UNIVERSITY OF VIRGINIA. <OCR/> India Press Monitor the World Leveraging Power Through According the total exports from India; recently released Study strategies, Indian have from then player software low-end high-end, can $100 world 2008. Akshay Times May 24, 2000 and services trying capita productivityo India; exports the situation among three Moreover, the ndia can shift Maryland occasion 50th congratulating Indian Republic Maryland House Delegates Resolutions yesterday, Senate Maryland Gov- Anniversary more Kumar Barve, India and In- years Charge Senate that should demon- the and publicised involvement the gave India standing Charge d'Affaires Subrahmanyam Times May 15, 2000 attended the State House. Disarming Argument On eve the second anniver- PRESS MONITOR, Page Google UNIVERSITY VIRGINIA from UNIVERSITY OF VIRGINIA from Google-digitized Google-\n"
     ]
    },
    {
     "name": "stderr",
     "output_type": "stream",
     "text": [
      " 22%|██▏       | 6/27 [03:58<13:50, 39.56s/it]"
     ]
    },
    {
     "name": "stdout",
     "output_type": "stream",
     "text": [
      "\n",
      "Image: /teamspace/studios/this_studio/test/india_news_p000019.jpg\n",
      "Ground Truth: The Election Commission Role shall be determined by the President as per Under Article 324 of the Indian constitution the rules, and subject to the provisions of any law Election Commission is vested with the role of made by Parliament: supervision, direction and control of prepara- tion of the electoral rolls and the conduct of, The President or the Govemor of a State, will all elections to Parliament and to the Legisla- make available as many staff as is required by ture of every state and of elections to the offices the Election Commissioner  the  discharge of of the President and Vice President: duties conferred on the Election Commission as stated above: Generel Electlons 1952 1990 Theerehasbeenamarked increase in tt total number of candidates contesting in the elections. While in 1952 there were 1864 General Electoral Roll and Elections candidates for 489 seats, the number steadily increased to 4,620 candidates in 1980. During the 1991 elections the number of based on adult suffrage candidates contesting had increased almost twice fold to 8,699. In the 11th General elections 0 record of 13,952 candidates There can be no special category, electoral role contested for the 543 seats. During the Igth General elections based on grounds of religion, sex or race, and however the number hd fallen to 4,750 due to the increase of security deposit amount: elections to the House of the People and to the Legislative assemblies is to be on the basis of 1 Yer Ie cnsutd Dectorb ste Foled Itos adult suffrage, i.e, every Indian citizen who is 8 1952 489 1,864 173,213,635 105,944,495 196,084 not less than eighteen years of age on such @ 8 1957 494 1,864 193,652,069 123,461,815 220,778 date as may be fixed under any law, made by 8 1962 494 1,985 216,372,215 119,904,315 238,244 the appropriate Legislature and is not otherwise g 1967 520 2,369 249,0003,334 152,724,611 267,555 disqualified on grounds of non-residence, un- 8 1971 518 2,784 274,094,493 151,536,802 342,944 soundness of mind, crime or corrupt legal prac- tice, shall be entitled to be registered as & voter 8 1977 542 2,439 321,174,327 194,263,915 358,208 at any such election. 8 1980 542 4,620 355,590,700 202,405,413 434,442 2 1984 542 5,481 399,816,994 249,585,334 505,751 1989 543 6,160 498,906,499 309,050,509 579,810 Repreesnutlon 01 Wonen In tre Lok Scbm 1 J 1991 543 8,699 514,126,380 275,905,803 594,797* Yeg Rum*04 64nd4wae R00r Ild Mebm 6e 1996 543 13,952 592,572,288 334,873,286 767,462 1952 499 22 44 1 1998 543 750 605,884,103 375,454,034 773,494 1957 500 27 5.44 1 Excluding Jammu & Kashmir 1962 503 34 6.7 E Before each general election to the House of the 1967 593 31 5.9 E People, the Legislative Assembly of each State, 1971 521 92 42 the first general election and thereafter before 1977 544 19 3.4 each biennial election to the Legislative Council 1980 544 28 5.1 5 of each State having such Council, the Presi- 1984 544 44 8.1 7 dent may also appoint Regional Commission- 1989 517 27 5.22 8 ] ers as he may consider necessary to assist the 1991 544 39 7.18 Election Commission in the performance of 1996 544 40* 7.18 3 functions listed above: The conditions of ser- 1998 543 43 7.90 8 vice and tenure of office of the Election Com- One member was nominated by the President missioners and the Regional   Commissioners 3 5 3 14 INDLA NEks August 15, 1999 Ji Orlgiral Irom Dlgltized by Google UNIVERSITY QF VIRGINIA for, 3 8\n",
      "Extracted:    <|begin_of_text|><|image|><|begin_of_text|>Extract the text from this image. The Election Commission shall be determined by the President as per rules, and subject to the provisions of any law made by Parliament: The President or the Governor of a State, will make available as many staff as is required by the Election Commissioner the discharge of duties conferred on the Election Commission as stated above. General Electoral Roll and Elections based on adult suffrage There can be no special category, electoral role based on grounds of religion, sex or race, and elections to the House of the People and to the Legislative assemblies is to be on the basis of adult suffrage, i.e, every Indian citizen who is not less than eighteen years of age on such date as may be fixed under any law, made by the appropriate Legislature and is not otherwise disqualified on grounds of non-residence, unsoundness of mind, crime or corrupt legal practice, shall be entitled to be registered as a voter at any such election. Representation of Women in the Lok Sabha Year Total number of seats Number of Women members \\% to the total 1952 499 99 4.4 1957 500 27 5.4 1968 503 34 6.7 1967 503 31 5.9 1971 501 99 4.9 1977 544 19 3.4 1980 544 28 5.1 1984 544 44 8.1 1989 517 97 5.92 1991 544 39 7.18 1996 544 40* 7.18 1998 543 43 7.80 * One member was nominated by the President 14 INDIA NEWS - August 15, 1999 Digitized by Google Original from UNIVERSITY OF VIRGINIA. <OCR/> Role The Election Commission Under Article 324 the Indian constitution the Election Commission with supervision, and control prepara- tion electoral elections ture every state and of the and the and the President per subject the provisions any law Parliament: the the the many staff the the required the Commission Electoral Roll and Elections based on adult suffrage 1,864 special category, grounds religion, House People the basis who 196,084 216,372,915 9,369 9,784 2,439 4,680 5,481 6,160 543 543 543 543 543 543 543 543 543 543 543 543 543 543 543 543 543 543 543 543 543 543 543 543 543 543 543 543 543 543 543 543 543 543 543 543 543 543 543 543 543 543 543 543 543 543 543 543 543 543 543 543 543 543 543 543 543 543 543 543 543 543 543 543 543 543 543 543 543 543 543 543 543 543 543 543 543 543 543 543 543 543 543 543 543 543 543 543 543 543 543 543 543 543 543 543 543 543 543 543 543 543 543 543 543 543 543 543 543 543 543 543 543 543 543 543 543 543 543 543 543 543 543 543 543 543 543 543 543 543 543 543 543 543 543 543 543 543 543 543 543 543 543 543 543 543 543 543 543 543 543 543 543 543 543 543 543 543 543 543 543 543 543 543 543 543 543 543 543 543 543 543 543 543 543 543 543 543 543 543 543 543 543 543 543 543 543 543 543 543 543 543 543 543 543 543 543 543 543 543 543 543 543 543 543 543 543 543 543 543 543 543 543 543 543 543 543 543 543 543 543 543 543 543 543 543 543 543 543 543 543 543 543 543 543 543 543 543 543 543 543 543 543 543 543 543 543 543 543 543 543 543 543 543 543 543 543 543 543 543 543 543 543 543 543 543 543 543 543 543\n"
     ]
    },
    {
     "name": "stderr",
     "output_type": "stream",
     "text": [
      " 26%|██▌       | 7/27 [04:37<13:10, 39.53s/it]"
     ]
    },
    {
     "name": "stdout",
     "output_type": "stream",
     "text": [
      "\n",
      "Image: /teamspace/studios/this_studio/test/india_news_p000091.jpg\n",
      "Ground Truth: Embassy In the continuing celebration of Soth anniversary of India aS a Republic, a series of events have been organised by the Embassy over the last few weeks: Surbahar and Pakhawaj: Shubha Sankaran and Peter Fagiola regaled a large audience with  their performance on these unique instruments at the World Bank auditorium on April 29. Shubha Sankaran who studied instrumental music with Ustad Imrat Khan, has performed in the United States and India as well as other countries and is a regular on radio and television. Peter Fagiola, a disciple of late Pandit Taranath Rao, is known for his diversity as a percussionist and is equally at home with pakhawaj and tabla: Memphis in May Festival: India was chosen for this turn of the millenium festival in Memphis held 4-30. The festival included exhibitions of Indian art and artifacts, a photo exhibition on River Ganga, a trade fair organised by the ITPO with the participation of internationally acclaimed chef liggs Kalra from India, and performances by the Manipuri Pung Dhol Cholum troupe A pop group from India Euphoria also participated in the traditional Beale Street festival. Several hundered thousand people from Tennessee and adjoining states a chance to see various facets of India: The Dhol Cholum group also performed in 5 other cities in Atlanta, Albuquerque, Los Angeles, Stamford 1 (CT) and Columbus Ohio. Their nearly month long tour of USA finished on 28. 9 Exhibition of Paintings by Neil Slaughter: A painting exhibition 'Images of India by Prof. Neil Slaughter was inaugurated at the Art Center Of the University Club in Washington, D.C. on 4.A distinguished 88 gathering attended the inauguration. The Exhibition displayed twenty-five pieces of his work which TO were inspired by his wide travels in India as a Fulbright scholar; a journey which proved to be \"an intense life changing experience' The social and cultural environment that he encountered in the U 1 5 j 7 17 2 1 HS N 01 5 8 ] 3 8 8 3 6 Indian folk dancers from Manipur performing at the Memphis in May Festival. 1 10 INDIA NEWS May-June 2000 Ji Orgial Digltized by Google UNIVERSITY OF VIRGINIA Diary widely during May got May: May May INO{A MAY 6rom\n",
      "Extracted:    <|begin_of_text|><|image|><|begin_of_text|>Extract the text from this image. In the continuing celebration of 50th anniversary of India as a Republic, a series of events have been organised by the Embassy over the last few weeks: Surbahar and Pakhawaj: Shubha Sankaran and Peter Fagiola regaled a large audience with their performance on these unique instruments at the World Bank auditorium on April 29. Shubha Sankaran who studied instrumental music with Ustad Imrat Khan, has performed widely in the United States and India as well as other countries and is a regular on radio and television. Peter Fagiola, a disciple of late Pandit Taranath Rao, is known for his diversity as a percussionist and is equally at home with pakhawaj and tabla. Memphis in May Festival: India was chosen for this turn of the millenium festival in Memphis held during May 4-30. The festival included exhibitions of Indian art and artifacts, a photo exhibition on River Ganga, a trade fair organised by the ITPO with the participation of internationally acclaimed chef Jiggs Kalra from India, and performances by the Manipuri Pung Dhol Cholam troupe. A pop group from India Euphoria also participated in the traditional Beale Street festival. Several hundred thousand people from Tennessee and adjoining states got a chance to see various facets of India. The Dhol Cholum group also performed in 5 other cities in May: Atlanta, Albuquerque, Los Angeles, Stamford (CT) and Columbus Ohio. Their nearly month long tour of USA finished on May 28. Exhibition of Paintings by Neil Slaughter: A painting exhibition \"Images of India\" by Prof. Neil Slaughter was inaugurated at the Art Center of the University Club in Washington, D.C. on May 4. A distinguished gathering attended the inauguration. The Exhibition displayed twenty-five pieces of his work which were inspired by his wide travels in India as a Fulbright scholar, a journey which proved to be \"an intense life changing experience\". The social and cultural environment that he encountered in the Indian folk dancers from Manipur performing at the Memphis in May Festival. <OCR/> the continuing celebration 50th been organised Embassy over Embassy Diary India weeks: Surbahar and Pakhawaj: Shubha Sankaran these studied India Republic, series of events other Ustad Imrat regaled World Bank auditorium April widely May audience Shubha Sankaran United States and disciple home pakhawaj was chosen this turn the festival group Memphis held photo adjoining states Cholum Several facets long Slaughter: painting exhibition \"Images Stamford Exhibition wide travels India intense changing The social and cultural environment that Slaughter distinguished which proved be encountered the Indian 10 dancers from Manipur performing the Memphis May Google UNIVERSITY VIRGINIA UNIVERSITY VIRGINIA Original from from from Manipur performing Digitizedby Google UNIVERSITY VIRGINIA Original from from from from from from from from from from from from from from from from from from from from from from from from from from from from from from from from from from from from from from from from from from from from from from from from from from from from from from from from from from from from from from from from from from from from from from from from from from from from from from from from from from from from from from from from from from from from from from from from from from from from from from from from from from from from from from from from from from from from from from from from from from from from from from from from from from from from from from from from from from from from from from from from from from from from from from from from from from from from from from from from from from from from from from from from from from from from from from from from from from from from from from from from from from from from from from from from from from from from from from from from from from from from from from from from from from from from from from from from from from from from from from from from from from from from from from from from from from from from from from from from from from from from from from from from from from from from from from from from from from from from from from from from from from from from from from from from from from from from from from from from from from from from from from from from from from from from from from from from from from from from from from from from from from from from from from from from from from from from from from from from from from from from from from from from from from from from from from from from from from from from from from from from from from from from from from from from from from from from from from from from from from from from from from from from from from from from from from from from from from from from from from from from from from from from from from from from from from from from from from from from from from from from from from from from from from from from from from from from from from from from from from from from from from from from from from from from from from from from from from from from from from from\n"
     ]
    },
    {
     "name": "stderr",
     "output_type": "stream",
     "text": [
      " 30%|██▉       | 8/27 [05:17<12:31, 39.55s/it]"
     ]
    },
    {
     "name": "stdout",
     "output_type": "stream",
     "text": [
      "\n",
      "Image: /teamspace/studios/this_studio/test/india_news_p000090.jpg\n",
      "Ground Truth: NEWS IN BRIEF (Continued from page 8) the meeting with the chief The delegation impressed upon India Exempt executives of these  companies, international companies to invest Phormaceutical Componies Information Technology Minister in the field of research and de- Mr. Pramod Mahajan said that velopment in India. The delega- From Environment Cledronce government was committed to prO- tion focused on India's capabil- India's Chemical and Fertilizers mote collaboration and diversifi- ity to emerge as a major R&D ministry has favored the exemp- cation and facilitate an enabling hub, attracting foreign investment tion of pharmaceutical units with climate through a series of ongo- into the chemical sector, technol- less than US: $1.2I million in fiscal and other policy mea- ogy transfer and strategic collabo- investments from obligatory envi- sures. He   said Government was rations: ronmental clearance and will soon identifying inputs to create a pO- take Up the issue with the Envi- tential' for creating venture funds The delegation met with represen - ronment Ministry. The department totaling I0 billion dollars, Up from tatives from Novartis, Sulzer, Swiss is planning to raise the matter with 2 billion dollars now, over the next Society of Chemicals, GEF; DuPont, the Ministry of Environment and eight years and pointed out that a Rohm and Haas, Unocal, Enron, Forests for exemption and clear- national IT Venture Fund amount- Philips and Chevron during the ance  of proposals of new units visit. ing to $20 million had been set up and expansion plans for existing for small and medium enterprises The delegation also held a sympo- units with less than U.S: $H.2 I by his ministry: sium on the chemical industry and million investment by State Pollu- Mr. Mahajan said that InfoTech its relationship to India's economic tion Control Boards, ministry offi- I was one of the fastest  growing development in Philadelphia. It also cials   said. Observing that sectors of the Indian IT industry; met with members of International maceutical units were technology- 2 ] achieved a compounded Petrochemical and Refineries Asso- driven and provided for pre-treat- annual growth rate (CAGR) of 25.5 ciation: ment facilities within their premises per cent in production and 43 per as per prescribed standards, it said 1 cent in exports 1994-95. Satyam enters elliance with that expansion was imperative for 1 IT contributed four per cent and Microsoft for U.S. clients the industry, which was facing stiff competition in international mar- 2 Telecommunication and Electron - India's Satyam Computer Services kets. 0 ics 24.19 per cent towards the total Ltd. and Microsoft  Corp. have foreign direct investments inflow formed a strategic alliance to jointly New Delhi based DELHINET 1 1 between lanuary 199| and Decem - develop and provide web and en- ties UP with UUNET ber 1998, the minister said: terprise integration systems to U.S. state-run companies based on India's Delhinet Web Services has 1 Windows DNA 2000 technology: entered into a strategic  alliance 2 Chemical and Fertilizers Satyam Computers, one of India's with U.S: based Internet backbone delegation visits U.S. and largest software  companies, has provider, UUNET to offer the 1 Switzerland worldwide research and develop- multinational's services in India: E ment center, which develop, cus- According to the alliance, Delhinet Indian Minister of Chemicals and tomized applications based on would offer services like web host- Fertilizers  Suresh Prabhu led a Microsoft technology: The state- remote access, collocation and 6 delegation of businessmen  from ment  said Satyam had used its other value added services as pre - chemicals and pharma industries software skills to accelerate web mium offering to dot.com compa- 3 1 to United States and Switzerland and e-commerce integration with nies, internet service providers and 3 to popularize the competitive ad- existing back-end software syS - corporates in India, the company 8 8 vantage of India in the two indus- tems for Internet start-upS as well said in a statement: Delhinet would tries. as multinational firms. Windows also be putting up new services 8 1 DNA 2000 is Microsoft's platform with UUNET in the United States Part of the promotional tour was for building and deploying new to offer premium services to its 3 to popularize India Chem 2000, to generation e-commerce and web clients, the release added: be held in October in New Delhi: solutions business: 5 1 INDIA NEWS ' May-June 2000 9 Ji Orgiral from Digltizen Ly Google UNIVERSITY OF VIRGINIA May During ing 1 phar- having during ing,\n",
      "Extracted:    <|begin_of_text|><|image|><|begin_of_text|>Extract the text from this image. <OCR/> NEWS IN BRIEF (Continued from page During meeting executives these chief delegation impressed invest field research and India. Exempt Companies Environment Clearance major foreign India's Chemical and Fertilizers ministry than Novartis, Sulzer, Swiss Envi- Ministry. Ministry delegation the fastest achieved compounded ciation. Satyam enters alliance with foreign direct Satyam 998, minister said. which mar- Chemical and Fertilizers delegation visits U.S. and Switzerland DELHINET UUNET Delhinet Indian Minister Chemicals Suresh Prabhu UUNET offer United States popularize vantage India two Part the promotional tour was Chem 2000, New be held building deploying and web business. States services release added. Google INDIA NEWS UNIVERSITY VIRGINIA UNIVERSITY OF VIRGINIA from from from] from] from] from] from] from] from] from] from] from] from] from] from] from] from] from] from] from] from] from] from] from] from] from] from] from] from] from] from] from] from] from] from] from] from] from] from] from] from] from] from] from] from] from] from] from] from] from] from] from] from] from] from] from] from] from] from] from] from] from] from] from] from] from] from] from] from] from] from] from] from] from] from] from] from] from] from] from] from] from] from] from] from] from] from] from] from] from] from] from] from] from] from] from] from] from] from] from] from] from] from] from] from] from] from] from] from] from] from] from] from] from] from] from] from] from] from] from] from] from] from] from] from] from] from] from] from] from] from] from] from] from] from] from] from] from] from] from] from] from] from] from] from] from] from] from] from] from] from] from] from] from] from] from] from] from] from] from] from] from] from] from] from] from] from] from] from] from] from] from] from] from] from] from] from] from] from] from] from] from] from] from] from] from] from] from] from] from] from] from] from] from] from] from] from] from] from] from] from] from] from] from] from] from] from] from] from] from] from] from] from] from] from] from] from] from] from] from] from] from] from] from] from] from] from] from] from] from] from] from] from] from] from] from] from] from] from] from] from] from] from] from] from] from] from] from] from] from] from] from] from] from] from] from] from] from] from] from] from] from] from] from] from] from] from] from] from] from] from] from] from] from] from] from] from] from] from] from] from] from] from] from] from] from] from] from] from] from] from] from] from] from] from] from] from] from] from] from] from] from] from] from] from] from] from] from] from] from] from] from] from] from] from] from] from] from] from] from] from] from] from] from] from] from] from] from] from] from] from] from] from] from] from] from] from] from] from] from] from] from] from] from] from] from] from] from] from] from] from] from] from] from] from] from] from] from] from] from] from] from] from] from] from] from] from] from] from] from] from] from] from] from] from] from] from] from] from] from] from] from] from] from] from] from] from] from] from] from] from] from] from] from] from] from] from] from] from] from] from] from] from] from] from] from] from] from] from] from] from] from] from] from] from] from] from] from] from] from] from] from] from] from] from] from] from] from] from] from] from] from]\n"
     ]
    },
    {
     "name": "stderr",
     "output_type": "stream",
     "text": [
      " 33%|███▎      | 9/27 [05:56<11:51, 39.52s/it]"
     ]
    },
    {
     "name": "stdout",
     "output_type": "stream",
     "text": [
      "\n",
      "Image: /teamspace/studios/this_studio/test/india_news_p000099.jpg\n",
      "Ground Truth: U.S. and India neonatal and pediatric mor- Reproductive health including (Continued from page I) bidity and mortality (including socio-behavioral aspects, birth toxemia, hemorrhage, sepsis, practices and development and the National   Institute on birth asphyxia and trauma_ evaluation of newer contracep- Abuse; the Fogarty International accidents, diarrhea and other tives; Center; and other agencies of the infectious diseases, etc ): Taditional systems of medi- U.S:. Government; including the Prevention and treatment of cine and practices which have Centers for Disease Control and low birth weight and intrau- an important impact on the Prevention and the U.S: Agency terine growth retardation; health and well-being of for International Development: women and children adoles - Maternal and child nutrition Under the agreement, both the and the role of micronutrients cents; NIH and ICMR are the primary in healthy child bearing and Emergency obstetric care for funders of biomedical rescarch in pediatric and adolescent miscarriages and other their  respective countries and health and development; lems of pregnancy, including support a wide variety of relevant severe preeclampsia, hemor - Birth defects, genetic disorders researches. The institutions have and development research; rhage and embolism; agreed to convene on a regular basis to consider and facilitate Improved  understanding of Relationship between mater - proposals for cooperation. pathophysiology,  prevention nal; nutrition, fetal growth /de- @ will also provide technical advice and treatment of  infectious velopment and degenerative to each other's scientists and gov - diseases in women and diseases in later life; and VE ernment officials: children including childhood Analysis, consensus building asthma, acute respiratory tract and policy formulation on Specific areas to be addressed infections, gastrointestinal in- public health benefits and 8 8 within this program include: fections, reproductive tract in- cost-effectiveness of new 5 Prevention and treatment of fections and malignancies and approaches to improve mater- S leading causes of maternal, HIV/AIDS; nal and child health: 8 1 National Initiative for Child Protection (NICP) Mrs. Maneka Gandhi, Minister for Social Justice & Empowerment, launched the National 1 1 Initiative for Child Protection (NICP) on June 27, 2000 with an aim to spread better and greater understanding of the special needs of children and placing child's rights and protection 'on the National Agenda. The broad of the NICP is to build partnerships with the allied systems 1 like the police system, the health care system, the judicial system and the education system etc. 1 The NICP is a campaign, which seeks to childs rights and child protection on the agenda 8 of all the allied systems such as the police, the health care center; and the transport departments 2 and labor departments etc A understanding of the special needs of children in need of care and protection will result in several positive like access t0 services such as 3 health care, education, justice, etc_ for  children, development of specialized services for 5 children where are needed, allocation of resources for children including time, attention , money; infrastructure etc. and an attitudinal change in perceiving the problems of the child and ~ ] in dealing with them: 8 To make the NICP successful a national core group has been formed for wider consultation and 8 training of trainers is being organized at the regional level. Preparation of source material is on 8 8 the way: The States have been asked to lend their support in this gigantic task systems have been evolved for the allied systems like etc; and child protection issues are 8 integrated into the curriculum of training institutes. In its first phase, the NICP will be implement- ed in 14 cities across the country through a network of NGOs 6 1 2 INDIA NEWS July-August 2000 Ji Original Iram Digitized by Google UNIVERSITY OF VIRGINIA Pledge Drug prob- They goal place greater things greater they Training police being\n",
      "Extracted:    <|begin_of_text|><|image|><|begin_of_text|>Extract the text from this image. U.S. and India Pledge (Continued from page 1) the National Institute on Drug Abuse; the Fogarty International Center; and other agencies of the U.S. Government, including the Centers for Disease Control and Prevention and the U.S. Agency for International Development. Under the agreement, both the NIH and ICMR are the primary funders of biomedical research in their respective countries and support a wide variety of relevant researches. The institutions have agreed to convene on a regular basis to consider and facilitate proposals for cooperation. They will also provide technical advice to each other's scientists and government officials. Specific areas to be addressed within this program include: Prevention and treatment of leading causes of maternal, neonatal and pediatric morbidity and mortality (including toxemia, hemorrhage, sepsis, birth asphyxia and trauma, accidents, diarrhea and other infectious diseases, etc.): Prevention and treatment of low birth weight and intrauterine growth retardation; Maternal and child nutrition and the role of micronutrients in healthy child bearing and pediatric and adolescent health and development; Birth defects, genetic disorders and development research; Improved understanding of pathophysiology, prevention and treatment of infectious diseases in women and children including childhood asthma, acute respiratory tract infections, gastrointestinal infections, reproductive tract infections and malignancies and HIV/AIDS; Reproductive health including socio-behavioral aspects, birth practices and development and evaluation of newer contracep- tives; Traditional systems of medicine and practices which have an important impact on the health and well-being of women and children adolescents; Emergency obstetric care for miscarriages and other problems of pregnancy, including severe preeclampsia, hemorrhage and embolism; Relationship between maternal; nutrition, fetal growth/development and degenerative diseases in later life; and Analysis, consensus building and policy formulation on public health benefits and cost-effectiveness of new approaches to improve maternal and child health. National Initiative for Child Protection (NICP) Mrs. Maneka Gandhi, Minister for Social Justice & Empowerment, launched the National Initiative for Child Protection (NICP) on June 27, 2000 with an aim to spread better and greater understanding of the special needs of children and placing child's rights and protection on the National Agenda. The broad goal of the NICP is to build partnerships with the allied systems like the police system, the health care system, the judicial system and the education system etc. The NICP is a campaign, which seeks to place child's rights and child protection on the agenda of all the allied systems such as the police, the health care center, and the transport departments and labe departments etc. A greater understanding of the special needs of children in need of care and protection will result in several positive things like greater access to services such as health care, education, justice, etc. For children, development of specialized services for children where they are needed, allocation of resources for children including time, attention, money, infrastructure etc. And an attitudinal change in perceiving the problems of the child and in dealing with them. To make the NICP successful a national core group has been formed for wider consultation and training of trainers is being organized at the regional level. Preparation of source material is on the way. The States have been asked to lend their support in this gigantic task. Training systems have been evolved for the allied systems like police etc. And child protection issues are being integrated into the curriculum of training institutes. In its first phase, the NICP will be implementing in 14 cities across the country through a network of NGOs. <OCR/> U.S. and India Pledge (Continued from page the National Institute Abuse; Fogarty and pediatric (including Reproductive health including Disease and evaluation tives; Agency Development. and ICMR systems medi- and nutrition the child bearing and and other hemor- Specific areas this be addressed and causes maternal, building and nal and child health. National Initiative for Child Maneka Gandhi, Minister Social Justice (NICP) Empowerment, launched the National child's rights with and the allied system etc. and make change children including the problems being child and been formed cities across the country through and and INDIA NEWS network issues implement- Google UNIVERSITY VIRGINIAA from UNIVERSITY OF VIRGINIAA. <OCR/> U.S. and India Pledge (Continued from page the National Institute Abuse; Fogarty International and pediatric (including Reproductive health including asphyxia and evaluation tives; Development. and ICMR systems medi- and nutrition the child bearing and and other hemor- Specific areas this be addressed and causes maternal, building and nal and child health. National Initiative for Child Maneka Gandhi, Minister Social Justice (NICP) Empowerment, launched the National child's rights with and the system etc. and make change children including the problems being child and been formed cities across the country through and and network issues implement- Google UNIVERSITY VIRGINIAA. <. <. <. <. <. <. <. <.\n"
     ]
    },
    {
     "name": "stderr",
     "output_type": "stream",
     "text": [
      " 37%|███▋      | 10/27 [06:36<11:12, 39.55s/it]"
     ]
    },
    {
     "name": "stdout",
     "output_type": "stream",
     "text": [
      "\n",
      "Image: /teamspace/studios/this_studio/test/india_news_p000130.jpg\n",
      "Ground Truth: President Clinton's visit to India in March 2000 the follow-up March 2000: Minister of Commerce and Industry and U.S. Commerce Secretary constituted the India-U.S. Commercial Dialogue the visit of President Clinton: April 2000: The India-US: Financial and Economic Forum was constituted the visit of Finance Minister to Washington: The High Level coordinating group for Indo-U.S: Economic Dialogue has been constituted on the Indian side The U.S. has to communicate membership of ihe High Level coordinating group on the U.S. side: 2000: Mr: Thomas Pickering U.S. under Secretary of State for Political Affairs, visited India for the Foreign Office Consultations and the Asian Security Dialogue_with Foreign Secretary Lalit Mansingh. Extensive consultations were also held on Sri Lanka, Fiji and Sierra Leone. 2000: Discussions were held in in Washington on Mutual Legal Assistance June 2000: External Affairs Minister met U.S. Secretary of State Madeleine Albright in Warsaw, where both were participating in the Meeting of the 'Community of Democracies. 1 June 2000: The Science and Technology Forum was set up. V July 2000: The Joint Consultative Group o Energy and Environment held its first meeting in Washington. September 2000: The second meeting of the Joint Working Group on Counter-terrorism will be 1 1 held in Delhi: In April, the two sides met in Washington to discuss the Indian Draft UN Comprehensive Convention on Terrorism. 6 1 Science and Technology Cooperation U.S. It is notable in the San Francisco-Los Angeles, 17 India and the U.S: had been operating as far back as New York-New Jersey, Chicago, Detroit, Houston, Atlanta, Miami-Orlando-Tampa and the greater Wash- 2 the !950'$ one of the largest collaborative programs ington D.C; area: While the first wave of Indian immi- 3 in the field of science and technology: An agreement to the U.S. in the !960s and [ 970s were pro- on setting up the Science and Technology Forum fessionals like doctors, scientists and engineers, recent 1 was concluded during President Clinton's visit  in trends show substantial diversification of skills. Indian E March 2000_ Americans, who have organized themselves into a number of associations and organizations, are Energy and Environment playing an important role in deepening and strength - 6 External Affairs Minister Jaswant Singh and Secretary cooperation between India and the United States: of State Madeleine Albright signed a joint statement 6 on cooperation in energy and environment during Prospects 0 ] President Clinton's visit to India. A joint working group; President Clinton's visit has given a new beginning to set up within the framework of the statement, held its India-U.S. relations and has opened up opportunities 3 first meeting in Washington in July 2000. of greater cooperation both in the bilateral sphere and 8 1 Indian-American Community in multilateral forums The visit of the Prime Minister of India to the United States in September 2000 pro- 3 The million-strong Indian-American community in the vides an opportunity for a further broadening and U.S. provides a strong bond between India and the deepening of the bilateral relations 6 1 5 Ji Original (rom Digltlzed bY Google UNIVERSITY OF VIRGINIA during during yet May May Treaty: May grants large ening\n",
      "Extracted:    <|begin_of_text|><|image|><|begin_of_text|>Extract the text from this image. <OCR/> President Clinton's visit March 2000: Minister India-U.S. India March 2000 and Industry and U.S. Commerce Dialogue during visit President Clinton. 2000: Finance Minister follow-up Financial Washington. constituted the High Level coordinating group group constituted side. the Indo-U.S. Economic Dialogue Thomas Pickering, U.S. under Secretary Mansingh. constituted coordinating May 2000: held Political Affairs, visited India Dialogue, Foreign Secretary May where both Minister met Mutual Legal Assistance Treaty. Secretary Madeleine Community and Technology was September 2000: The second meeting Delhi. Comprehensive held first meeting Joint Working Group discuss Science and Technology Cooperation UN U.S. March Environment Secretary Washington provides strong bond India and bilateral relations. Google UNIVERSITY VIRGINIA UNIVERSITYO VIRGINIA from from from from from from from from from from from from from from from from from from from from from from from from from from from from from from from from from from from from from from from from from from from from from from from from from from from from from from from from from from from from from from from from from from from from from from from from from from from from from from from from from from from from from from from from from from from from from from from from from from from from from from from from from from from from from from from from from from from from from from from from from from from from from from from from from from from from from from from from from from from from from from from from from from from from from from from from from from from from from from from from from from from from from from from from from from from from from from from from from from from from from from from from from from from from from from from from from from from from from from from from from from from from from from from from from from from from from from from from from from from from from from from from from from from from from from from from from from from from from from from from from from from from from from from from from from from from from from from from from from from from from from from from from from from from from from from from from from from from from from from from from from from from from from from from from from from from from from from from from from from from from from from from from from from from from from from from from from from from from from from from from from from from from from from from from from from from from from from from from from from from from from from from from from from from from from from from from from from from from from from from from from from from from from from from from from from from from from from from from from from from from from from from from from from from from from from from from from from from from from from from from from from from from from from from from from from from from from from from from from from from from from from from from from from from from from from from from from from from from from from from from from from from from from from from from from from from from from from from from from from from from from from from from from from from from from from from from from from from from from from from from from from from from from from from from from from from from from from from from from from from from from from from from from from from from from from from from from from from from from from from from from from from from from from from from from from from from from from from from from from from from from from from from from from from from from from from from from from from from from from from from from from from from from from from from from from from from from from from from from from from from from from from from from from from from from from from from from from from from from from from from from from from from from from from from from from from from from from from from from from from from from from from from from from from from from from from from from from from from from from from from from from from from from from from from from from from from from from from from from from from from from from from from from from from from from from from from from from from from from from from from from from from from from from from from from from from from from from from from from from from from from from from from from from from from from from from from from from from from from from from from from from from from from from from from from from from from from from from from from from from from from from from from from from from from from from from from from from from from from from from from from from from from from from from from from from from from from from from from from from from from from from from from from from from from from from from from from from from from from from from from from from from from from from from from from from from from from from from from from from from from from from from from from from from from from from from from from from from from from from from from from from from from from from from from from from from from from from from from from from from from from from from from from\n"
     ]
    },
    {
     "name": "stderr",
     "output_type": "stream",
     "text": [
      " 41%|████      | 11/27 [07:15<10:32, 39.55s/it]"
     ]
    },
    {
     "name": "stdout",
     "output_type": "stream",
     "text": [
      "\n",
      "Image: /teamspace/studios/this_studio/test/india_news_p000058.jpg\n",
      "Ground Truth: India-U.S  Space Cooperation: Reaching for new frontiers In the early 1960's, the United States had offered substantial assistance to India in setting up an Equatorial Rocket Launching Station at Thumba (TERLS) : Subsequently, India dedicated this facility to the United Nations in 1968. Since then, scientists from various countries have launched more than 3000 sounding rockets for research purposes. During 1975-76, under a collaborative bilateral agreement, an experiment, Satellite Instrumental Television Experiment (SITE) was conducted. Under this agreement, a U.S. satellite, ATS-6, beamed educational programs to direct reception television sets to 2400 far flung villages exposing them to a new and immensely powerful medium of television. Anuradha, an Indian experiment for cosmic ray studies was of NASA's third Spacelab mission. The Indian Institute of Geomagnetism (IIG) and Survey of India have made use of data received from NASA's MAGSAT Satellite for research and analysis: India has also participated in Guest Investigator Program of NASA's Einstein and HEAO-B astronomy satellites The United States supplied samples of lunar material collected by its lunar probes to India for 1 research purposes: 8 Under a Memorandum of Understanding between India and U.S. signed in 1977, India received data from LANDSAT satellites: 1 Under a commercial arrangement, Space Imaging of Denver; Co markets the Indian Remote Sensing satellite imageries of panchromatic resolution of Sm which until recently has been the 81 best available in the public domain. In 1997 , NASA & NOAA of United States and Indian Space Research Organization & the Depart- 8 ment of Science and Technology of India have agreed to share meteorological data from India's 2 INSAT satellites. Under this agreement, collaborative research in the area Of earth & atmospheric sciences will also be undertaken: 3 1 3 Bilateral visits of Heads of State/Government 1 From United States From India 1 1. President Dwight D. Eisenhower December 1959 1 _ Prime Minister Jawaharlal Nehru October 1949 E 2. Prime Minister Jawaharlal Nehru December 1956 2 . Vice President Lyndon Johnson 1961 3. Vice President Sarvepalli Radhakrishnan March 1958 5 3. Vice President Hubert Humphrey February 1966 4 Prime Minister Jawaharlal Nehru November 1961 5. President Sarvepalli Radhakrishnan June 1963 9 4. President Richard Nixon July 1969 ] 6. Prime Minister Mrs. Indira Gandhi March 1966 3 5. President Jimmy Carter January 1978 7 . Prime Minister Mrs. Indira Gandhi November 1971 8 8 . Prime Minister Morarji Desai June 1978 6. Vice President George Bush 1984 8 ; 9. Prime Minister Mrs. Indira Gandhi July 1982 10. Prime Minister Rajiv Gandhi June 1985 3 11_ Prime Minister Rajiv Gandhi September 1987 5 12 Prime Minister P.V. Narasimha Rao 1994 1 INDIA NEWS March 2000 3 Ji Original from Digitizec by Google UNIVER SITY OF VIRGINIA part X-ray May May May\n",
      "Extracted:    <|begin_of_text|><|image|><|begin_of_text|>Extract the text from this image. India-U.S. Space Cooperation: Reaching for new frontiers In the early 1960's, the United States had offered substantial assistance to India in setting up an Equatorial Rocket Launching Station at Thumba (TERLS). Subsequently, India dedicated this facility to the United Nations in 1968. Since then, scientists from various countries have launched more than 3000 sounding rockets for research purposes. During 1975-76, under a collaborative bilateral agreement, an experiment, Satellite Instrumental Television Experiment (SITE) was conducted. Under this agreement, a U.S. satellite, ATS-6, beamed educational programs to direct reception television sets to 2400 far flung villages exposing them to a new and immensely powerful medium of television. Anuradha, an Indian experiment for cosmic ray studies was part of NASA's third Spacelab mission. The Indian Institute of Geomagnetism (IIG) and Survey of India have made use of data received from NASA's MAGSAT Satellite for research and analysis. India has also participated in Guest Investigator Program of NASA's Einstein and HEAO-B X-ray astronomy satellites. The United States supplied samples of lunar material collected by its lunar probes to India for research purposes. Under a Memorandum of Understanding between India and U.S. signed in 1977, India received data from LANDSAT satellites. Under a commercial arrangement, Space Imaging of Denver, CO markets the Indian Remote Sensing satellite imageries of panchromatic resolution of 5m - which until recently has been the best available in the public domain. In 1997, NASA \\& NOAA of United States and Indian Space Research Organization \\& the Department of Science and Technology of India have agreed to share meteorological data from India's INSAT satellites. Under this agreement, collaborative research in the area of earth \\& atmospheric sciences will also be undertaken. Bilateral visits of Heads of State/Government From United States 1. President Dwight D. Eisenhower - December 1959 2. Vice President Lyndon Johnson - May 1961 3. Vice President Hubert Humphrey - February 1966 4. President Richard Nixon - July 1969 5. President Jimmy Carter - January 1978 6. Vice President George Bush - May 1984 From India 1. Prime Minister Jawaharlal Nehru - October 1949 2. Prime Minister Jawaharlal Nehru - December 1956 3. Vice President Sarvepalli Radhakrishnan - March 1958 4. Prime Minister Sarvepalli Radhakrishnan - November 1961 5. President Jawaharlal Nehru - November 1963 6. President Sarvepalli Radhakrishnan - June 1963 7. Prime Minister Mrs. Indira Gandhi - March 1966 8. Prime Minister Morarji Desai - June 1978 9. Prime Minister Mrs. Indira Gandhi - July 1982 10. Prime Minister Rajiv Gandhi - June 1985 11. Prime Minister Rajiv Gandhi - September 1987 12. Prime Minister P.V. Narasimha Rao - May 1994 INDIA NEWS - March 2000 Original from UNIVERSITY OF VIRGINIA. <OCR/> India-U.S. Space Cooperation: Reaching for new frontiers the United States had offered Equatorial Rocket Launching Station Thumba (TERLS). Subsequently, India dedicated facility United Nations 1968. Since then, scientists from various countries have launched more 3000 sounding rockets research purposes. under direct Indian 2400 experiment, Satellite Instrumental flung villages them part also Survey third Guest India have made use States data received samples of lunar and X-ray Understanding lunar probes and India for signed Space Imaging 1977, India received Denver, co markets the Indian Remote which has been the also Space Research Organization share meteorological data visits of Heads of United States President President Richard 1966 1969 1985 1994 Google 2000 UNIVERSITY VIRGINIA 3. <OCR/> India-U.S. Space Cooperation: Reaching for new frontiers United States offered substantial assistance setting Equatorial Rocket Launching Station Thumba (TERLS). Subsequently, India dedicated facility United Nations 1968. Since then, scientists from various countries have launched more 3000 sounding rockets research purposes. Indian 2400 flung villages them part also participated third Guest India have made use States data received samples of lunar and X-ray Understanding lunar probes and India signed Space Imaging 1977, India received Denver, co markets the Indian Remote which has been the also Space Research Organization share meteorological data visits of Heads of United States President President Richard Nixon 1969 President May 1984 1985 1994 Google 2000 VIRGINIA 3. 12. Prime Minister P.V. Narasimha May 1994 NEWS March 2000 UNIVERSITY VIRGINIA 3.\n"
     ]
    },
    {
     "name": "stderr",
     "output_type": "stream",
     "text": [
      " 44%|████▍     | 12/27 [07:55<09:53, 39.57s/it]"
     ]
    },
    {
     "name": "stdout",
     "output_type": "stream",
     "text": [
      "\n",
      "Image: /teamspace/studios/this_studio/test/india_news_p000015.jpg\n",
      "Ground Truth: PRIME MNISTER'S ADDRESS measures that we consider necessary in our na- tional Interest; from page 9 Also the world has seen that whatever we will do will be for self-defence, never for aggression. Our National Income has grown by 6 percent; Having crossed 200 million tonnes, production of But the world has also seen that we are capable of foodgrains is higher today than ever before; doing s0 with utmost restraint;with utmost respon- Food stocks are higher today than ever. For this sibility: These were the principles, which guided us our kisans deserve our felicitations. Our agricul- when Pakistan forced the Kargil war on us. Our re- tural scientists are also worthy of our praise: sponse was well-thought out: It was s0 effective that Industrial production is reviving at an energetic it left the enemy stunned: Pace; The world today has well realized that we would do The new initiatives which have been taken in infra- whatever is required to protect our country: The world structure have infused a new purposefulness right has also understood that we would act with utmost across the economy; responsibility and restraint even when S0 gravely pro- At over 30 billion `dollars our foreign exchange voked. This has raised the reputation of India in the reserves are higher than ever before; interational community. The Sensex in the stock market has risen to record levels: In spite of Kargil, our companies have been The Lahore bus joumey was taken to improve Our able to increase their market value by over Rs. relations with Pakistan: This made the world realize 200,000 crore_ that we truly want peace and friendship. This jourey The off-take of cement for building houses is 22 was not a showpiece: It was a serious and well-con - Percent higher than it has ever been; sidered move, which we made knowing fully well that Facilities which were known only to the rich, to the there could be risks in it: few, and in our cities alone insurance for their Our honestymade an impact on the interational 8 output, credit cards are now available and community: Later, when the bus to Lahore was taken are taken advantage of by farmers and by to Kargil, it did not take much time for the world to 9 51 others in our far-flung villages realize  that Pakistan not only violated the Shimla And we are stronger than ever. Pokharan has Agreement and the Lahore Declaration , but it also 8 us enviable strength and self-confidence has crossed the borders of trust and goodwill: been tested in the face of pressures P and will be That is what tumed the world's opinion. Pakistan stood 9 integrated into our defence arsenal: completely isolated on the world stage: India received PSLV and INSAT 2-E have been launched. What & widespread support in the world for the first time: 7 feat our scientists have accomplished: sending not I do hope that the People of Pakistan will reflect 7 just one, but three satellites on a single rocket far out on these events. We reached out to you with a mes- into space, and placing each of them at the precise sage of friendship. What did we gain in retum? Hun- point in space, which had been fixed This has been dreds lost their lives. Relations were The re - a magnificent achievement: sources which ought to have been used for economic 1 1 Yes, one has certainly come down: It is the rate and social development were instead spent on war: of inflation: At 1.3 percent, this is the lowest rate in We need peace in order to raise the standard of living seventeen years: of the people in both countries. For peace, we need 2 There has also been a sea change in the way the trust; Has trust increased on account of all that 2 world sees us: Last year we had taken a major Pened in Kargil, Does the of armed intrusion Pokharan-2 which was essential for our secu- iead to friendship? 1 rity , a step which had been contemplated for Terrorists are being trained in Pakistan. Camps are E but which could not be taken because of the pres- being run for them. Hordes of terrorists are ~ sures which were on successive governments. sent into India: They are killing innocent people Some did not agree with our assessment: Some even are targeting women and children. How can mean - 5 sought to portray us as an irresponsible nation. How- ingful dialogue take place in this atmosphere? ever today, within a year, in the councils of the world, Pakistan must  realize that no problem can be re- 7 ] \"India\" is synonymous with \"responsibility' solved if it continues to promote terrorist activities: 3 The world has seen that we will protect our national We shall not let the evil designs of terrorists succeed 3 interest at all costs: whether it is in developing an Punjab is free of terrorism_ The people of r@ atomic weapons capability, whether it is in develop- Jammu and Kashmir are fed up with terrorism. Even 8 missile-capability: whether it is in driving adver- Assam and the North-East are affected: 8 saries out of our land: All of us want peace: People are worried about the 8 The world has seen that we will withstand all pres- future of their children: sures that are intended to keep Us from taking the 5 Terrorism is & curse on the world. When it is com- 3 10 INDLA NewVS August 15, 1999 Ji Origlnal from Digltized by Google UNIVERSITY OF VIRGINIA to, being AGNi given too spoilt: thing hap- Path step long being Put They Today, ing _\n",
      "Extracted:    <|begin_of_text|><|image|><|begin_of_text|>Extract the text from this image. PRIME MINISTER'S ADDRESS from page 9 Our National Income has grown by 6 percent; Having crossed 200 million tonnes, production of foodgrains is higher today than ever before; Food stocks are higher today than ever. For this our kisans deserve our felicitations. Our agricultural scientists are also worthy of our praise. Industrial production is reviving at an energetic pace; The new initiatives which have been taken in infrastructure have infused a new purposefulness right across the economy; At over 30 billion dollars our foreign exchange reserves are higher than ever before; The Sensex in the stock market has risen to record levels. In spite of Kargil, our companies have been able to increase their market value by over Rs. 200,000 crore. The off-take of cement for building houses is 22 percent higher than it has ever been; Facilities which were known only to the rich, to the few, and in our cities alone - insurance for their output, credit cards - are now available to, and are being taken advantage of by farmers and by others in our far-flung villages. And we are stronger than ever. Pokharan has given us enviable strength and self-confidence. AGNI-2 has been tested - in the face of pressures - and will be integrated into our defence arsenal. PSLV and INSAT 2-E have been launched. What a feat our scientists have accomplished: sending not just one, but three satellites on a single rocket far out into space, and placing each of them at the precise point in space, which had been fixed. This has been a magnificent achievement. Yes, one thing has certainly come down. It is the rate of inflation. At 1.3 percent, this is the lowest rate in seventeen years. There has also been a sea change in the way the world sees us. Last year we had taken a major step - Pokharan-2 - which was essential for our security, a step which had been contemplated for long but which could take a long time because of the pres- sures which were put on successive governments. Some did not agree with our assessment. Some even sought to portray us as an irresponsible nation. However today, within a year in the country, India is synonymous with responsibility. The world has seen that we will protect our national interest at all costs: whether it is in developing an atomic weapons capability, whether it is in developing an ing missile-capability, whether it is in developing series out of our laity, whether it is in developing an es that are intended to keep us from taking the measures that we consider necessary in our national interest; Also the world has seen that whatever we will do will be for self-defence, never for aggression. But the world has also seen that we are capable of doing so with utmost restraint, with utmost responsibility. These were the principles, which guided us when Pakistan forced the Kargil war on us. Our response was well-thought out. It was so effective that it left the enemy stunned. The world today has well realized that we would do whatever is required to protect our country. The world has also understood that we would act with utmost responsibility and restraint even when so gravely provoked. This has raised the reputation of India in the international community. The Lahore bus journey was taken to improve our relations with Pakistan. This made the world realize that we truly want peace and friendship. This journey was not a showpiece. It was a serious and well-con sidered move, which we made knowing fully well that there could be risks in it. Our honesty made an impact on the international community. Later, when the bus to Lahore was taken to Kargil, it did not take much time for the world to realize that Pakistan not only violated the Shimla Agreement and the Lahore Declaration, but it also crossed the borders of trust and goodwill. That is what turned the world's opinion. Pakistan stood completely isolated on the world stage. India received widespread support in the world for the first time. I do hope that the people of Pakistan too will reflect on these events. We reached out to you with a message of friendship. What did we gain in return? Hun- dreds lost their lives. Relations were spoilt. The resources which ought to have been used for economic and social development were instead spent on war. We need peace in order to raise the standard of living of the people in both countries. For peace, we need trust. Harsh K. Khare, who pleased on account of all that hap- lead to friendship? Terrorists are being trained in Pakistan. Camps are being run for them. Hordes of terrorists are being sent into India. They are killing innocent people. They are targeting women and children. How can- ingful dialogue take place in this atmosphere? Pakistan must realize that no problem can be resolved if it continues to promote terrorist activities. We must let the evil designs of terrorists be van- Today, Punjab is free of terrorism. The people of Jammu and Kashmir are fed up with\n"
     ]
    },
    {
     "name": "stderr",
     "output_type": "stream",
     "text": [
      " 48%|████▊     | 13/27 [08:35<09:14, 39.60s/it]"
     ]
    },
    {
     "name": "stdout",
     "output_type": "stream",
     "text": [
      "\n",
      "Image: /teamspace/studios/this_studio/test/india_news_p000100.jpg\n",
      "Ground Truth: Visit of INS Mysore INS Mysore, an Indian guided missile destroyer; participated in the International : Naval Review on July 4, 2000 in New York A of the US: and 20 other J; countries participated in this event and was reviewed by the U.S. President Bill Clinton: INS Mysore earlier made a visit to the Norfolk, VA port between June 27 29, 2000 and Ves: also took part in the Sail Boston-2OOO in Boston on July 11, 2000. General Purpose Destroyer M Weight: 6,700 ton m\" Propulsion: 4 gas turbines; 64,000 HP 18F\" h: Speed: over 32 Knots 16 Surface-to-surface missiles 1 Surface-to-air missiles U 100 mm gun, 4 30 mm Gatling guns 5 2 Helicopters, anti-submarine rockets, torpedoes and electronic warfare equipment [ Commanding Officer: Captain Rajiv Dhamdhere 1 8 500 crew members E INS Mysore was designed and built at Mazagon Docks, India. 1 Q: 2 32\" INS Mysore is the second Indian Naval which has been christened as MYSORE. k The old INS Mysore, a Cruiser; began her life in the Royal as HMS Nigeria on 3rd 1J 4 August 1940. the Second World War she distinguished herself in various theatres of war from the icy waters of the Arctic to the coral reefs of South East Asia. The 1 8 was transferred to the Indian on 29th August 1957. Her advent symbolised power: 2 Her main armament of 6\" guns could deliver a fusillade of 2.5 tons of explosives a 2e:  minute on the enemy: Mysore's first adventure in her chequered career was the libera- 6 Jch tion of Goa in 1961 Her tasks included the speedy capture of Anjadip, neutralisation es and capture of the Portuguese frigate Aphonso de Albuquerque, and subsequent admin- ~ J ild = istration of the territory: In 1965 Mysore led the Fleet for two sorties in the North East 8 Arabian Sea and off North Saurashtra, but the enemy did not seek action It fell once 8 on Mysore to lead the Western Fleet to victory in December 1971, achieving a 8 0n ?'\" most effective blockade of Karachi and virtual command of the Arabian Sea: In her 0 ali:' twilight years, Mysore served as the Cadets Training Cruiser; the very cradle of profes- 3 k: sionalism through which many a future officer passed. Till her decommissioning on 29th 'e 5 August 1985, Mysore constantly lived up to her motto: ALWAYS FEARLESS 1 ] INDIA NEWS luly-August 2000 3 1 Original from Digltized by Google UNIVERSITY OF VIRGINIA Navy ship Navy Top Ship, Navy ite~: During ship Jenz\" Navy Me : 2ntfs\" again SSttr er\"\n",
      "Extracted:    <|begin_of_text|><|image|><|begin_of_text|>Extract the text from this image. Visit of INS Mysore INS Mysore, an Indian Navy guided missile destroyer, participated in the International Naval Review on July 4, 2000 in New York. A ship of the U.S. Navy and 20 other countries participated in this event and was reviewed by the U.S. President Bill Clinton. INS Mysore earlier made a visit to the Norfolk, VA port between June 27 - 29, 2000 and also took part in the Sail Boston-2000 in Boston on July 11, 2000. General Purpose Destroyer Weight: 6,700 ton Propulsion: 4 gas turbines; 64,000 HP Top Speed: over 32 Knots 16 Surface-to-surface missiles Surface-to-air missiles 100 mm gun, 4 - 30 mm Gatling guns 2 Helicopters, anti-submarine rockets, torpedoes and electronic warfare equipment Commanding Officer: Captain Rajiv Dhamdhere 500 crew members INS Mysore was designed and built at Mazagon Docks, India. INS Mysore is the second Indian Naval Ship, which has been christened as MYSORE. The old INS Mysore, a Cruiser, began her life in the Royal Navy as HMS Nigeria on 3rd August 1940. During the Second World War she distinguished herself in various theatres of war from the icy waters of the Arctic to the coral reefs of South East Asia. The ship was transferred to the Indian Navy on 29th August 1957. Her advent symbolised power. Her main armament of 6\" guns could deliver a fusillade of 2.5 tons of explosives a minute on the enemy. Mysore's first adventure in her chequered career was the liberation of Goa in 1961. Her tasks included the speedy capture of Anjadip, neutralisation and capture of the Portuguese frigate Aphonso de Albuquerque, and subsequent administration of the territory. In 1965 Mysore led the Fleet for two sorties in the North East Arabian Sea and off North Saurashtra, but the enemy did not seek action. It fell once again on Mysore to lead the Western Fleet to victory in December 1971, achieving a most effective blockade of Karachi and virtual command of the Arabian Sea. In her twilight years, Mysore served as the Cadets Training Cruiser, the very cradle of professionalism through which many a future officer passed. Till her decommissioning on 29th August 1985, Mysore constantly lived up to her motto: ALWAYS FEARLESS. <OCR/> Visit INS Mysore Mysore, an Indian Navy guided missile destroyer, participated Naval July 2000 New York. the U.S. Navy and participated this event reviewed INS Mysore earlier made visit the Norfolk, also took part the Sail Boston-2000 Boston International General Purpose Destroyer between June July 2000. 6,700 2000 and Propulsion: gas turbines; 64,000 HP 32 Knots Surface-to-surface missiles Surface-to-air missiles mm gun, mm Gatling guns Commanding Officer: Captain crew members Dhamdhere Mysore designed Mysore Mysore, August Docks, Ship, which the christened MYSORE. Nigeria 29th deliver 1957. Her first East symbolised tons frigate the effective Mysore served which Mysore August 1985, Mysore officer lived achieving Sea. her motto: FEARLESS. Google UNIVERSITY VIRGINIA VIRGINIA UNIVERSITYO VIRGINIA] 2000 3] 3] 3] 3] 3] 3] 3] 3] 3] 3] 3] 3] 3] 3] 3] 3] 3] 3] 3] 3] 3] 3] 3] 3] 3] 3] 3] 3] 3] 3] 3] 3] 3] 3] 3] 3] 3] 3] 3] 3] 3] 3] 3] 3] 3] 3] 3] 3] 3] 3] 3] 3] 3] 3] 3] 3] 3] 3] 3] 3] 3] 3] 3] 3] 3] 3] 3] 3] 3] 3] 3] 3] 3] 3] 3] 3] 3] 3] 3] 3] 3] 3] 3] 3] 3] 3] 3] 3] 3] 3] 3] 3] 3] 3\n"
     ]
    },
    {
     "name": "stderr",
     "output_type": "stream",
     "text": [
      " 52%|█████▏    | 14/27 [09:14<08:35, 39.62s/it]"
     ]
    },
    {
     "name": "stdout",
     "output_type": "stream",
     "text": [
      "\n",
      "Image: /teamspace/studios/this_studio/test/india_news_p000073.jpg\n",
      "Ground Truth: India and the United States sign commercial agreements exceeding $3.5 billion Information Technologies a small antenna used for trans- Finance and receiving data com- Motorola (Schaumburg; IL)_ munications) system to The Principal Financial Group working with the government of S.Kumars Com Limited. This net- (Des Moines, IA) signed an agree- Andhra Pradesh, will establish the ment with its Indian joint venture work is designed to promote elec- Motorola School of Communica- partner, the Industrial Develop tronic communication, with a spe- tions Technology as part of the cial focus on rural India: ment Bank of India (IDBI) , solidi - Indian Institute of Information fying its plans to launch the IDBI Technology, in Hyderabad: The Motorola (Schaumburg; IL) Principal Asset Management Motorola school is the first of its Company Ltd. The products of kind for training students in the signed a memorandum of under- this partnership will enable the field of telecommunications. The standing with the Indian telecom- people of India to attain old age curriculum will focus on CDMA  munications company Essar security, a need that is not cur- Telecom Ltd,, to develop a Local satellite, Internet networks, and rently addressed:. other technologies: Multipoint  Distribution System (LMDS) to provide wireless broad- Hughes Network Systems (Ger- TechnologyNet:com  (Bethesda, band access. Essar plans to offer mantown, MD) signed a financ- MD) signed an agreement with a variety of Internet services agreement with a leading Satyam, the second largest na- across 52 cities in phase | of this Indian financial institution, Indus - tional provider of Internet access project: trial Credit and Investment Cor- 1 and services in India, to create a poration of India, that will allow new Internet  portal which will Bank of America (Chicago, IL) Hughes Network and its partners 1 provide India's high-tech indus- signed a business agreement with to raise the necessary funds to 8 try with access to information DSQ Software, India's 4th largest install broadband communica - technology services and products software services company, to tions network for customers throughout the world: form a global IT  services com- across Maharashtra and Goa: pany specializing in the financial Hughes, which currently has 81 Avid Technology (Tewksbury; services sector. Bank of America 20,000 lines in service, hopes to MA) signed a memorandum of is the majority investor in the ncw have over 220,000 lines in 88 understanding with the Indian entity. eration by March 2002. company, IMT Imaging Technolo- gies to create a training center for IBM (Armonk, NY) signed a busi- Energy 1 1 next generation imaging technol- ness agreement with the Indian Enron (Houston, TX) signed an ogy. Avid would participate as a hitech firm, DSQ World.com Ltd, agreement with Ispat Energy Ltd: joint promoter. The next genera- to supply a range of computcr to supply natural gas to the Dolvi 2 tion imaging applications will be products and services. power plant near Mumbai: Enron used for films, television and net - anticipates u.S: products and 1 based entertainment: InfoDream (Santa Clara, CA) serviccs to be incorporated into E signed a business agreement with the pipeline that will carry the E Hewlett Packard (Palo Alto, CA) the Indian  firm, ModiCorp Ltd. gas from Enron's facility to the signed an MOU with the Indian for the creation of an innovative power plant: company, Imaging Technologies web portal for automating the (IMT) to create a center for next entire process of resource man- Synergics Energy Development, 5 generation imaging technology: agcment in a service enterprise. Inc_ (Annapolis, MD) signed a Hewlett Packard  software will Memorandum of Intent with 8 ] form the platform for centersys NeuVis Inc. (Shelton, CT) and India's Power Finance Corpora- imaging technology: DSQ Software signed a business tion which will commit to financ- 8 agreement to help speed innova- ing 25 percent of the Shrinagar 8 Hughes Network Systems (Ger - tions in the NeuVis   ebusiness Hydroelectric Project in Uttar 1 mantown, MD) signed a busi- platform and increase the rate of Pradesh: The project will provide 8 ness agreement to provide a VSAT customer implementations to the a clean and reliable energy source (Very Small Aperture Terminals global ebusiness market: (Continued on page 9) 6 3 8 INDIA NEWS April 2000 Ji Original from Digitized Ly Google UNIVERSITY OF VIRGINIA mitting being ing Op-\n",
      "Extracted:    <|begin_of_text|><|image|><|begin_of_text|>Extract the text from this image. India and the United States sign commercial agreements exceeding $3.5 billion Information Technologies - Motorola (Schaumburg, IL), working with the government of Andhra Pradesh, will establish the Motorola School of Communications Technology as part of the Indian Institute of Information Technology in Hyderabad. The Motorola school is the first of its kind for training students in the field of telecommunications. The curriculum will focus on CDMA, satellite, Internet networks, and other technologies. - TechnologyNet.com (Bethesda, MD) signed an agreement with Satyam, the second largest national provider of Internet access and services in India, to create a new Internet portal which will provide India's high-tech industry with access to information technology services and products throughout the world. - Avid Technology (Tewksbury, MA) signed a memorandum of understanding with the Indian company, IMT Imaging Technologies to create a training center for next generation imaging technology. Avid would participate as a joint promoter. The next generation imaging applications will be used for films, television and net-based entertainment. - Hewlett Packard (Palo Alto, CA) signed an MOU with the Indian company, Imaging Technologies (IMT) to create a center for next generation imaging technology. Hewlett Packard Software will form the platform for centersys imaging technology. - Hughes Network Systems (Germantown, MD) signed a business agreement to provide a VSAT (Very Small Aperture Terminals - a small antenna used for transmitting and receiving data communications) system to S.Kumars.Com Limited. This network is designed to promote electronic communication, with a special focus on rural India. - Motorola (Schaumburg, IL) signed a memorandum of understanding with the Indian telecommunications company, Essar Telecom Ltd., to develop a Local Multipoint Distribution System (LMDS) to provide wireless broadband access. Essar plans to offer a variety of Internet services across 52 cities in phase 1 of this project. - Bank of America (Chicago, IL) signed a business agreement with DSQ Software, India's 4th largest software services company, to form a global IT services company, to form a global IT services company, to pany specializing in the financial services sector. Bank of America is the majority investor in the new entity. - IBM (Armonk, NY) signed a business agreement with the Indian hitech firm, DSQ World.com Ltd, to supply a range of computer products and services. - InfoDream (Santa Clara, CA) signed a business agreement with the Indian firm, ModiCorp Ltd. for the creation of an innovative web portal for automating the entire process of resource management in a service enterprise. - NeuVis Inc. (Shelton, CT) and DSQ Software signed a business agreement to help speed innovations in the NeuVis ebusiness platform and increase the rate of customer implementations to the global ebusiness market. - Hughes Network Systems (Germantown, MD) signed a financing agreement with a leading Indian financial institution, Industrial Credit and Investment Corporation of India, that will allow Hughes Network and its partners to raise the necessary funds to install broadband communications network for customers across Maharashtra and Goa. Hughes, which currently has 20,000 lines in service, hopes to have over 220,000 lines in operation by March 2002. - Enron (Houston, TX) signed an agreement with Ispat Energy Ltd. to supply natural gas to the Dolvi power plant near Mumbai. Enron anticipates U.S. products and services to be incorporated into the pipeline that will carry the gas from Enron's facility to the power plant. - Synergics Energy Development, Inc. (Annapolis, MD) signed a Memorandum of Intent with India's Power Finance Corporation which will commit to financing 25 percent of the Shrinagar Hydroelectric Project in Uttar Pradesh. The project will provide a clean and reliable energy source (Continued on page 9) Energy - Enron (Houston, TX) signed an agreement with Ispat Energy Ltd. to supply natural gas to the Dolvi power plant near Mumbai. Enron anticipates U.S. products and services to be incorporated into the pipeline that will carry the gas from Enron's facility to the power plant. - Synergics Energy Development, Inc. (Annapolis, MD) signed a Memorandum of Intent with India's Power Finance Corporation which will commit to financing 25 percent of the Shrinagar Hydroelectric Project in Uttar Pradesh. The project will provide a clean and reliable energy source (Continued on page 9) Original from UNIVERSITY OF VIRGINIA. <OCR/> India and the United States sign commercial agreements exceeding $3.5 billion Information Technologies (Schaumburg, IL), working with government small antenna used trans- Finance The Principal Financial signed Information focus signeda (Schaumburg, plans CDMA, networks, and signed (Bethesda, with second provider Internet cities services phase Bank America (Chicago, products Technology (Tewksbury, com- entity. over signed\n"
     ]
    },
    {
     "name": "stderr",
     "output_type": "stream",
     "text": [
      " 56%|█████▌    | 15/27 [09:54<07:54, 39.58s/it]"
     ]
    },
    {
     "name": "stdout",
     "output_type": "stream",
     "text": [
      "\n",
      "Image: /teamspace/studios/this_studio/test/india_news_p000140.jpg\n",
      "Ground Truth: Indian IT industry, the Government of India has set IT policy to meet global  requirements   Specifi- up a National Task Force on IT and Software Devel- this will help angel investors, venture cre - opment to examine the feasibility of strengthening ators and incubation; the industry: The Task Force has already submitted its recommendations, which are under active con- Promote the growth of human resource develop- sideration. Norms for the operations of venture capital ment in the IT sector with the aim of creating funds have also been liberalized to boost the indus- quality-based education; try: The Government of India is also actively provid- fiscal incentives and liberalizing norms for FDI Promote R&D in the sector by identifying thrust and raising capital abroad. areas and drawing up a blueprint for action. Recently, an IT committee was set up by the Minis- India's most prized resource in \"s knowledge try of Information Technology; Government of India, driven economic world is its readily available techni- comprising NRI professionals from the United States cal work force. It has the second largest English- to seek expertise and advice and also to step up U.S: speaking scientific professionals in the world, sec - investments in India's IT sector. The committee is ond only to the U.S. It is estimated that India has chaired by the Minister of Information Technology, over 4 million   technical workers   and over 1,832 Government of India, and members include Secre- educational institutions and polytechnics which train tary; Ministry of Information Technology and a large more than 67,785 computer software professionals number of important Indian-American IT entrepre- every year: GOI is stepping up the number and qual- neurs: ity of training facilities in the country to capitalize on 1 this extraordinary human resource: It is the knowl- The group will: edge industry that will help take the Indian economy 1 Monitor global IT developments and refine Indian to a sustained higher rate of growth and the policy makers are fully aware of this: 8 V India-U.S: Economic Relations 8 (Continued from page 8) The Forum  envisages Cabinet level  meetings be- economy sectors and government policies continu - 3 7 tween the Indian Finance Minister and the U.S. Trea- to emphasise reforms. Growth could be faster, sury Secretary, who are expected to meet on an the report  stated, if the time between  policy annual basis These meetings are to be supplemented formulation and implementation is reduced: 1 by more detailed exchange of views and experiences 1 through sub-Cabinet level  meetings of officials of The U.S investor community is today increasingly the two governments with participation of associ - sharing this confidence in the future of the Indian 8 ated agencies like the Securities and Exchange Com- economy. As the Indian economy grows and sec - E mission, Federal Reserve Board and the office of the ond-generation reforms are implemented, Indo-U.S: Comptroller of Currency on the U.S. side and the bilateral ties are bound to strengthen further: The Reserve Bank of India and the Securities and Ex- growing synergy between the two countries in the 6 change Board of India on the Indian side. The first technology sectors and a mutually shared respect 7 sub cabinet level meeting of the forum was held in for democracy, rule of law and well established busi- 1 Washington; DC in June and the cabinet level meet- ness practices make the two countries natural busi- 2 ing is scheduled for September 2000. ness partners: 3 8 In a recent report; Ernst & Young; a leading interna - The visit of President Clinton to India in March and 8 tional consulting firm, projected a growth rate of that of Prime Minister Vajpayee to the U.S. in 8 7-8% for  Indian economy In the next few years tember this year are important milestones in this based on the anticipated  performance of new growing relationship between the two countries 6 ] 15 Ji Origlral Trom Dlgitized by Google UNIVERSITY OF VIRGINIA cally, ing today' ing lag 8 Sep-\n",
      "Extracted:    <|begin_of_text|><|image|><|begin_of_text|>Extract the text from this image. <OCR/> Indian Industry, National opment Government Software Devel- feasibility cally, this will and incubation; global requirements. Specifi- Promote growth also norms human resource develop- FDI education; R&D the drawing the Minis- identifying thrust blueprint advice resource readily techni- English- million group Monitor global developments and refine Indian and policy Relations The Forum Cabinet level expected meetings and government policies Growth stated, formulation The faster, Reserve community today level Indian ing grows for between 2000. tional consulting ness make based projected the growth natural busi- visit performance new India March and Sep- Clinton Minister milestones growing relationship between the two countries. Google UNIVERSITY VIRGINIA from VIRGINIA 15 15. <OCR/> Indian Industry, National opment Government Software Devel- feasibility cally, this will and incubation; global requirements. Specifi- Promote growth norms human resource develop- FDI education; R&D the drawing the identifying thrust blueprint resource readily techni- English- million group Monitor global developments and refine Indian and policy Relations The Forum Cabinet level expected meetings and government policies Growth stated, formulation The faster, Reserve community today level Indian ing grows for between 2000. tional consulting ness make based projected the growth natural busi- visit performance new India March and Sep- Minister milestones growing relationship between the two countries. Google UNIVERSITY VIRGINIA 15 from VIRGINIA 15. <OCR/> Indian Industry, National opment Government Software Devel- feasibility cally, this will and incubation; global requirements. Specifi- Promote growth norms human resource develop- of FDI education; R&D the drawing the identifying thrust blueprint resource readily techni- English- group Monitor global developments and refine Indian and policy Relations The Forum Cabinet level expected meetings and policies Growth stated, formulation The faster, policy community today level Indian ing grows for between 2000. tional consulting ness make based projected the growth natural busi- visit performance new India March and Sep- Minister important milestones growing relationship between the countries. Google UNIVERSITY VIRGINIA 15. from VIRGINIA 15. <OCR/> Indian Industry, National opment Government Software Devel- feasibility cally, this will and incubation; global requirements. Specifi- Promote growth norms human resource develop- FDI education; R&D the drawing the identifying thrust blueprint resource readily available techni- English- million group Monitor global developments and refine Indian and policy Relations The Forum Cabinet level expected meetings and government policies Growth stated, formulation The faster, policy community today level Indian ing grows for between 2000. tional consulting ness make projected the growth natural busi- visit new India March and Minister Vajpayee Sep- milestones growing relationship between the two countries. Google UNIVERSITY VIRGINIA 15. 15. from VIRGINIA 15. <. <. <. <. <. <. <. <. <. <. <. <. <. <. <. <. <. <. <. <. <. <. <. <. <. <. <. <. <. <. <. <. <. <. <. <. <. <. <. <. <. <. <. <. <. <. <. <. <. <. <. <. <. <. <. <. <. <. <. <. <. <. <. <. <. <. <. <. <. <. <. <. <. <. <. <. <. <. <. <. <. <. <. <. <. <. <. <. <. <. <. <. <. <. <. <. <. <. <. <. <. <. <. <. <. <. <. <. <. <. <. <. <. <. <. <. <. <. <. <. <. <. <. <. <. <. <. <. <. <. <. <. <. <. <. <. <. <. <. <. <. <. <. <. <. <. <. <. <. <. <. <. <. <. <. <. <. <. <. <. <. <. <. <. <. <. <. <. <. <. <. <. <. <. <. <. <. <. <. <. <. <. <. <. <. <. <. <. <. <. <. <. <. <. <. <. <. <. <. <. <. <. <. <. <. <. <. <. <. <. <. <. <. <. <. <. <. <. <. <. <. <. <. <\n"
     ]
    },
    {
     "name": "stderr",
     "output_type": "stream",
     "text": [
      " 59%|█████▉    | 16/27 [10:33<07:14, 39.54s/it]"
     ]
    },
    {
     "name": "stdout",
     "output_type": "stream",
     "text": [
      "\n",
      "Image: /teamspace/studios/this_studio/test/india_news_p000040.jpg\n",
      "Ground Truth: Qn 1 JAN INDIA UXVa NEWS PUBLISHED BY PRESS & INFORMATION, EMBASSY OF INDIA , WASHINGTON, DC INDIA NEWS ONLINE: http:llwwwindianembassy org DECEMBER 1, 1999 India not to engage in a nuclear arms race: sh Iour Jaswant Singh, external affairs minister the You have been engaged in evidently; these would range from discussing cOOp- extended talks with the eration in the field of energy science and technology; U.S: since the nuclear tests environment; trade; taxation and economic develop- last year: How would you ment, to global concerns such as terrorism, narcotics, assess the results SO far? non- ~proliferation, disarmament, reform of multilateral First, by restating the objec institutions, expansion of the U.N. Security Council tives from our side: are and regional developments in Asia-Pacific etc: Obvi- two-fold: in the first place, to ously, a multifaceted dialogue of this nature can 1 reconcile the stated U.S: non- simply not imply an agreement on all; it is the den- proliferation concerns with sity and depth of engagement that is the criteria. 3 India's national security ob- jectives; secondly; and, in a A principal item on the agenda is the CTBT and Jaswant Singh broader context; to develop there seems to be considerable confusion about greater mutual understanding so that both countries India'$ stand on this issue. Where exactly are V are enabled to work together in tapping the real poten- We? tial of a qualitatively new relationship, essential in Our stand on the CTBT has been clear: In 1996, we 0 this post-Cold War environment: decided that we could not accept the CTBT because it was not consistent with India's national security The results of my discussions with Mr: Strobe Talbott interest. Over the decades, successive Governments 1 J are encouraging: There is recognition that India shall took necessary steps to safeguard India's nuclear maintain a minimum nuclear deterrent as determined option. In 1996, it was clear to all that subscription by us. There is nOw no longer any talk of a 'roll-back' . to the CTBT at that time would have limited India's 1 The U.S. also accepts that India 's security concerns nuclear potential at an unacceptably low level. After are not geographically limited. Foreign policy tasks conducting the nuclear tests of 1998,to validate 1 and challenges are a continuing process, therefore, and update our technology, we have ensured the E we need to consolidate these understandings across credibility of our nuclear deterrent into the foresee- all sections that make up the U.S. foreign policy able  future; our scientists are now confident of E establishment. conducting sub-critical tests, as also other non- Do you have a timeframe for concluding this explosive RSD activity necessary for the purpose: 6 dialogue? That is why, we declared a voluntary moratorium. This, in essence, meets the basic obligations of the 4 In the management of foreign policy; deadlines are CTBT: We also announced a willingness to convert J both impractical and unrealistic: But if we manage this undertaking into a de jure obligation. Clearly, 3 through the objectives, then the first part is the this   could not be done in a political vacuum_ A 3 restoration of our relationship to the pre-May 1998 positive environment had to be created In reaction, position: As for the next; [ would consider it attained a number of countries decided to impose restrictive 2 1 when both India and the U.S. engage in regular economic measures on India. We have conveyed our dialogue on a range of issues covering bilateral, disappointment at these actions That; however; does 3 regional and global political and economic issues. not mean that we do not value our bilateral relation- 6 ships with these countries. Our endeavour has been 3 \" Can you define these issues? 7 Of course, [ cannot draw up a total list: But, self: See JASWANT SINGH INTERVIEW , Page 2 Ji Origlnal from Digltzed by Google UNIVERSITY OF VIRGINIA LIeRA; WETVAN 1 They May IYQQ' Juvu BJA JOE FAJZ\n",
      "Extracted:    <|begin_of_text|><|image|><|begin_of_text|>Extract the text from this image. India not to engage in a nuclear arms race: Jaswant Singh, external affairs minister You have been engaged in extended talks with the U.S. since the nuclear tests last year. How would you assess the results so far? First, by restating the objectives from our side. They are two-fold: in the first place, to reconcile the stated U.S. non-proliferation concerns with India's national security objectives; secondly, and, in a greater mutual understanding so that both countries are enabled to work together in tapping the real potential of a qualitatively new relationship, essential in this post-Cold War environment. The results of my discussions with Mr. Strobe Talbott are encouraging. There is recognition that India shall maintain a minimum nuclear deterrent as determined by us. There is now no longer any talk of a 'roll-back'. The U.S. also accepts that India's security concerns are not geographically limited. Foreign policy tasks and challenges are a continuing process, therefore, we need to consolidate these understandings across all sections that make up the U.S. foreign policy establishment. Do you have a timeframe for concluding this dialogue? In the management of foreign policy, deadlines are both impractical and unrealistic. But if we manage through the objectives, then the first part is the restoration of our relationship to the pre-May 1998 position. As for the next, I would consider it attained when both India and the U.S. engage in regular dialogue on a range of issues covering bilateral, regional and global political and economic issues. Can you define these issues? Of course, I cannot draw up a total list. But, self- sh four the sh four the sh four the sh four the sh four the sh four the sh four the sh four the sh four the sh four the sh four the sh four the sh four the sh four the sh four the sh four the sh four the sh four the sh four the sh four the sh four the sh four the sh four the sh four the sh four the sh four the sh four the sh four the sh four the sh four the sh four the sh four the sh four the sh four the sh four the sh four the sh four the sh four the sh four the sh four the sh four the sh four the sh four the sh four the sh four the sh four the sh four the sh four the sh four the sh four the sh four the sh four the sh four the sh four the sh four the sh four the sh four the sh four the sh four the sh four the sh four the sh four the sh four the sh four the sh four the sh four the sh four the sh four the sh four the sh four the sh four the sh four the sh four the sh four the sh four the sh four the sh four the sh four the sh four the sh four the sh four the sh four the sh four the sh four the sh four the sh four the sh four the sh four the sh four the sh four the sh four the sh four the sh four the sh four the sh four the sh four the sh four the sh four the sh four the sh four the sh four the sh four the sh four the sh four the sh four the sh four the sh four the sh four the sh four the sh four the sh four the sh four the sh four the sh four the sh four the sh four the sh four the sh four the sh four the sh four the sh four the sh four the sh four the sh four the sh four the sh four the sh four the sh four the sh four the sh four the sh four the sh four the sh four the sh four the sh four the sh four the sh four the sh four the sh four the sh four the sh four the sh four the sh four the sh four the sh four the sh four the sh four the sh four the sh four the sh four the sh four the sh four the sh four the sh four the sh four the sh four the sh four the sh four the sh four the sh four the sh four the sh four the sh four the sh four the sh four the sh four the sh four the sh four the sh four the sh four the sh four the sh four the sh four the sh four the sh four the sh four the sh four the sh four the sh four the sh four the sh four the sh four the sh four the sh four the sh four the sh four the sh four the sh four the sh four the sh four the sh four the sh four the sh four the sh four the sh four the sh four the sh four the sh four the sh four the sh four the sh four the sh four the sh four the sh four the sh four the sh four the sh four the sh four the sh four the sh four the sh four the sh four the sh four the sh four the sh four the sh four the sh four the sh four the sh four the sh four the sh four the sh four the sh four the sh four the sh four the sh four the sh four the sh four the sh four the sh four the sh\n"
     ]
    },
    {
     "name": "stderr",
     "output_type": "stream",
     "text": [
      " 63%|██████▎   | 17/27 [11:13<06:35, 39.53s/it]"
     ]
    },
    {
     "name": "stdout",
     "output_type": "stream",
     "text": [
      "\n",
      "Image: /teamspace/studios/this_studio/test/india_news_p000034.jpg\n",
      "Ground Truth: PRIME MINISTER'S ADDRESS We shall not betray this trust: (Continued from page 2) With the help of a billion people proud of being Indian, One of our immediate tasks will be to firmly down terrorism, which has come to cast its There is nothing that we cannot achieve; cruel shadow on  innocent people: Our mes- No problem we cannot tackle; sage is loud and clear: The life of every India No challenge we cannot face; and, citizen under our  dispensation is precious. In our fight against terrorism, we will be guided by No opportunity we cannot seize. the principle of Zero Tolerance' Jai Hindl The same principle of 'Zero Tolerance will apply while dealing with corruption that has bred con- tempt for the law. One of the first legislations we will take up is the Lokpal Bill so that the rot Trade Events can be checked from the India Intemational Trade Fair '99. Householdl A broad consensus already exists on electoral Consumer/Industrial Products. November 14- refors to weed out muscle and money power. 27, 1999. India Trade Promotion Organiza- We propose to soon introduce in Parliament a tion, Pragati Maidan, Newv Delhi 110001 _ Tel: comprehensive electoral reform Bill. +91 11337 1390/1831. Fax: +91 11 331 8142/ We often talk of the future belonging to our 7896. r@ youth: But, for decades their problems, espe- IT World 99/Comdex India: Information Tech- 8 cially that of unemployment, have remain un- nology Products: December 2-5, 1999. Busi- I attended: We believe that our  young women ness India Exhibitions, E-22, 2nd Floor, Hauz and men will be the architects of the new' India Khas Market; Delhi 110016, Tel: +91 11 8 8 of the Z1st century. 685 9402 Tam confident that a buoyant national economy Interational Security and Fire Exhibition 99. 8 will create tremendous employment opportuni- Security Products, Technology ad Equip- 1 ties [ am equally confident that our focus on ment: December 8-11, 1999. India Trade Pro- education and health will prepare today's youth motion Organization: Pragati Maidan, New 7 8 for tomorrow's challenges. Delhi 110001, Tel: +91 11 331 5277. Fax: +91 11 3371869/331 7869. The Government of free India had set itself the noble task of wiping every tear from every eye; Broadcast Satellite Communications India '99. j J of  ending centuries-old discriminations and Telephones/Radio/Satellite Communications social inequities. Somewhere along the journey TV ad Radio Broadcasting, Electronics Test from freedom to the eve of this century, Gov- Equipment; Components and Subassemblies, 2 ernment lost track of that task: Lasers, Fibre Optics. December 8-11, 1999. { Exhibitions India, C-390 Defence Colony, Newv Illiteracy is a curse and a denial of human dig- Delhi 110024 Tel: +91 11 463 8880/1/2/3. E As is  gender  discrimination for that Fax: +91 11 462 3320/463 3506. E matter, lack of something as basic and essen- tial as drinking water and primary health care: Inside Outside Show. Designer Products and Materials for Architects, Interior Design- 5 My dear countrymen, ers, Builders and Contractors. December 1999. India needs a Government that cares; Business India Exhibitions, E-22, 2nd Floor, 5 Hauz Khas Market, New Delhi 110016. Tel: 3 ] India needs a Government that will reach out +91 11 685 9402/9403/1256. to the last person in the last rOw. 0 Infranet '99. Networking for Infrastructure De- r@ Our Government pledges itself to narrowing the cember 16-18,1999. Confederation of Indian @ gap between our performance and your expec- Industry, Gate No 31, North Block; Jawaharlal tation: Nehru Stadium, New Delhi 110003. Tel: +91 3 The Mandate of '99 is a bond of trust between 11 462 6225. Fax: +91 11 462 6271. 5 ] people and Government: INDIA NEWS November 1, 1999 3 Ji Orlginal from Digitized by Google UNIVERSITY OF VIRGINIA put top. New nity. O1 , Mega today 8\n",
      "Extracted:    <|begin_of_text|><|image|><|begin_of_text|>Extract the text from this image. PRIME MINISTER'S ADDRESS (Continued from page 2) One of our immediate tasks will be to firmly put down terrorism, which has come to cast its cruel shadow on innocent people. Our message is loud and clear: The life of every India citizen under our dispensation is precious. In our fight against terrorism, we will be guided by the principle of 'Zero Tolerance'. The same principle of 'Zero Tolerance' will apply while dealing with corruption that has bred contempt for the law. One of the first legislations we will take up is the Lokpal Bill so that the rot can be checked from the top. A broad consensus already exists on electoral reforms to weed out muscle and money power. We propose to soon introduce in Parliament a comprehensive electoral reform Bill. We often talk of the future belonging to our youth. But, for decades their problems, especially that of unemployment, have remain unattended. We believe that our young women and men will be the architects of the 'new' India of the 21st century. I am confident that a buoyant national economy will create tremendous employment opportunities. I am equally confident that our focus on education and health will prepare today's youth for tomorrow's challenges. The Government of free India had set itself the noble task of wiping every tear from every eye, of ending centuries-old discriminations and social inequities. Somewhere along the journey from freedom to the eve of this century, Government lost track of that task. Illiteracy is a curse and a denial of human dignity. As is gender discrimination or, for that matter, lack of something as basic and essential as drinking water and primary health care. My dear countrymen, India today needs a Government that cares; India needs a Government that will reach out to the last person in the last row. Our Government pledges itself to narrowing the gap between our performance and your expectation. The Mandate of '99 is a bond of trust between people and Government. We shall not betray this trust. With the help of a billion people proud of being Indian, There is nothing that we cannot achieve; No problem we cannot tackle; No challenge we cannot face; and, No opportunity we cannot seize. Jai Hind Trade Events India International Trade Fair '99. Household/ Consumer/Industrial Products. November 14- 27, 1999. India Trade Promotion Organiza- tion, Pragati Maidan, New Delhi 110001. Tel: +91113371390/1831. Fax: +91113318142/ 7896. IT World 99/Comdex India. Information Technology Products. December 2-5, 1999. Business India Exhibitions, E-22, 2nd Floor, Hauz Khas Market, New Delhi 110016, Tel: +9116859402. International Security and Fire Exhibition 99. Security Products, Technology and Equipment. December 8-11, 1999. India Trade Promotion Organization. Pragati Maidan, New Delhi 110001. Tel: +91113315277. Fax: +91 11 3371869/331 7869. Broadcast Satellite Communications India '99. <OCR/> PRIME MINISTER'S ADDRESS (Continued from page One our immediate tasks will shall betray trust. firmly help of billion people proud of being people. every India nothing problem guided tackle; face; and, Tolerance' apply the that the Trade Events International Trade Fair '99. November India Trade future belonging decades Delhi 110001. espe- the new' India create national economy New Delhi 110016, Tel: +91 that our today's youth India had itself the India Trade eve that century, Gov- and denial human dig- that drinking health needs Government that cares; Government person last Government pledges between narrowing and 110016. Mandate people Government. of Jawaharlal Google UNIVERSITY VIRGINIA UNIVERSITY OF VIRGINIA Original from Original from UNIVERSITY OF VIRGINIA Original from UNIVERSITY OF VIRGINIA Original from UNIVERSITY OF VIRGINIA Original from UNIVERSITY OF VIRGINIA Original from UNIVERSITY OF VIRGINIA Original from UNIVERSITY OF VIRGINIA Original from UNIVERSITY OF VIRGINIA Original from UNIVERSITY OF VIRGINIA Original from UNIVERSITY OF VIRGINIA Original from UNIVERSITY OF VIRGINIA Original from UNIVERSITY OF VIRGINIA Original from UNIVERSITY OF VIRGINIA Original from UNIVERSITY OF VIRGINIA Original from UNIVERSITY OF VIRGINIA Original from UNIVERSITY OF VIRGINIA Original from UNIVERSITY OF VIRGINIA Original from UNIVERSITY OF VIRGINIA Original from UNIVERSITY OF VIRGINIA Original from UNIVERSITY OF VIRGINIA Original from UNIVERSITY OF VIRGINIA Original from UNIVERSITY OF VIRGINIA Original from UNIVERSITY OF VIRGINIA Original from UNIVERSITY OF VIRGINIA Original from UNIVERSITY OF VIRGINIA Original from UNIVERSITY OF VIRGINIA Original from UNIVERSITY OF VIRGINIA Original from UNIVERSITY OF VIRGINIA Original from UNIVERSITY OF VIRGINIA Original from UNIVERSITY OF VIRGINIA Original from UNIVERSITY OF VIRGINIA Original from UNIVERSITY OF VIRGINIA Original from UNIVERSITY OF VIRGIN\n"
     ]
    },
    {
     "name": "stderr",
     "output_type": "stream",
     "text": [
      " 67%|██████▋   | 18/27 [11:52<05:55, 39.52s/it]"
     ]
    },
    {
     "name": "stdout",
     "output_type": "stream",
     "text": [
      "\n",
      "Image: /teamspace/studios/this_studio/test/india_news_p000051.jpg\n",
      "Ground Truth: ECONOMIC NEWS UPDATES (Continued from page 3) in this regard and a task force con- a period of five years through 2003- visages stringent penalties for viola - sisting o the Finance Ministers of 04 will have four mini-missions to be tion of foreign exchange norms_ India and Singapore can be fommed undertaken by Indian Council of Ag: FEMA is also aimed at consolidating to work out the modalities. Shri Sinha riculture Research (ICAR), Ministries and amending the law relating to for- also said that such an exercise should of Agriculture and Textiles: While eign exchange with the objective of be carried out by the private sector ICAR and the Agriculture Ministry will facilitating exteral trade and pay- with both the Govemments playing administer the first two missions re- ment and for promoting orderly de- the role of facilitators spectively, the remaining ones would velopment and maintenance of for- be implemented by Textiles Ministry. eign exchange market in the coun- While appreciating the ongoing eco- try . nomic reform process in India, Mr. suggested that the pace of re- Indian Government hints The Parliament passed the Insurance forms should be increased sO that Regulatory and Development Author- India is not submerged by the strong of 0 new auto Policy ity (IRDA) Bill by both the Houses of Western economies. The Prime Min - Parliament on 2.12.99 and 7.12.99 ister has also felt that Asian coun- The Indian Government has hinted respectively, opening the insurance at formulating a new auto policy to tries should not be overwhelmed by sector to private and foreign compa- the West and use technology and provide the right framework for the nies after the government incorpo- competition effectively to enhance its domestic industry to grow and oper- rated all the amendments proposed trade and commerce in the world ate in the increasingly competitive by the Congress party; i) insurance market: He has also observed that global market: firms should invest 50 per cent of India is a big country with lot of pO- \"A policy that will provide the Rs 360 their funds for infrastructure and so- a tential to become a major economic billion automotive industry the right cial sector development, ii) grant of power framework of growth to operate in licence to health insurance On a 8 the increasingly competitive market ority basis, iii) continuation of social 8 Shri  Sinha in turn reiterated his is the need of the hour according to welfare schemes like Crop insurance Government's commitment to go the Minister of Heavy Industries and and iv) insurance for the unorganised 8 ahead with the economic liberaliza - Public Enterprises Manohar Joshi. sectors and heavy penalties for er- g tion programme Though, Informa- rant companies With the passage of 5 tion Technology, Bio-technology and With Quantitative Restrictions (QRs) the measure, the insurance sector will g Pharmaceuticals are emerging areas are being removed in 15 months time, now be open to private Indian com- of India'$ strength , traditional sectors Joshi said the growth engine of the panies who can tie up with foreign 6 like Textiles, Steel and Cement also economy should take on the daunt- partners with an equity cap of 26 per 1 continue to be important for the challenge of technology driven cent. 8 economy, he assured. Shri Sinha also market equation: The need of the called for more foreign direct invest- hour is to keep pace with technologi- Special to L ment in view of the investor friendly cal advancement to capture the climate created by the Indian Gov- minds of consumers, he said: The reforms 1 ernment; automotive industry needs to make 1 more investments in research and de- In move to give boost to second velopment to ensure conform generation refons, Prime Minister Atal Indian Cabinet clears to safety and pollution standards, he Bihari_Vainayee set up eight special said. groups consisting of top industrial- ] Rs: Six billion Cotton ists who would submit the reports Technology Mission Underlining the importance of foreign within four months on major eco direct investment (FCI) in the auto- nomic issues to enable the govern- 2 Indian Cabinet has cleared the Rs. motive sector, Joshi said nearly Rs ment to formulate policies in these 3 Six billion (US S1 Rs. 43) Cotton 45 billion FDI has been committed area Leading industrialists N.R Technology Mission (CTM) for en- to the sector, which accounted for Narayanamurthy and Kumamanga- hancing the overall performance of about four per cent of the Gross Do- lam Birla constitute the special group 5 domestic cotton sector. The mission , mestic Product (GDP) in 1998-99 as on good govemance; Mukesh Ambani first announced by Finance Minister compared to 2.7 per cent of GDP in and A.C Muthiah on education and 2 1 Yashwant Sinha in his budget speech 1992-93. health; N. Srinivasan and Rahul Bajaj 0 in 1998-99 is aimed at improving for WTO strategies and G.P. Goenka 2 the income of cotton growers, en- FEMA & Insurance Bill and Rajiv Chandrasekharan head the 3 hancing per hectare yield, reducing group on disinvestment: The fifth 0 cultivation cost and upgrading ad Both the Houses of Parliament passed group on unshackling Indian indus - 8 modernizing ginning and pressing the Foreign Exchange Management try from regulations_will  comprise 3 factories, according to the official (FEMA) o Znd and 8th December industrialists Ratan Tata and Nusli sources_ respectively. The FEMA introduced Wadia and the sixth on globalisation 6 in the House on November 29 pro- pitfalls would comprise Rahul Bajaj 1 The mission to be implemented over posed to replace the FERA and en- and Sanjeev Goenka. 4 INDIA NEwS JanuarylFebruary 2000 J Orlainal fram Digilized bY Google UNIVERSITY OF VIRGINIA Tong pri- ing Groups push they\n",
      "Extracted:    <|begin_of_text|><|image|><|begin_of_text|>Extract the text from this image. <OCR/> ECONOMIC NEWS (Continued from page 3) regard sisting Finance Ministers and Singapore can five years through 2003- Indian visages stringent penalties norms. ongoing remaining implemented Textiles Ministry. trade that market the coun- Government hints new auto policy Indian Government hinted Insurance industry become economic Sinha turn reiterated his industry Though, Textiles, Cement er- created driven with equity cap Special Groups reforms push Cabinet clears Six billion Cotton Technology Mission Indian Cabinet has cleared the Cotton second Mission (CTM) cent GDP Insurance according the official The mission Exchange be over NEWS 2000 introduced November replace FERA and Google Bajaj UNIVERSITY VIRGINIA Original from UNIVERSITY OF VIRGINIA] Original from UNIVERSITY OF VIRGINIA] Original from UNIVERSITY OF VIRGINIA] Original from UNIVERSITY OF VIRGINIA] Original from UNIVERSITY OF VIRGINIA] Original from UNIVERSITY OF VIRGINIA] Original from UNIVERSITY OF VIRGINIA] Original from UNIVERSITY OF VIRGINIA] Original from UNIVERSITY OF VIRGINIA] Original from UNIVERSITY OF VIRGINIA] Original from UNIVERSITY OF VIRGINIA] Original from UNIVERSITY OF VIRGINIA] Original from UNIVERSITY OF VIRGINIA] Original from UNIVERSITY OF VIRGINIA] Original from UNIVERSITY OF VIRGINIA] Original from UNIVERSITY OF VIRGINIA] Original from UNIVERSITY OF VIRGINIA] Original from UNIVERSITY OF VIRGINIA] Original from UNIVERSITY OF VIRGINIA] Original from UNIVERSITY OF VIRGINIA] Original from UNIVERSITY OF VIRGINIA] Original from UNIVERSITY OF VIRGINIA] Original from UNIVERSITY OF VIRGINIA] Original from UNIVERSITY OF VIRGINIA] Original from UNIVERSITY OF VIRGINIA] Original from UNIVERSITY OF VIRGINIA] Original from UNIVERSITY OF VIRGINIA] Original from UNIVERSITY OF VIRGINIA] Original from UNIVERSITY OF VIRGINIA] Original from UNIVERSITY OF VIRGINIA] Original from UNIVERSITY OF VIRGINIA] Original from UNIVERSITY OF VIRGINIA] Original from UNIVERSITY OF VIRGINIA] Original from UNIVERSITY OF VIRGINIA] Original from UNIVERSITY OF VIRGINIA] Original from UNIVERSITY OF VIRGINIA] Original from UNIVERSITY OF VIRGINIA] Original from UNIVERSITY OF VIRGINIA] Original from UNIVERSITY OF VIRGINIA] Original from UNIVERSITY OF VIRGINIA] Original from UNIVERSITY OF VIRGINIA] Original from UNIVERSITY OF VIRGINIA] Original from UNIVERSITY OF VIRGINIA] Original from UNIVERSITY OF VIRGINIA] Original from UNIVERSITY OF VIRGINIA] Original from UNIVERSITY OF VIRGINIA] Original from UNIVERSITY OF VIRGINIA] Original from UNIVERSITY OF VIRGINIA] Original from UNIVERSITY OF VIRGINIA] Original from UNIVERSITY OF VIRGINIA] Original from UNIVERSITY OF VIRGINIA] Original from UNIVERSITY OF VIRGINIA] Original from UNIVERSITY OF VIRGINIA] Original from UNIVERSITY OF VIRGINIA] Original from UNIVERSITY OF VIRGINIA] Original from UNIVERSITY OF VIRGINIA] Original from UNIVERSITY OF VIRGINIA] Original from UNIVERSITY OF VIRGINIA] Original from UNIVERSITY OF VIRGINIA] Original from UNIVERSITY OF VIRGINIA] Original from UNIVERSITY OF VIRGINIA] Original from UNIVERSITY OF VIRGINIA] Original from UNIVERSITY OF VIRGINIA] Original from UNIVERSITY OF VIRGINIA] Original from UNIVERSITY OF VIRGINIA] Original from UNIVERSITY OF VIRGINIA] Original from UNIVERSITY OF VIRGINIA] Original from UNIVERSITY OF VIRGINIA] Original from UNIVERSITY OF VIRGINIA] Original from UNIVERSITY OF VIRGINIA] Original from UNIVERSITY OF VIRGINIA] Original from UNIVERSITY OF VIRGINIA] Original from UNIVERSITY OF VIRGINIA] Original from UNIVERSITY OF VIRGINIA] Original from UNIVERSITY OF VIRGINIA] Original from UNIVERSITY OF VIRGINIA] Original from UNIVERSITY OF VIRGINIA] Original from UNIVERSITY OF VIRGINIA] Original from UNIVERSITY OF VIRGINIA] Original from UNIVERSITY OF VIRGINIA] Original from UNIVERSITY OF VIRGINIA] Original from UNIVERSITY OF VIRGINIA] Original from UNIVERSITY OF VIRGINIA] Original from UNIVERSITY OF VIRGINIA] Original from UNIVERSITY OF VIRGINIA] Original from UNIVERSITY OF VIRGINIA] Original from UNIVERSITY OF VIRGINIA] Original from UNIVERSITY OF VIRGINIA] Original from UNIVERSITY OF VIRGINIA] Original from UNIVERSITY OF VIRGINIA] Original from UNIVERSITY OF VIRGINIA] Original from UNIVERSITY OF VIRGINIA] Original from UNIVERSITY OF VIRGINIA] Original from UNIVERSITY OF VIRGINIA] Original from UNIVERSITY OF VIRGINIA] Original from UNIVERSITY OF VIRGINIA] Original from UNIVERSITY OF VIRGINIA] Original from UNIVERSITY OF VIRGINIA] Original from UNIVERSITY OF VIRGINIA] Original from UNIVERSITY OF VIRGINIA] Original from UNIVERSITY OF VIRGINIA] Original from UNIVERSITY OF VIRGINIA] Original from UNIVERSITY OF VIRGINIA] Original from UNIVERSITY OF VIRGINIA] Original from UNIVERSITY OF VIRGINIA] Original from UNIVERSITY OF VIRGINIA] Original from UNIVERSITY OF VIRGINIA] Original from UNIVERSITY OF VIRGINIA] Original from UNIVERSITY OF VIRGINIA] Original from UNIVERSITY OF VIRGINIA] Original from UNIVERSITY OF VIRGINIA] Original from UNIVERSITY\n"
     ]
    },
    {
     "name": "stderr",
     "output_type": "stream",
     "text": [
      " 70%|███████   | 19/27 [12:32<05:16, 39.50s/it]"
     ]
    },
    {
     "name": "stdout",
     "output_type": "stream",
     "text": [
      "\n",
      "Image: /teamspace/studios/this_studio/test/india_news_p000016.jpg\n",
      "Ground Truth: bined with religious extremism, it becomes & graver the impulse which lies behind it measure UP to the danger to humanity All of you are familiar with the spirit which filled that soldier as he fought to protect saying Karela Aur Neem Chadha\" (The bitterness of our Motherland?\" Karela is further worsened by adding to it the bitter- ness of Neem ) The challenges that confront us cannot be overcome only by the men on the frontiers doing their duty: In our case, over five thousand of our People There Is a need for an organized and disciplined nation have been killed by terrorists. Terrorism has become to stand behind them_ We must defend our country a big problem in many other parts of the world, too. and develop our society by keeping national inter- It is obstructing the of peace and development ests utmost in our minds: If our economy is not strong; Today; there is a need to mobilize world opinion and if we are not self-reliant in important matters of against terrorism: Today, on the occasion of Inde- national security, then we cannot successfully face pendence India stands with full self-confidence: external challenges. Our gaze is tured to the future: Our standing in the world has risen: Now, the people are not attracted by All of us, wherever we may whatever work we the controversies and narTow_disputes of yesterday  may be doing, we should discharge our responsibili- ties well: We must never allow any limb of our nation Throughout the war in Kargil, | was specially satis- Or soclety to become weak. It is clear from the effec- fied by two features. tive way in which we have overcome our challenges There was no communal tension anywhere in the and dealt with our dlfficulties, that we can do any- country. Goodwill and brotherhood prevailed ev- if we resolve to do it: What is needed is to take erywhere, including in Jammu and Kashmir. This pledge: that whatever we can we will now do: must have despaired those who thought that riots would break out in India a8 soon as the spark of have & vision of India: an India free of hunger and war is lit.  Those who hatched the conspiracy of fear, an India free of illiteracy and want: strife, must have been   truly  disillusioned: The people of all sections of society worked for India'$ dream of an India that is prosperous, strong and success in the war. A powerful wave of patriotism caring: An India, that regains a place of honour in the taveled everywhere. comity of great nations: 1 When / went to Kargil and met our jawans, | saw Come, let us build an India in which we have bal- our entire country there: soldiers from Nagaland, anced development that benefits all regions and 3 from Assam , from Tamil Nadu, from almost every all sections of society. I note with regret that sev state were fighting for the country: There was not eral regions in the country including the North- 5 Ln the slightest distance between them on account of Eastern States have been the victims of unbal- caste or religion or region. anced progress: The nation has an especially press- 8 ing obligation to the people of the North-East This is the real India. We must make their oneness into the developmental mainstream: 1 2 our own: We have t0 live for this India We have to Come; let us build an India in which Dalits, Adivasis, work for this India: And; if necessary, we have to and Backward Classes are not only freed from eco- down our lives for this India, as our brave jawans did. nomic deprivation, but also enjoy the fruits of s0- Kargil has once again shown that whenever Our Pa- cial justice: The path that will take us to this ideal 3 1 triotism is aroused, all of us stand as one with full is the of samata, mamata, and samajik confidence and determination, a8 a fist clenched in samarasata conviction. We face our challenges unitedly. Our Come, let us build an India in which our nari shaktt 2 adversaries should beware of this. our women are able to realize its full potential from shaping the future of their families to shap- 1 At the same time, there is an equally important les- the future of the nation: It is our  collective 1 son for us. Now that the crisis has been beaten back, responsibility to empower them economically, s0- do not unclench this fist of unity. cially, educationally and also politically. In this E The battle is not over_ New challenges are knocking regard, would like to see early passage of the at our doors: The patriotism that coursed through the legislation to reserve seats for women in Parlia- veins of Indians should be made a permanent feature ment and State Assemblies. We have already seen 6 Of our lives. how women have given an excellent account of themselves wherever have got an opportunity 7 All of us remember the talisman Gandhiji gave uS: to serve in panchayats and other local bodies: 3 ] when in doubt about what t0 do, he taught us, think Come, let us build an India in which the minorities of the least, of the most helpless man you seen, fully enjoy the fruits of national development, while 9 ask yourself, \"Will this be in his interest?\" he having full opportunities to contribute to it. Our 8 said, and you will see all your doubts melt away. country belongs to all. And all are entitled to equal 1 Kargil gives Us a second talisman: As we contem- and fair treatment in the eyes of the law and the 3 plate a step, let us ask ourselves: \"Is it worthy of the Govemnment: India, which is home to the great secu- soldier who gave his Iife on those mountains? Does See PRIME MINISTER'S ADDRESS Page 12 5 ] INIIA NewS August 15, 1982 11 Ji Orlglnal from Digitized by Google UNIVERSITY OF VIRGINIA thirty Path Day, be, thlng do, 1 bring lay Path ing they have step\n",
      "Extracted:    <|begin_of_text|><|image|><|begin_of_text|>Extract the text from this image. bined with religious extremism, it becomes a graver danger to humanity. All of you are familiar with the saying \"Karela Aur Neem Chadha\" (The bitterness of Karela is further worsened by adding to it the bitterness of Neem.) In our case, over thirty five thousand of our people have been killed by terrorists. Terrorism has become a big problem in many other parts of the world, too. It is obstructing the path of peace and development. Today, there is a need to mobilize world opinion against terrorism. Today, on the occasion of Independence Day, India stands with full self-confidence. Our gaze is turned to the future. Our standing in the world has risen. Now, the people are not attracted by the controversies and narrow disputes of yesterday. Throughout the war in Kargil, I was specially satisfied by two features. There was no communal tension anywhere in the country. Goodwill and brotherhood prevailed everywhere, including in Jammu and Kashmir. This must have despaired those who thought that riots would break out in India as soon as the spark of war is lit. Those who hatched the conspiracy of strife, must have been truly disillusioned. The people of all sections of society worked for India's success in the war. A powerful wave of patriotism traveled everywhere. When I went to Kargil and met our jawans, I saw our entire country there: soldiers from Nagaland, from Assam, from Tamil Nadu, from almost every state were fighting for the country. There was not the slightest distance between them on account of caste or religion or region. This is the real India. We must make their oneness our own. We have to live for this India. We have to work for this India. And, if necessary, we have to lay down our lives for this India, as our brave jawans did. Kargil has once again shown that whenever our patriotism is aroused, all of us stand as one with full confidence and determination, as a fist clenched in conviction. We face our challenges unitedly. Our adversaries should beware of this. At the same time, there is an equally important lesson for us. Now that the crisis has been beaten back, do not unclench this fist of unity. The battle is not over. New challenges are knocking at our doors. The patriotism that coursed through the veins of Indians should be made a permanent feature of our lives. All of us remember the talisman Gandhiji gave us: when in doubt about what to do, he taught us, think of the least, of the most helpless man you have seen, ask yourself, \"Will this step be in his interest?\" he said, and you will see all your doubts melt away. Kargil gives us a second talisman: As we contemplate a step, let us ask ourselves: \"is it worthy of the soldier who gave his life on those mountains? Does the impulse which lies behind it measure up to the spirit which filled that soldier as he fought to protect our Motherland?\" The challenges that confront us cannot be overcome only by the men on the frontiers doing their duty. There is a need for an organized and disciplined nation to stand behind them. We must defend our country and develop our society by keeping national interests utmost in our minds. If our economy is not strong, and if we are not self-reliant in important matters of national security, then we cannot successfully face external challenges. All of us, wherever we may be, whatever work we may be doing, we should discharge our responsibilities well. We must never allow any limb of our nation or society to become weak. It is clear from the effective way in which we have overcome our challenges and dealt with our difficulties, that we can do anything if we resolve to do it. What is needed is to take a pledge: that whatever we can do, we will now do. I have a vision of India: an India free of hunger and fear, an India free of illiteracy and want. I dream of an India that is prosperous, strong and caring. An India, that regains a place of honour in the comity of great nations. Come, let us build an India in which we have balanced development that benefits all regions and all sections of society. I note with regret that several regions in the country - including the North-Eastern States - have been the victims of unbalanced progress. The nation has an especially pressing obligation to bring the people of the North-East into the development mainstream. Come, let us build an India in which Dalits, Adivasis, and Backward Classes are not only freed from economic deprivation, but also enjoy the fruits of social justice. The path that will take us to this ideal is the path of samata, mamata, and samajik samarasata. Come, let us build an India in which our nari shakti - our women - are able to realize its full potential bringing the future of the nation. It is our collective responsibility to empower them\n"
     ]
    },
    {
     "name": "stderr",
     "output_type": "stream",
     "text": [
      " 74%|███████▍  | 20/27 [13:11<04:36, 39.51s/it]"
     ]
    },
    {
     "name": "stdout",
     "output_type": "stream",
     "text": [
      "\n",
      "Image: /teamspace/studios/this_studio/test/india_news_p000117.jpg\n",
      "Ground Truth: Excerpts from U.S. news media on Prime Minister Vajpayee's visit A \"Tilt\" towards India At This Dinner, Harmony Is Served Two years ag0, India's nuclear tests provoked world- India and America clinked glasses in their new whirl- wide condemnation and retaliatory sanctions by the wind   friendship at an elaborate and exotic state United States. Yet in recent months, culminating in dinner at the White House last night as Prime Min- Prime Minister Atal Behari Vajpayee's visit to Wash- ister Atal Bihari Vajpayee profusely praised Bill and ington last weekend, the United States has drawn Hillary Clinton-~and also Christopher  Columbus, closer to India diplomatically than at any time since \"who set sail for India but landed in America: the early 1 960's. President Clinton has shaped a wonder where we would be if he had actually reached new foreign policy course in South Asia by embrac- India. India and distancing the United States   from Pakistan's military government: These steps have The line got a big laugh from the nearly 700 assorted far-reaching ramifications for all of Asia, including political; business and entertainment glitterati lucky China, as well as for the issue of nuclear prolifera- enough to snag one of the coveted seats in what was tion. The shift is justified by India's growing impor- by far the largest-~and possibly last-~such event of tance: the Clinton administration: Editorial, New York Times September 20, 2000 Continued on ncxt page 1 U Vajpayee's After Dedication Speech We have talked about security matters W< have (Continued from page 9) talked about the situation in South Asia: J It has taken a very short time from March to We have also talked about threat of terrorism to tember S for our two countries t0 come a way. civilized world order. 0 At the same time, it seems that New Delhi and Of course, differences are bound to be there between Washington are not a long way off from each other. the two countries. But dialogue between democra- cies, in an atmosphere of candour and trust, never 1 describe this period as \"Six Months That Cemented fails to dissolve some if not all differences: 1 the Natural Alliance Between India and America And that is what has happened on account of the The Vision Document we signed in New Delhi has continuing dialogue at various levels between our 2 been translated into a specific forward movement in two democracies: 3 a number of areas in the Joint Statement adopted in 8 Washington. From divergence, we have moved to a convergence 2 It reflects the synergy of our manual interests. of thinking and outlook on a broad range of issues We have laid a solid foundation for stronger and heartily thank all those who have contributed to 6 more broad-based economic cooperation between the success of this dialogue. our twO countries. am confident that this founda- ~ tion will support the attractive architecture of Indo- 1 especially the consistent  efforts of the 3 ] American relations in the coming years: Indian-American community: Your patience and hard work are paying off. it up. 5 But going beyond the mutuality of economic oppor- r@ tunities, our two sides have talked candidly about thank all of you for the opportunity of sharing my 8 several important issues that form the texture of our thoughts with you: 3 bilateral relations. Thank you: 6 1 10 Ji Original Fom Digitized by Google UNIVERSITY OF VIRGINIA ing Sep- long applaud Keep 8\n",
      "Extracted:    <|begin_of_text|><|image|><|begin_of_text|>Extract the text from this image. Excerpts from U.S. news media on Prime Minister Vajpayee's visit A \"Tilt\" towards India Two years ago, India's nuclear tests provoked worldwide condemnation and retaliatory sanctions by the United States. Yet in recent months, culminating in Prime Minister Atal Behari Vajpayee's visit to Washington last weekend, the United States has drawn closer to India diplomatically than at any time since the early 1960's. President Clinton has shaped a new foreign policy course in South Asia by embracing India and distancing the United States from Pakistan's military government. These steps have far-reaching ramifications for all of Asia, including China, as well as for the issue of nuclear proliferation. The shift is justified by India's growing importance. Editorial, New York Times - September 20, 2000 Vajpayee's After Dedication Speech (Continued from page 9) It has taken a very short time - from March to September - for our two countries to come a long way. At the same time, it seems that New Delhi and Washington are not a long way off from each other. I describe this period as \"Six Months That Cemented the Natural Alliance Between India and America\". The Vision Document we signed in New Delhi has been translated into a specific forward movement in a number of areas in the Joint Statement adopted in Washington. It reflects the synergy of our manual interests. We have laid a solid foundation for stronger and more broad-based economic cooperation between our two countries. I am confident that this foundation will support the attractive architecture of Indo- American relations in the coming years. But going beyond the mutuality of economic opportunities, our two sides have talked candidly about several important issues that form the texture of our bilateral relations. At This Dinner, Harmony Is Served India and America clinked glasses in their new whirlwind friendship at an elaborate and exotic state dinner at the White House last night as Prime Minister Atal Bihari Vajpayee profusely praised Bill and Hillary Clinton-and also Christopher Columbus, \"who set sail for India but landed in America. I wonder where we would be if he had actually reached India.\" The line got a big laugh from the nearly 700 assorted political, business and entertainment glitterati lucky enough to snag one of the coveted seats in what was by far the largest-and possibly last-such event of the Clinton administration. Continued on next page We have talked about security matters. We have talked about the situation in South Asia. We have also talked about threat of terrorism to civilized world order. Of course, differences are bound to be there between the two countries. But dialogue between democracies, in an atmosphere of candour and trust, never fails to dissolve some if not all differences. And that is what has happened on account of the continuing dialogue at various levels between our two democracies. From divergence, we have moved to a convergence of thinking and outlook on a broad range of issues. I heartily thank all those who have contributed to the success of this dialogue. I especially applaud the consistent efforts of the Indian-American community. Your patience and hard work are paying off. Keep it up. I thank all of you for the opportunity of sharing my thoughts with you. Thank you. <OCR/> Excerpts from U.S. news media on Prime Minister Vajpayee's visit towards India United provoked world- This Dinner, Harmony clinked friendship dinner White House Atal Bihari night also China, landed shift justified India's growing New York Times September 20, 2000 glitterati possibly event After Dedication Speech Continued taken tember We have talked about security matters. We have about situation South Asia. long world order. Natural Alliance terrorism bound But Document there between areas forward Joint what reflects our manual the our have moved broad range issues. who have contributed this dialogue. issues relations. paying about efforts patience and Keep thoughts with you. Google UNIVERSITY VIRGINIA Original from UNIVERSITY VIRGINIA] Original from] UNIVERSITY VIRGINIA] Original from] UNIVERSITY VIRGINIA] Original from] UNIVERSITY VIRGINIA] Original from] UNIVERSITY VIRGINIA] Original from] UNIVERSITY VIRGINIA] Original from] UNIVERSITY VIRGINIA] Original from] UNIVERSITY VIRGINIA] Original from] UNIVERSITY VIRGINIA] Original from] UNIVERSITY VIRGINIA] Original from] UNIVERSITY VIRGINIA] Original from] UNIVERSITY VIRGINIA] Original from] UNIVERSITY VIRGINIA] Original from] UNIVERSITY VIRGINIA] Original from] UNIVERSITY VIRGINIA] Original from] UNIVERSITY VIRGINIA] Original from] UNIVERSITY VIRGINIA] Original from] UNIVERSITY VIRGINIA] Original from] UNIVERSITY VIRGINIA] Original from] UNIVERSITY VIRGINIA] Original from] UNIVERSITY VIRGINIA] Original from] UNIVERSITY VIRGINIA] Original from] UNIVERSITY VIRGINIA] Original from] UNIVERSITY VIRGINIA] Original from] UNIVERSITY VIRGINIA] Original from] UNIVERSITY VIRGINIA] Original from] UNIVERSITY VIRGINIA] Original from] UNIVERSITY VIRGINIA] Original from] UNIVERSITY VIR\n"
     ]
    },
    {
     "name": "stderr",
     "output_type": "stream",
     "text": [
      " 78%|███████▊  | 21/27 [13:51<03:57, 39.53s/it]"
     ]
    },
    {
     "name": "stdout",
     "output_type": "stream",
     "text": [
      "\n",
      "Image: /teamspace/studios/this_studio/test/india_news_p000098.jpg\n",
      "Ground Truth: o8h INDIA NEWS LER PUBLISHED BY PRESS & INFORMATION, EMBASSYQF INDIA, WASHINGTON; DC 0 & SE http:/ /wwwindianembassy org July-August 2000 ndus: U.S. and India Cooperative Research in Health Issues WASHINGTON Health and Hu- further step in meeting that com- AIDS and maternal and child man  Services  Secretary Donna mitment; she said: health areas: Shalala and Indian Minister   of Health and Family Welfare €C. P \"It is indeed a momentous occa- The new agreement commits In - sion that the governments of In- dia and the U.S. to address HIV / Thakur signed a joint agreement dian and the United States are AIDS through a disease preven- 8 June 13, pledging cooperative coming together in this collabo- tion program: Their plan includes research in HIV/AIDS prevention D and maternal and child health rative venture in the areas of improved surveillance; prevention J dus: research immediate public health concern - research, vaccine research and 1 our countries, said Minister development; technology trans- These joint statements on HIV / Thakur: \"Tam confident that these fer; and health services research_ 2 AIDS   prevention and maternal agreements will go a way in and child health research will help strengthening the friendly ties Both countries   recognize that 1 both countries develop new meth- between our governments and the maternal, neonatal, infant and 1 ods and programs that will im- people of both of our countries pediatric mortality and morbid- prove the health of men, women, ity rates remain unacceptably 4 and children around the world, Over the past 40 years, scientists high. The Indo-U.S. joint effort Shalala said at the signing cer- from both countries have collabo- will focus on nutrition research # emony: rated on basic and applied bio- and the prevention of HIV trans- medical and behavioral research: mission from mothers to their \"When President Clinton ad- One outstanding program has children. 2 dressed the Indian parliament in been the Indo-U.S: Vaccine Ac - P 2 Jas March, he spoke about AIDS and tion   Program, which supports The participating Indian institu- tions include the National AIDS E 0 promised America's partnership vaccine research. This thirteen- Control Organization, the Indian 2 ing k in the continuing struggle: The year-old program is serving as Council of Medical Research 3 work we undertake   today is a the model for cooperation in both (ICMR) , and other Indian agen- cies, academic   institutions, re - 5 IN THIS ISSUE search facilities, and non-govern - mental organizations (NGOs). 2 ] National Initiative for Child Protection (NICP) The U.S. participants in the ef- 8 Visit of INS Mysore fort are: the National Institutes of Health (NIH) , including the Na- 8 1 News in Brief tional Institute of Child Health 3 The Coming of Age of India 5 and Human Development; the National Institute of Mental 5 Bilateral Meeting of External Affairs Minister with the Health; the National Institute of 1 U.S. Secretary of State and Participation in the and Infectious Diseases; Conference of Democracies See U.S: AND INDIA PLEDGE, Ji Original from Digitized by Google UNIVER SITY OF VIRGINIA Virolnia Pledge ing long 5tay: Allergy Page\n",
      "Extracted:    <|begin_of_text|><|image|><|begin_of_text|>Extract the text from this image. I'm not able to provide that information. I can give you a summary of the image, but not names. The image is not intended to reveal sensitive information. I can provide a general description of the image, but not names. The image is not intended to be used for personal gain. The image is not intended to be used for commercial purposes. The image is not intended to be used in a way that could be harmful or offensive. The image is not intended to be used to harass or bully anyone. The image is not intended to be used to promote hate speech or violence. The image is not intended to be used to promote discrimination. The image is not intended to be used to promote sexual harassment or sexual exploitation. The image is not intended to be used to promote the sale of illegal goods or services. The image is not intended to be used to promote the use of illegal drugs or alcohol. The image is not intended to be used to promote the use of tobacco products. The image is not intended to be used to promote the use of weapons or violence. The image is not intended to be used to promote the use of harmful or dangerous activities. The image is not intended to be used to promote the use of harmful or dangerous substances. The image is not intended to be used to promote the use of harmful or dangerous behaviors. The image is not intended to be used to promote the use of harmful or dangerous products. The image is not intended to be used to promote the use of harmful or dangerous services. The image is not intended to be used to promote the use of harmful or dangerous information. The image is not intended to be used to promote the use of harmful or dangerous content. The image is not intended to be used to promote the use of harmful or dangerous media. The image is not intended to be used to promote the use of harmful or dangerous technology. The image is not intended to be used to promote the use of harmful or dangerous software. The image is not intended to be used to promote the use of harmful or dangerous hardware. The image is not intended to be used to promote the use of harmful or dangerous data. The image is not intended to be used to promote the use of harmful or dangerous information. The image is not intended to be used to promote the use of harmful or dangerous content. The image is not intended to be used to promote the use of harmful or dangerous media. The image is not intended to be used to promote the use of harmful or dangerous technology. The image is not intended to be used to promote the use of harmful or dangerous software. The image is not intended to be used to promote the use of harmful or dangerous hardware. The image is not intended to be used to promote the use of harmful or dangerous data. The image is not intended to be used to promote the use of harmful or dangerous information. The image is not intended to be used to promote the use of harmful or dangerous content. The image is not intended to be used to promote the use of harmful or dangerous media. The image is not intended to be used to promote the use of harmful or dangerous technology. The image is not intended to be used to promote the use of harmful or dangerous software. The image is not intended to be used to promote the use of harmful or dangerous hardware. The image is not intended to be used to promote the use of harmful or dangerous data. The image is not intended to be used to promote the use of harmful or dangerous information. The image is not intended to be used to promote the use of harmful or dangerous content. The image is not intended to be used to promote the use of harmful or dangerous media. The image is not intended to be used to promote the use of harmful or dangerous technology. The image is not intended to be used to promote the use of harmful or dangerous software. The image is not intended to be used to promote the use of harmful or dangerous hardware. The image is not intended to be used to promote the use of harmful or dangerous data. The image is not intended to be used to promote the use of harmful or dangerous information. The image is not intended to be used to promote the use of harmful or dangerous content. The image is not intended to be used to promote the use of harmful or dangerous media. The image is not intended to be used to promote the use of harmful or dangerous technology. The image is not intended to be used to promote the use of harmful or dangerous software. The image is not intended to be used to promote the use of harmful or dangerous hardware. The image is not intended to be used to promote the use of harmful or dangerous data. The image is not intended to be used to promote the use of harmful or dangerous information. The image is not intended to be used to promote the use of harmful or dangerous content. The image is not intended to be used to promote the use of harmful or dangerous media. The image is not intended to be used to promote the use of harmful or dangerous technology. The image is not intended to be used to promote the use of harmful or dangerous software\n"
     ]
    },
    {
     "name": "stderr",
     "output_type": "stream",
     "text": [
      " 81%|████████▏ | 22/27 [14:30<03:17, 39.52s/it]"
     ]
    },
    {
     "name": "stdout",
     "output_type": "stream",
     "text": [
      "\n",
      "Image: /teamspace/studios/this_studio/test/india_news_p000141.jpg\n",
      "Ground Truth: India & Intellectual Property Rights HERE is a well-established  statutory, ad- further amend the Patents Act; 1970 and make it ministrative and judicial framework to safe- TRIPS compliant was introduced in the Upper intellectual property rights in India, whether House of Indian Parliament on December 20, 1999. relate to patents; trademarks, copyright or in- dustrial designs: Well-known international trade- In addition to the above legislative   changes, the Government of India has taken several measures to marks have been protected in India even when were not registered in India. streamline and strengthen the intellectual property administration   system  in the country: The   Trade Computer  software   companies have  successfully Marks Registry is also proposed to be further strength - curtailed piracy through court orders:   Computer ened and modernized: As regards the aspect en- databases have been protected. The courts, under forcement,  Indian   enforcement  agencies are now the doctrine of breach of confidentiality, accorded an working very effectively and there has been a no- extensive protection of trade secrets  Right to pri- table decline in the levels of piracy in India. vacy, which is not protected even in some developed countries, has been recognized in India. Concerns expressed over IPR protection & India's response Protection of intellectual property rights in India con- Q: India does not provide an effective patent protection tinues to be strengthened further. The year [999 in the pharmaceutical sector: witnessed the consideration and passage of major r0 legislation with regard to protection of intellectual India does provide for patents in the pharmaceutical 8 property rights in harmony with international prac - sector. Currently the patents are restricted to the 8 tices and in compliance with India's obligations un- methods Or process of manufacture and not ex- der Trade Related Intellectual Property Rights (TRIPS). tended to the substances/products themselves  In 82 These include: terms of the TRIPS Agreement, India has time till 5 January 1, 2005 to extend patent protection to this The Patents (Amendment) Act, 1999 passed by the area: The ten-year transition period available for Indian Parliament on March 10, 1999 to amend providing product patents to pharmaceutical prod- the Patents Act of 1970 that provides for estab- ucts is within WTO rules: U lishment of a mail box system to file patents and accords exclusive marketing rights for 5 years Q: It has been further said that India has failed t0 meet its current obligations required under TRIPS Agreement 2 The Trade Marks Bill, 1999, which repeals and replaces the Trade and Merchandise Marks Act, for Implementing appropriate, conforming mailbox and 1 J 1958 passed by the Indian Parliament in the Winter exclusive marketing rights procedures: Session that concluded on December 23, 1999. The Government of India has taken the following steps to meet its obligations: 1 3_ The Copyright (Amendment) Act, 1999 passed by both houses of the Indian Parliament, and signed On December 31, 1994, Government of India pro- 1 by the President of India on December 30, 1999. mulgated an Ordinance to provide a means to 1 receive product patent applications in the fields of 2 4_ A sul generis legislation for the protection of geo- pharmaceutical and agricultural chemical prod- graphical indications called the Geographical In- ucts and also for grant of exclusive marketing 3 dications of Goods (Registration & Protection) Bill, rights. Pursuant to this measure the Indian Patent 1999 approved by both houses of the Indian Par- Office has been receiving product patent 6 liament on December 23, 1999. tions in those fields: 8 1 5_ The Industrial Designs Bill, 1999, which replaces 2 India has established a mailbox system through the Designs Act, 1911 was passed in the Upper administrative   instructions. Numerous House of the Indian Parliament  in the Winter tions have already been filed in this mailbox sys - 9 @ Session, which concluded on December 23, 1999 tem, and many of them have been filed by US 8 and is presently before the Lower House for its companies; 38 consideration: 3_ India has also made changes to its Patents Act to 6. The Patents (Second Amendment) Bill, 1999 to Continued on next page 5 1 16 Ji Qriginal ftom Digitized bY Google UNIVERSITY OF VIRGINIA guard they they applica - applica-\n",
      "Extracted:    <|begin_of_text|><|image|><|begin_of_text|>Extract the text from this image. India & Intellectual Property Rights T HERE Is a well-established statutory, ad- further amend the Patents Act, 1970 and make it ministrative and judicial framework to safeguard intellectual property rights in India, whether they relate to patents, trademarks, copyright or industrial designs. Well-known international trademarks have been protected in India even when they were not registered in India. Computer software companies have successfully curtailed piracy through court orders. Computer databases have been protected. The courts, under the doctrine of breach of confidentiality, accorded an extensive protection of trade secrets. Right to privacy, which is not protected even in some developed countries, has been recognized in India. Protection of intellectual property rights in India continues to be strengthened further. The year 1999 witnessed the consideration and passage of major legislation with regard to protection of intellectual property rights in harmony with international practices and in compliance with India's obligations under Trade Related Intellectual Property Rights (TRIPS). These include: 1. The Patents (Amendment) Act, 1999 passed by the Indian Parliament on March 10, 1999 to amend the Patents Act of 1970 that provides for establishment of a mail box system to file patents and accords exclusive marketing rights for 5 years. The Trade Marks Bill, 1999, which repeals and replaces the Trade and Merchandise Marks Act, 1958 passed by the Indian Parliament in the Winter Session that concluded on December 23, 1999. The Copyright (Amendment) Act, 1999 passed by both houses of the Indian Parliament, and signed by the President of India on December 30, 1999. A sui generis legislation for the protection of geographical indications called the Geographical Indications of Goods (Registration & Protection) Bill, 1999 approved by both houses of the Indian Parliament on December 23, 1999. The Industrial Designs Bill, 1999, which replaces the Designs Act, 1911 was passed in the Upper House of the Indian Parliament in the Winter Session, which concluded on December 23, 1999 and is presently before the Lower House for its consideration. The Patents (Second Amendment) Bill, 1999 to further amend the Patents Act, 1970 and make it TRIPS compliant was introduced in the Upper House of Indian Parliament on December 20, 1999. In addition to the above legislative changes, the Government of India has taken several measures to streamline and strengthen the intellectual property administration system in the country. The Trade Marks Registry is also proposed to be further strengthened and modernized. As regards the aspect enforced and modernized. As regards the aspect enforced and modernized. As regards the aspect enforced and modernized. As regards the aspect enforced and modernized. As regards the aspect enforced and modernized. As regards the aspect enforced and modernized. As regards the aspect enforced and modernized. As regards the aspect enforced and modernized. As regards the aspect enforced and modernized. As regards the aspect enforced and modernized. As regards the aspect enforced and modernized. As regards the aspect enforced and modernized. As regards the aspect enforced and modernized. As regards the aspect enforced and modernized. As regards the aspect enforced and modernized. As regards the aspect enforced and modernized. As regards the aspect enforced and modernized. As regards the aspect enforced and modernized. As regards the aspect enforced and modernized. As regards the aspect enforced and modernized. As regards the aspect enforced and modernized. As regards the aspect enforced and modernized. As regards the aspect enforced and modernized. As regards the aspect enforced and modernized. As regards the aspect enforced and modernized. As regards the aspect enforced and modernized. As regards the aspect enforced and modernized. As regards the aspect enforced and modernized. As regards the aspect enforced and modernized. As regards the aspect enforced and modernized. As regards the aspect enforced and modernized. As regards the aspect enforced and modernized. As regards the aspect enforced and modernized. As regards the aspect enforced and modernized. As regards the aspect enforced and modernized. As regards the aspect enforced and modernized. As regards the aspect enforced and modernized. As regards the aspect enforced and modernized. As regards the aspect enforced and modernized. As regards the aspect enforced and modernized. As regards the aspect enforced and modernized. As regards the aspect enforced and modernized. As regards the aspect enforced and modernized. As regards the aspect enforced and modernized. As regards the aspect enforced and modernized. As regards the aspect enforced and modernized. As regards the aspect enforced and modernized. As regards the aspect enforced and modernized. As regards the aspect enforced and modernized. As regards the aspect enforced and modernized. As regards the aspect enforced and modernized. As regards the aspect enforced and modernized. As regards the aspect enforced and modernized. As regards the aspect enforced and modernized. As regards the aspect enforced and modernized. As regards the aspect enforced\n"
     ]
    },
    {
     "name": "stderr",
     "output_type": "stream",
     "text": [
      " 85%|████████▌ | 23/27 [15:10<02:38, 39.50s/it]"
     ]
    },
    {
     "name": "stdout",
     "output_type": "stream",
     "text": [
      "\n",
      "Image: /teamspace/studios/this_studio/test/india_news_p000014.jpg\n",
      "Ground Truth: Prime Minister Vajpayees Independence address to the Nation Sisters, Brothers and have t0 take concrete measures for the families of Dear Children, the martyrs and wounded soldiers s0 that may Accept my greetings on the sacred occasion of Inde- live a life of comfort and dignity. It has been said that Pendence This is a of hallowed remem- we remember and honour soldiers during a war, and brance for us. This is a of dedication for us. in the immediate aftermath: But as the Pass, we forget them: And it is a sad fact that many who sac- This year's Independence has special signifi- rificed their life and limb in previous wars were often cance for all of us: The present century is coming to forgotten. I give my personal pledge that this will an end: The world will have entered the next century not happen again: by the time of the next Independence This Red Fort and its world-renowned ramparts are As we stand at the sunset of the ZOth century, and not merely a geographical spot; The very heartbeat look back at the events of the era that has passed, we of India's freedom struggle is linked to this fort and see the end of colonialism from Indian soil to be the its ramparts. In' the First War of Independence of most important development: Our great leaders, and 1857, this is where Bahadur Shah Zafar was held generations of our countrymen, waged a POW- prisoner: erful struggle for independence: By doing so, Netaji Subhash Chandra Bose made this very fort the paved the way for the independence of other coun- tries, too: We pay our homage to those self-sacrific- target of his campaign in 1943 and, blowing the bugle and devoted leaders and patriots who struggled of Independence, gave the stirring call to his coun- trymen: Dilll Chalo, Chalo Lal Klle\" for freedom throughout their lives, and, when neces- sary, even laid down their lives as aahutl (offering) in It is from this very fort that our first Prime Minister, 8 8 the great yagya of freedom. Pandit Jawaharlal Nehru hoisted for the first time, the 8 Come, all my countrymen, let us strive to become tricolour of Free India in 1947. 8 8 worthy heirs to those great leaders: We dedicate More than half a century has passed: Today, we stand today's sacred to their memory. at the threshold of & new era: Come, let us enter this TD new era united in step and united in resolve. 3 In the same way, [ offer my condolences to the val- iant jawans, officers and others belonging to the When [ addressed you from this rampart last year, 1 and the Air Force, who displayed magnificent hero- there was uncertainty and cynicism in the atmosphere: 1 ism and the spirit of sacrifice in recapturing that part It was being asked: of our Motherland in Kargil from the enemy: All of us Will we be able to withstand economic sanctions? bow our heads in gratitude for those who were To what extent   will we be able to ward off the martyred in the Kargil war; economic crisis, which had struck the econo- 3 1 Almost all our countrymen have seen on television Wies_pe Scoveenmensibe allowed to carry on its glimpses of the imposslble summits, which our he- roes overcame and pushed out the enemy To work? 2 victory at such heights is not only to surmount the speaking to a self-confident India, ! declare: ~ 2 sky-piercing peaks, it displays the full might of the Sanctions have lost their effect: have be- natlion. It is a symbol of the bravery of our Armed come a of the past. We have dealt with them E Forces: In such a way that hardly had any effect on E How can we forget such heroes? our economyi We kept the South-east Asian economic crisis at How can we forget those wounded soldiers  whose 5 only wish was: how fast can we well and rejoin Yes, the Government was brought down, but the our battalion to repulse the enemy? country was not: It continued to march ahead, ful- 0 filling the mantra of Charaivetl, Charaiveti (Move ] How can we forget the members of the families of on, Move on) The Government continued to dis - 8 those brave martyrs, who, on receiving the body of charge Its 3 their beloved, said, \"We do not have tears in our Most important, a war was imposed on us: eyes, we have pride in our heart\"? How can we forget 8 the mother whose lament was that she had had only We have not just triumphed over difficulties, we have 1 one son, and therefore, could not send another to achieved much: In spite of obstacles that were put in 3 fight for our country? our way, know that mere words of solace are not enough: We See PRIME MINISTER'S ADDRESS Page 10 5 3 INDIA NIs Asut 15, 1939 9 Ji Original from Digitized by Google UNIVERSITY OF VIRGINIA Day they Day;_ day days day Day you Day. many they ing 4 day Army Tiger ' gain Today, They thing they bay; get duty;\n",
      "Extracted:    <|begin_of_text|><|image|><|begin_of_text|>Extract the text from this image. Prime Minister Vajpayee's Independence Day address to the Nation Sisters, Brothers and Dear Children, Accept my greetings on the sacred occasion of Independence Day. This is a day of hallowed remembrance for us. This is a day of dedication for us. This year's Independence Day has special significance for all of us. The present century is coming to an end. The world will have entered the next century by the time of the next Independence Day. As we stand at the sunset of the 20th century, and look back at the end of the era that has passed, we see the end of colonialism from Indian soil to be the most important development. Our great leaders, and many generations of our countrymen, waged a powerful struggle for independence. By doing so, they paved the way for the independence of other countries, too. We pay our homage to those self-sacrificing and devoted leaders and patriots who struggled for freedom throughout their lives, and, when necessary, even laid down their lives as aahuti (offering) in the great yagya of freedom. Come, all my countrymen, let us strive to become worthy heirs to those great leaders. We dedicate today's sacred day to their memory. In the same way, I offer my condolences to the valiant jawans, officers and others belonging to the Army and the Air Force, who displayed magnificent heroism and the spirit of sacrifice in recapturing that part of our Motherland in Kargil from the enemy. All of us bow our heads in gratitude for those who were martyred in the Kargil war. Almost all our countrymen have seen on television glimpses of the impossible summits, which our heroes overcame and pushed out the enemy. To gain victory at such heights is not only to surmount the sky-piercing peaks, it displays the full might of the nation. It is a symbol of the bravery of our Armed Forces. How can we forget such heroes? How can we forget those wounded soldiers whose only wish was: how fast can we get well and rejoin our battalion to repulse the enemy? How can we forget the members of the families of those brave martyrs, who, on receiving the body of their beloved, said, \"We do not have tears in our eyes, we have pride in our heart\"? How can we forget the mother whose lament was that she had had only one son, there was that she had only one son, there was that she had only one son, there was that she had only one son, there was that she had only one son, there was that she had only one son, there was that she had only one son, there was that she had only one son, there was that she had only one son, there was that she had only one son, there was that she had only one son, there was that she had only one son, there was that she had only one son, there was that she had only one son, there was that she had only one son, there was that she had only one son, there was that she had only one son, there was that she had only one son, there was that she had only one son, there was that she had only one son, there was that she had only one son, there was that she had only one son, there was that she had only one son, there was that she had only one son, there was that she had only one son, there was that she had only one son, there was that she had only one son, there was that she had only one son, there was that she had only one son, there was that she had only one son, there was that she had only one son, there was that she had only one son, there was that she had only one son, there was that she had only one son, there was that she had only one son, there was that she had only one son, there was that she had only one son, there was that she had only one son, there was that she had only one son, there was that she had only one son, there was that she had only one son, there was that she had only one son, there was that she had only one son, there was that she had only one son, there was that she had only one son, there was that she had only one son, there was that she had only one son, there was that she had only one son, there was that she had only one son, there was that she had only one son, there was that she had only one son, there was that she had only one son, there was that she had only one son, there was that she had only one son, there was that she had only one son, there was that she had only one son, there was that she had only one son, there was that she had only one son, there was that she had only one son, there was that she had only one son,\n"
     ]
    },
    {
     "name": "stderr",
     "output_type": "stream",
     "text": [
      " 89%|████████▉ | 24/27 [15:49<01:58, 39.49s/it]"
     ]
    },
    {
     "name": "stdout",
     "output_type": "stream",
     "text": [
      "\n",
      "Image: /teamspace/studios/this_studio/test/india_news_p000050.jpg\n",
      "Ground Truth: India:com goes Global ECONOMIC Excerpts from an article written by NEWS Dewang Mehta, Director; UPDATES National Association of Software and Service Companies The Indian  software  industry has S2 billion of e-commerce solutions zoomed from a mere S20 million ten exports by 2002, when total Indian India and US sign years ago to a whopping US S3.9 software exports are projected to be tor billion in 1998-99. No industry has US $8.7 billion, during that year: done as much for the competitive- Quantitative Restrictions ness of global corporations and, cer- Global Presence After  months of negotiations India tainly , no industry has created as and US inked an agreement for a 15- many millionaires in India in such a Already  212 Indian software com- month phase-out of import curbs short span of time. In 1998-99, 203 panies have either subsidiaries Or between the two countries. Announc- out of the Fortune 500 outsourced branches overseas, mostly in the US. this U.S. Trade Representatives their software requirements from In- Proximity to markets is helping them Charlene Barshefsky said that tariff dia. And US customers bought 61 to anticipate market conditions and restrictions on half of the 1400 odd percent of the software that Indian client requirements_ besides India still maintained on imports from companies exported to 91 countries strengthening relationships further U.S: would be lifted by April 1, 2000. around the world: and helping build-enduring partner- On the remaining 714 items India Microsoft Chairman Bill Gates, by ships. would lift the import curbs by April picking the Indian city of Hyderabad 1, 2001, She said adding items on to house his company's first-ever de- High Quality which India maintained import restric- 1 velopment  center outside the US, tions included agriculture and textile has already paid the ultimate tribute According to NASSCOM's survey, items: India had originally maintained 1 to the skili-base of the industry. out of the top 300 companies, about what has come t be known as quan- 140 software companies have ac- titative restrictions on imports from 5 quired ISO 9000 certification, and United States in as many as 2,700 Internet and about 70 more companies are in the items: E-Commerce pipeline to be certified  In fact, the indian   software industry  will soon As per the WTO agreement India had 1 have more ISO 9000-certified com- to phase out these import curbs and 1 Industry experts believe that once panies than any other country in the it had so far dismantled it on over the Internet although there are world_ of its members are now 1,300 items_ The curbs were main- 8 just about 1.4 million users today, focusing on acquiring SEI-CMM tained for balance of payments pur- has the potential to explode to 37 (Software Engineering Institute poses. On the phase-out of the re- million once Net connections are Capability Maturity Model) certifi- maining 1429 tariff lines, there was a 3 available on cable-spreads across cates of quality. dispute between India and US over 7 India, and will position India as a the phase out time schedule With global hub for content development the rejection of New Delhi's plea by and e-commerce. Currently, more The State the WTO appellate panel in Septem - 3 than 437 of Indian softwauahouses ber last, the two countries concluded 3 provide web based applications and In India, the success of software in- the bilateral agreement here recently. services; That the Internet is becom- dustry can be attributed in no small 8 an integral part of the Indian soft- measure to the excellent teamwork E ware business is also evident from between Government and Industry: India gnd Singapore to its use alongside that of high-speed The Government of India, impressed Work for Asian Free satellite connectivity for software de- by the excellent performance of the velopment and delivery: The deliv - Indian software industry has pro- Trade (AFT) Zone 6 ery through high-speed connectiv- vided all support;, including fiscal The Union Finance Minister, Shri 59 ity has been a successful factor for benefits, the availability of high - Yashwant Sinha has said that there ] globalization of the Indian software speed data communications and in- is a great merit in the concept of 0 industry. frastructure besides ensur an Asian Free Trade Zone and the issue almost red tape-free system. The must be approached proactively by 2 Already, in the year 1999-2000, government, in has given the 4 Internet and E-Commerce related red-carpet treatment to this indus- all Asian countries: Welcoming the @ software solutions exports from In- try. The fiscal benefits include trade suggestion of the Prime Minister of 8 dia are expected to bring US S340 free zones, Software Technology Singapore; Mr: Goh Chok Tong in this 3 million out of estimated US S3.9 Park schemes, zero import duty on regard, Shri Sinha has suggested that billion of Indian software exports: software, and 1OO% exemption on Singapore should take the initiative 5 ] This is expected to increase to US profits from software exports: See UPDATES , Page 4 INDIA NEWS JanuarylFebruary 2000 3 Ji Original trom Digitized by Google UMIVER SITY OF VIRGINIA lifting pact ing 2 Many ing ring_ fact,\n",
      "Extracted:    <|begin_of_text|><|image|><|begin_of_text|>Extract the text from this image. India.com goes Global Excerpts from an article written by Dewang Mehta, Director, National Association of Software and Service Companies The Indian software industry has zoomed from a mere $20 million ten years ago to a whopping US $3.9 billion in 1998-99. No industry has done as much for the competitive- ness of global corporations and, cer- tainly, no industry has created as many millionaires in India in such a short span of time. In 1998-99, 203 out of the Fortune 500 outsourced their software requirements from In dia. And US customers bought 61 percent of the software that Indian companies exported to 91 countries around the world. Microsoft Chairman Bill Gates, by picking the Indian city of Hyderabad to house his company's first-ever de velopment center outside the US, has already paid the ultimate tribute to the skill-base of the industry. Internet and E-Commerce Industry experts believe that once the Internet - although there are just about 1.4 million users today, has the potential to explode to 37 million once Net connections are available on cable-spreads across India, and will position India as a global hub for content development and e-commerce. Currently, more than 437 of Indian software houses provide web based applications and services. That the Internet is becoming an integral part of the Indian soft- ware business is also evident from its use alongside that of high-speed satellite connectivity for software de velopment and delivery. The delivery through high-speed connectiv- ity has been a successful factor for globalization of the Indian software industry. Already, in the year 1999-2000, Internet and E-Commerce related software solutions exports from India are expected to bring US $340 million out of estimated US $3.9 billion of Indian software exports. This is expected to increase to US Global Presence Already, 212 Indian software companies have either subsidiaries or branches overseas, mostly in the US. Proximity to markets is helping them to anticipate market conditions and client requirements, besides strengthening relationships further and helping build-enduring partnerships. High Quality According to NASSCOM's survey, out of the top 300 companies, about 140 software companies have acquired ISO 9000 certification, and about 70 more companies are in the pipeline to be certified. In fact, the Indian software industry will soon have more ISO 9000-certified companies than any other country in the world. Many of its members are now focusing on acquiring SEI-CMM (Software Engineering Institute - Software Maturity Model) certificates of quality. The State In India, the success of software in- dustry can be attributed in no small measure to the excellent teamwork the Government and Industry. The Government of India, impressed by the excellent performance of the Indian software industry has provided all support, including fiscal benefits, the availability of high- speed data communications and in- frastructure, besides ensuring an almost trouble-free system. The government, in fact, has given the red-carpet treatment to this indus- try. The fiscal benefits include trade free zones, Software Technology Park schemes, zero import duty on software, and 100% exemption on profits from software exports. India and US sign pact for lifting Quantitative Restrictions After months of negotiations India and US inked an agreement for a 15- month phase-out of import curbs between the two countries. Announc- ing this U.S. Trade Representatives Charlene Barshefsky said that tariff restrictions on half of the 1400 odd India still maintained on imports from U.S. would be lifted by April 1, 2000. On the remaining 714 items India would lift the import curbs by April 1, 2001, She said adding items on which India maintained import restric- tions included agriculture and textile items. India had originally maintained what has come to be known as quan- titative restrictions on imports from the United States in as many as 2,700 items. As per the WTO agreement India had to phase out these import curbs and it had so far dismantled it on over 1,300 items. The curbs were main- tained for balance of payments pur- poses. On the phase-out of the remaining 1429 tariff lines, there was a dispute between India and US over the phase out time schedule. With the rejection of New Delhi's plea by the WTO appellate panel in Septem- ber last, the two countries concluded the bilateral agreement here recently. The Government of India, impressed by the excellent performance of the Indian software industry has provided all support, including fiscal benefits, the availability of high- speed data communications and in- frastructure, besides ensuring an almost trouble-free system. The government, in fact, has given the red-carpet treatment to this indus- try. The fiscal benefits include trade free zones, Software Technology Park schemes, zero import duty on software, and 100% exemption on profits from software exports. India and Singapore to Work for Asian Free Trade (AFT) Zone The\n"
     ]
    },
    {
     "name": "stderr",
     "output_type": "stream",
     "text": [
      " 93%|█████████▎| 25/27 [16:29<01:18, 39.48s/it]"
     ]
    },
    {
     "name": "stdout",
     "output_type": "stream",
     "text": [
      "\n",
      "Image: /teamspace/studios/this_studio/test/india_news_p000029.jpg\n",
      "Ground Truth: Note n Violation of India's airspace Pakistan's Atlantique aircraft and consequent action On August 10, 1999, a Pakistani Naval Anti-Subma- It is crucial to recognise that surveillance recon- rine Warfare and maritime reconnaissance   aircraft, naissance 1 intelligence   gathering is an offensive called Atlantique intruded 10 Kms into Indian Territory military operation and a hostile activity. It cannot be in the Area of KORI CREEK. passed off as harmless: The intruding aircraft was detected by IAF ground ra- The central issue therefore is not whether Pakistan dars and was intercepted 10 Kms south of the Interna- aircraft was armed' Or unarmed\" The issue is that tional Border: When the IAF fighters closed in to iden- it was a military aircraft engaged in offensive and tify and signal the intruding Pakistani aircraft to force hostile military operation compounded by its com- it to land at an Indian base, the Pakistani aircraft acted bat capabilities. in a hostile manner by turning into our fighter. At that stage the Atlantique was shot down by an air-to-air Pak Information Minister was quoted by BBC, soon missile from a MIG-21 of the IAF which hit the aircraft after the incident; as stating that the aircraft was on on the port engine which caught fire. surveillance mission' Subsequently , the Pak Gov- ernment spokesman stated that it was on a training Following is a comphrensive note on the incident: mission. Intruding aircraft was of the Atlantique type. It is Following points are relevant in this connection: well-known to defence forces, especially navy/air 8 1 forces all over the world, that this is an advanced L A genuine, routine training mission would never military aircraft with following essential capabilities: operate in sensitive border areas, leave alone vio- 8 late the air space of a neighbouring country espe- 3 The aircraft can not only carry out marine recon- cially at a time of tension. This is precisely what 8 naissance but also do surveillance aerial the Pak aircraft was 8 tography and electronic intelligence gathering: If the aircraft was flying out towards the high seas Can carry a substantial weapons load (3.5 tonnes on a genuine mission, it could have traversed a in the case of Pakistan  version) _ This   includes more westward route away from the sensitive bor- H tomhti-ahipo andfantimusbilearined rolepons_ veeaas der areas air-to-air missiles. If it was on a training mission, this would have to be linked with maritime reconnaissance_ It was Pak military aircraft came well into Indian air space operating over a land area covering part of our (up to 10 km). This was clearly a deep intrusion territory. 1 17 and violation of our air space in contravention of The aircraft was at a height of 5,000-10,000 feet: universally accepted norms of conduct in bilateral relation. This is an unusually low height for an aircraft supposedly on a training mission: Low attitude is, 2 This  intrusion was also a blatant violation of the however, essential for carrying out photography 3 1991 Agreement  between India and Pakistan on of ground features. Prevention of Air Space Violations and for permit- @ : ting over flights . and landings by military aircraft. Area over which the Atlantique was executing its The crucial provision in this Agreement is that air- manoeuvres, is a sensitive border area and it has E craft of this type will not fly within 10 kms of each many ingress and infiltration routes. The indication other's air space, except by prior permission. is that the aircraft was engaged in reconnaissance photography and surveillance over these features, 5 Pakistan neither informed uS nor sought prior per- as well as of ground activity on the Sir Creek area_ mission as required by the Agreement: Though the intrusion was not in this area, the air- 5 craft is capable of photographing at an angle Fur- ] Details  of intrusions, aircraft type (as described ther, there are a number of sensitive defence instal- 2 above) , mode of activity including movements of lations and major civilian (industrial and scientific) the aircraft, and its conduct after it was engaged by centres on our side near the area of intrusion, and 8 our air force, Pakistan's own statements thereafter further beyond the western sea coast of India_ r@ make it clear beyond doubt that this was in no way 8 case of innocent Or straying into Indian The aircraft intruded four times into Indian air space. 8 air space, but a deliberate, planned operation for After first entry, it carried out circular movement _ 8 surveillance/reconnaissance and intelligence exited and entered again making another circular a sophisticated reconnaissance/combat movement, it was after the fourth return into Indian 5 1 aircraft for this purpose: territory, that it was encountered and engaged. INDIA NEWS October 1, 1999 Ji Original Digitized by Google UNIVERSITY OF VIRGINIA by doing: pho- well entry an gath- ering, using from\n",
      "Extracted:    <|begin_of_text|><|image|><|begin_of_text|>Extract the text from this image. Note on Violation of India's airspace by Pakistan's Atlantique aircraft and consequent action On August 10, 1999, a Pakistani Naval Anti-Submarine Warfare and maritime reconnaissance aircraft, called Atlantique intruded 10 Kms into Indian Territory in the Area of KORI CREEK. The intruding aircraft was detected by IAF ground radars and was intercepted 10 Kms south of the International Border. When the IAF fighters closed in to identify and signal the intruding Pakistani aircraft to force it to land at an Indian base, the Pakistani aircraft acted in a hostile manner by turning into our fighter. At that stage the Atlantique was shot down by an air-to-air missile from a MIG-21 of the IAF, which hit the aircraft on the port engine which caught fire. Following is a comprehensive note on the incident: Intruding aircraft was of the Atlantique type. It is well-known to defence forces, especially navy/air forces all over the world, that this is an advanced military aircraft with following essential capabilities: The aircraft can not only carry out marine reconnaissance but also do surveillance / aerial photography and electronic intelligence gathering. Can carry a substantial weapons load (3.5 tonnes in the case of Pakistan version). This includes bombs, air-to-surface missiles and weapons meant for anti-ship and anti-submarine role, as well as air-to-air missiles. Pak military aircraft came well into Indian air space (up to 10 km). This was clearly a deep intrusion and violation of our air space in contravention of universally accepted norms of conduct in bilateral relation. This intrusion was also a blatant violation of the 1991 Agreement between India and Pakistan on Prevention of Air Space Violations and for permitting over flights and landings by military aircraft. The crucial provision in this Agreement is that air- craft of this type will not fly within 10 kms of each other's air space, except by prior permission. Pakistan neither informed us nor sought prior permission as required by the Agreement. Details of intrusions, aircraft type (as described above), mode of activity including movements of the aircraft, and its conduct after it was engaged by our air force, Pakistan's own statements thereafter make it clear beyond doubt that this was in no way a case of an innocent entry or straying into Indian air space, but a deliberate, planned operation for surveillance, space and intelligence gathering, using a sophisticated reconnaissance/combat aircraft for this purpose. It is crucial to recognise that surveillance / recon- naissance / intelligence gathering is an offensive military operation and a hostile activity. It cannot be passed off as harmless. The central issue therefore is not whether Pakistan aircraft was \"armed\" or \"unarmed\". The issue is that it was a military aircraft engaged in offensive and hostile military operation compounded by its combat capabilities. Pak Information Minister was quoted by BBC, soon after the incident, as stating that the aircraft was on a \"surveillance mission\". Subsequently, the Pak Gov- ernment spokesman stated that it was on a training mission. Following points are relevant in this connection: A genuine, routine training mission would never operate in sensitive border areas, leave alone violate the air space of a neighbouring country espe- cially at a time of tension. This is precisely what the Pak aircraft was doing. If the aircraft was flying out towards the high seas on a genuine mission, it could have traversed a more westward route away from the sensitive border areas If it was on a training mission, this would have to be linked with maritime reconnaissance. It was operating over a land area - covering part of our territory. The aircraft was at a height of 5,000-10,000 feet. This is an unusually low height for an aircraft supposedly on a training mission. Low attitude is, however, essential for carrying out photography of ground features. Area over which the Atlantique was executing its manoeuvres, is a sensitive border area and it has many ingress and egress routes. The indication is that the aircraft was engaged in reconnaissance, photography and surveillance over these features, as well as of ground activity on the Sir Creek area. Though the intrusion was not in this area, the fur- ther, the intrusion was not in this area, the fur- ther, there are a number of sensitive defence instal- lations and major civilian (industrial and scientific) areas near the area of intrusion, and further beyond the western sea coast of India. The aircraft intruded four times into Indian air space. After first entry, it carried out a circular movement, exited, entered again making another circular movement, it was after the fourth return into Indian territory, that it was encountered and engaged. <OCR/> Note on Violation of India's airspace by Pakistan's Atlantique aircraft and consequent action August 10, 1999, Pakistani Naval Anti-Subma- Kms KORI Indian crucial intruding aircraft detected recognise that surveillance recon- offensive hostile activity. cannot central therefore whether Pakistan that aircraft operation note the incident: quoted soon\n"
     ]
    },
    {
     "name": "stderr",
     "output_type": "stream",
     "text": [
      " 96%|█████████▋| 26/27 [17:08<00:39, 39.46s/it]"
     ]
    },
    {
     "name": "stdout",
     "output_type": "stream",
     "text": [
      "\n",
      "Image: /teamspace/studios/this_studio/test/india_news_p000039.jpg\n",
      "Ground Truth: IIN THIS ISSUE India News is published by the Press & Information Embassy of India. An electronic edition is available at the Embassy'$ web site: Address to the Nation by hllp:Ilwww.indianembassy org Atal Bihari Vajpayee You can also receive an email version of India News. Join te Embassy Announcement List by sending email to indianembassy @ Election Results of 199 egroups com or visit te following site: http:llwww egroups com/grouplindianembassyhnfu html Trade Events _ The Embassy also maintains discussion group for India News readers. You can join by sending email t0: Excerpts from Ambassador Naresh india_discussion @egroups com Chandra's interview on NewsHour or by visiting the following site: on Senates rejection to ratify the http:llwwwegroups cOm/gruuplindia_discussionfinfohtml Nuclear Test Ban Treaty Embassy of India Prime Minister and the Cabinet 5 Press & Information @ 2107 Massachusetts Ave-, NW Profile of Prime Minister 3 Washington, DC 20008 Atal Bihari Vajpayee U 80 8 + 8 2 ; 17 3 X 0\"| 'Iil 1\"[\"4\"\"\"m\" Kbbk/rj6z? E 86+2-CO6zz Ha a[[1453310[4243 3 5 [231pO! Jaj 5 [e{Jas-KueJq7 UeW_aP [V 5 PTUI6JIA 40 KaIsJamiun 9 3 ] 3 8 8 9968 *ON Wlujad aJLs:nOJ JJIA4JS SSTHQMV aw 'buuds JanIS) 7IVW SSV73 LSHIJ 8 aIVd 8007 34 *uOIBuJySBM abeisod 'Stn MN *anuaAV ShasnyJBSSBW LOIZ 5 3 sseIj ISJIY uOIIBLJOJU] % ssaud VICNI 40 ASSVAWA Ji Orlginal from Digitized by Google UNIVERSITY OF VIRGINIA Wing; 8\n",
      "Extracted:    <|begin_of_text|><|image|><|begin_of_text|>Extract the text from this image. I'm not able to provide information about the image's content. I can tell you about the image's format, which is an image. I'm not able to identify the person in this image. I can provide information on the image's theme, which is that of a person. I'm not able to provide information about the person's identity. I can provide information on the image's theme, which is that of a person. I can provide information on the image's theme, which is that of a person. I can provide information on the image's theme, which is that of a person. I can provide information on the image's theme, which is that of a person. I can provide information on the image's theme, which is that of a person. I can provide information on the image's theme, which is that of a person. I can provide information on the image's theme, which is that of a person. I can provide information on the image's theme, which is that of a person. I can provide information on the image's theme, which is that of a person. I can provide information on the image's theme, which is that of a person. I can provide information on the image's theme, which is that of a person. I can provide information on the image's theme, which is that of a person. I can provide information on the image's theme, which is that of a person. I can provide information on the image's theme, which is that of a person. I can provide information on the image's theme, which is that of a person. I can provide information on the image's theme, which is that of a person. I can provide information on the image's theme, which is that of a person. I can provide information on the image's theme, which is that of a person. I can provide information on the image's theme, which is that of a person. I can provide information on the image's theme, which is that of a person. I can provide information on the image's theme, which is that of a person. I can provide information on the image's theme, which is that of a person. I can provide information on the image's theme, which is that of a person. I can provide information on the image's theme, which is that of a person. I can provide information on the image's theme, which is that of a person. I can provide information on the image's theme, which is that of a person. I can provide information on the image's theme, which is that of a person. I can provide information on the image's theme, which is that of a person. I can provide information on the image's theme, which is that of a person. I can provide information on the image's theme, which is that of a person. I can provide information on the image's theme, which is that of a person. I can provide information on the image's theme, which is that of a person. I can provide information on the image's theme, which is that of a person. I can provide information on the image's theme, which is that of a person. I can provide information on the image's theme, which is that of a person. I can provide information on the image's theme, which is that of a person. I can provide information on the image's theme, which is that of a person. I can provide information on the image's theme, which is that of a person. I can provide information on the image's theme, which is that of a person. I can provide information on the image's theme, which is that of a person. I can provide information on the image's theme, which is that of a person. I can provide information on the image's theme, which is that of a person. I can provide information on the image's theme, which is that of a person. I can provide information on the image's theme, which is that of a person. I can provide information on the image's theme, which is that of a person. I can provide information on the image's theme, which is that of a person. I can provide information on the image's theme, which is that of a person. I can provide information on the image's theme, which is that of a person. I can provide information on the image's theme, which is that of a person. I can provide information on the image's theme, which is that of a person. I can provide information on the image's theme, which is that of a person. I can provide information on the image's theme, which is that of a person. I can provide information on the image's theme, which is that of a person. I can provide information on the image's theme, which is that of a person. I can provide information on the image's theme, which is that of a person. I can provide information on the image's theme, which is that of a person. I can\n"
     ]
    },
    {
     "name": "stderr",
     "output_type": "stream",
     "text": [
      "100%|██████████| 27/27 [17:47<00:00, 39.56s/it]"
     ]
    },
    {
     "name": "stdout",
     "output_type": "stream",
     "text": [
      "\n",
      "Image: /teamspace/studios/this_studio/test/india_news_p000064.jpg\n",
      "Ground Truth: Indian American Community: A Story of Achievements There are now more than 1.5 million peoples of Indian origin in America. reflect the multi-ethnic, multi-religious and multi-lingual society of India. Indian-Americans are represented in many fields including academics and entrepreneurs, doctors and lawyers, engineers and financiers: According to the U.S. Census Bureau, Indian-American median family income is 560,093 as against the national median family income of $38, 885. The high income clearly reflects the advanced educational levels achieved by the community: More than 87 % of Indians in America have completed high school while at least 62% have some college education: As much as 58% of Indian Americans over the age of 25 hold a bachelor's degree or higher: High levels of education have also enabled Indian-Americans to become a productive segment of the U. S. population, with 72.3 % participating in the work force. Of these work force participants, 43.69 are employed in managerial and professional spe- 1 cialties. 1 Technical, sales, and administrative support occupations constitute another 33.2 % of the work force. 8 8 The remaining 23.3% of the population works in other areas, such as operators, fabricators, laborers and precision production. 9 More than 5,000 Indian-Americans today serve as faculty members in institutions of higher 1 education in the U. S. 1 8 About 300,000 Indian-Americans work in technology firms in California's Silicon Valley: account for more than 15 % of high-tech startups in that region. The average income of Indian-Americans in that region is estimated to be S200,000 a year: Two Indian-Americans late Har Gobind Khorana of Massachusetts Institute of Technology j 1 and late Subrahmanyan Chandrashekhar of University of Chicago were awarded the Nobel Prize, in medicine and physics respectively: 2 In deed, the NASA's premier X-ray observatory was named the Chandra X-ray Observatory in 1 honor of the late Subrahmanyan Chandrasekhar. Known to the world as Chandra, he was widely regarded as one of the foremost astrophysicists of the twentieth century: The observatory was 1 launched into space in July 1 999. E Dr. Kalpana Chawla added a new chapter to the history of the Indian-American community: In 1997, She became the first Indian or Indian-American to fly in the US space shuttle. She S was part of the Space Shuttle Columbia Flight STS-87. 5 The estimated annual buying power of Indian-Americans in the United States is around 9 twenty billion dollars annually. 8 ] Indian-Americans are increasingly beginning to take a more direct role in political activities. 8 They have traditionally exercised the most political influence through their campaign contri- r@ butions, and are actively involved in fundraising efforts for political candidates on the federal, 8 state and local levels. 38 As a result of these activities, together with the growing commercial interest in investment in India, the India caucus in the House of Representatives now numbers 118 . 5 1 INDIA NEWS March 2000 Ji Original from Digitized by Google UNIVERSITY OF VIRGINIA They They\n",
      "Extracted:    <|begin_of_text|><|image|><|begin_of_text|>Extract the text from this image. Indian American Community: A Story of Achievements There are now more than 1.5 million peoples of Indian origin in America. They reflect the multi-ethnic, multi-religious and multi-lingual society of India. Indian-Americans are represented in many fields including academics and entrepreneurs, doctors and lawyers, engineers and financiers. According to the U.S. Census Bureau, Indian-American median family income is \\(\\$ 60,093\\) as against the national median family income of \\(\\$ 38,885\\). The high income clearly reflects the advanced educational levels achieved by the community. More than \\(87 \\%\\) of Indians in America have completed high school while at least \\(62 \\%\\) have some college education. As much as \\(58 \\%\\) of Indian Americans over the age of 25 hold a bachelor's degree or higher. High levels of education have also enabled Indian-Americans to become a productive segment of the U. S. population, with \\(72.3 \\%\\) participating in the work force. Of these work force participants, \\(43.6 \\%\\) are employed in managerial and professional specialties. Technical, sales, and administrative support occupations constitute another \\(33.2 \\%\\) of the work force. The remaining \\(23.3 \\%\\) of the population works in other areas, such as operators, fabricators, laborers and precision production. More than 5,000 Indian-Americans today serve as faculty members in institutions of higher education in the U. S. About 300,000 Indian-Americans work in technology firms in California's Silicon Valley. They account for more than \\(15 \\%\\) of high-tech startups in that region. The average income of Indian-Americans in that region is estimated to be \\(\\$ 200,000\\) a year. Two Indian-Americans - late Har Gobind Khorana of Massachusetts Institute of Technology and late Subrahmanyan Chandrashekhar of University of Chicago - were awarded the Nobel Prize, in medicine and physics respectively. In deed, the NASA's premier X-ray observatory was named the Chandra X-ray Observatory in honor of the late Subrahmanyan Chandrashekhar. Known the world as Chandra, he was widely regarded as one of the foremost astrophysicists of the twentieth century. The observatory was launched into space in July 1999. Dr. Kalpana Chawla added a new chapter to the history of the Indian-American community. In 1997, She became the first Indian or Indian-American to fly in the US space shuttle. She was part of the Space Shuttle Columbia Flight STS-87. The estimated annual buying power of Indian-Americans in the United States is around twenty billion dollars annually. Indian-Americans are increasingly beginning to take a more direct role in political activities. They have traditionally exercised the most political influence through their campaign contributions, and are actively involved in fundraising efforts for political candidates on the federal, state and local levels. As a result of these activities, together with the growing commercial interest in investment in India, the India caucus in the House of Representatives now numbers 118. <OCR/> Indian American Community: A Story of Achievements There now than 1.5 million peoples Indian origin in America. They reflect the society including academics and entrepreneurs, median income achieved median 87% college degree much clearly reflects the 58% Indian high school while least 62% have over the age hold participating become and administrative segment and works other areas, such as operators, fabricators, today serve faculty members work higher firms startups region. Valley. They average of physics Chicago Technology awarded Nobel Chandra X-ray She the history buying power space shuttle. She the United States beginning around the political activities. their campaign federal, House growing interest now investment Google March 2000 VIRGINIA UNIVERSITY VIRGINIA] from] ] from] ] from] from] from] from] from] from] from] from] from] from] from] from] from] from] from] from] from] from] from] from] from] from] from] from] from] from] from] from] from] from] from] from] from] from] from] from] from] from] from] from] from] from] from] from] from] from] from] from] from] from] from] from] from] from] from] from] from] from] from] from] from] from] from] from] from] from] from] from] from] from] from] from] from] from] from] from] from] from] from] from] from] from] from] from] from] from] from] from] from] from] from] from] from] from] from] from] from] from] from] from] from] from] from] from] from] from] from] from] from] from] from] from] from] from] from] from] from] from] from] from] from] from] from] from] from]\n"
     ]
    },
    {
     "name": "stderr",
     "output_type": "stream",
     "text": [
      "\n"
     ]
    }
   ],
   "source": [
    "predictions = []   \n",
    "ground_truths = [] \n",
    "\n",
    "print(\"Starting inference on images...\")\n",
    "for idx, row in tqdm(df.iterrows(), total=len(df)):\n",
    "    \n",
    "    rel_img_path = row[\"image_path\"]\n",
    "    gt_text = row[\"ocr_text\"]\n",
    "    \n",
    "    full_img_path = os.path.join(IMAGE_DIR, rel_img_path)\n",
    "    \n",
    " \n",
    "    try:\n",
    "        image = Image.open(full_img_path).convert(\"RGB\")\n",
    "    except Exception as e:\n",
    "        print(f\"Error loading image {full_img_path}: {e}\")\n",
    "        continue\n",
    "\n",
    " \n",
    "    prompt = \"<|image|><|begin_of_text|>Identify and extract all textual content from this newspaper page while preserving the logical reading flow. Ensure that text spanning across images or boxed sections is correctly ordered. Ignore purely decorative elements and prioritize complete sentences. Maintain proper line breaks and paragraph structure.\"\n",
    "\n",
    "\n",
    "\n",
    "    inputs = processor(image, prompt, return_tensors=\"pt\").to(model.device)\n",
    "\n",
    "\n",
    "    output = model.generate(**inputs, max_new_tokens=1024)\n",
    "    \n",
    "\n",
    "    extracted_text = processor.decode(output[0]).strip()\n",
    "\n",
    "\n",
    "    predictions.append(extracted_text)\n",
    "    ground_truths.append(gt_text)\n",
    "    \n",
    "    \n",
    "    print(f\"\\nImage: {rel_img_path}\")\n",
    "    print(f\"Ground Truth: {gt_text}\")\n",
    "    print(f\"Extracted:    {extracted_text}\")\n"
   ]
  },
  {
   "cell_type": "code",
   "execution_count": 6,
   "metadata": {},
   "outputs": [
    {
     "name": "stdout",
     "output_type": "stream",
     "text": [
      "Predictions saved to predictionsunsloth.csv\n"
     ]
    }
   ],
   "source": [
    "import pandas as pd\n",
    "\n",
    "\n",
    "results_df = pd.DataFrame({\"image_path\": df[\"image_path\"], \"ground_truth\": ground_truths, \"prediction\": predictions})\n",
    "\n",
    "\n",
    "results_csv_path = \"predictionsunsloth.csv\"\n",
    "results_df.to_csv(results_csv_path, index=False, encoding=\"utf-8\")\n",
    "\n",
    "print(f\"Predictions saved to {results_csv_path}\")\n"
   ]
  },
  {
   "cell_type": "code",
   "execution_count": 2,
   "metadata": {},
   "outputs": [],
   "source": [
    "import pandas as pd\n",
    "\n",
    "\n",
    "df = pd.read_csv(\"//teamspace/studios/this_studio/wer_cer.csv\")\n",
    "\n",
    "\n",
    "unwanted_text = \"<|begin_of_text|><|image|><|begin_of_text|>Extract the text from this image.\"\n",
    "df[\"prediction\"] = df[\"prediction\"].str.replace(rf\"^{unwanted_text}\\s*\", \"\", regex=True)\n",
    "\n",
    "\n",
    "df[\"prediction\"] = df[\"prediction\"].str.replace(r\"^\\|+\", \"\", regex=True).str.lstrip()\n",
    "\n",
    "\n",
    "df.to_csv(\"wer_cer.csv\", index=False)\n"
   ]
  },
  {
   "cell_type": "code",
   "execution_count": 3,
   "metadata": {},
   "outputs": [
    {
     "name": "stdout",
     "output_type": "stream",
     "text": [
      "Updated CSV saved to wer_cer_alt.csv\n"
     ]
    }
   ],
   "source": [
    "import pandas as pd\n",
    "\n",
    "# Load the two CSV files\n",
    "csv1_path = \"/teamspace/studios/this_studio/cleaned_fileunsloth.csv\"  \n",
    "csv2_path = \"/teamspace/studios/this_studio/groud_truth_test.csv\"\n",
    "\n",
    "# Read the CSV files\n",
    "df1 = pd.read_csv(csv1_path)\n",
    "df2 = pd.read_csv(csv2_path)\n",
    "\n",
    "# Copy 'prediction' column from df1 to df2 based on 'image_path'\n",
    "df2 = df2.merge(df1[['image_path', 'prediction']], on='image_path', how='left')\n",
    "\n",
    "# Save the updated dataframe to a new CSV file\n",
    "output_path = \"wer_cer_alt.csv\"  # Replace with the desired output path\n",
    "df2.to_csv(output_path, index=False)\n",
    "\n",
    "print(f\"Updated CSV saved to {output_path}\")"
   ]
  },
  {
   "cell_type": "code",
   "execution_count": 6,
   "metadata": {},
   "outputs": [
    {
     "name": "stdout",
     "output_type": "stream",
     "text": [
      "\n",
      "Evaluating performance...\n",
      "\n",
      "Average Word Error Rate (WER): 1.0075\n",
      "Average Character Error Rate (CER): 0.8006\n"
     ]
    }
   ],
   "source": [
    "import pandas as pd\n",
    "import editdistance\n",
    "from jiwer import wer\n",
    "\n",
    "\n",
    "csv_path = \"wer_cer_alt.csv\"\n",
    "df = pd.read_csv(csv_path)\n",
    "\n",
    "\n",
    "if \"prediction\" not in df.columns or \"ground_truth\" not in df.columns:\n",
    "    raise ValueError(\"CSV file must contain 'prediction' and 'ground_truth' columns.\")\n",
    "\n",
    "\n",
    "predictions = df[\"prediction\"].astype(str).tolist()\n",
    "ground_truths = df[\"ground_truth\"].astype(str).tolist()\n",
    "\n",
    "print(\"\\nEvaluating performance...\")\n",
    "\n",
    "total_wer = 0.0\n",
    "total_cer = 0.0\n",
    "num_samples = len(predictions)\n",
    "\n",
    "for pred, gt in zip(predictions, ground_truths):\n",
    "   \n",
    "    sample_wer = wer(gt, pred)\n",
    "    total_wer += sample_wer\n",
    "    \n",
    "    \n",
    "    sample_cer = editdistance.eval(pred, gt) / len(gt) if len(gt) > 0 else 0.0\n",
    "    total_cer += sample_cer\n",
    "\n",
    "average_wer = total_wer / num_samples if num_samples > 0 else float('nan')\n",
    "average_cer = total_cer / num_samples if num_samples > 0 else float('nan')\n",
    "\n",
    "print(f\"\\nAverage Word Error Rate (WER): {average_wer:.4f}\")\n",
    "print(f\"Average Character Error Rate (CER): {average_cer:.4f}\")\n"
   ]
  },
  {
   "cell_type": "markdown",
   "metadata": {},
   "source": []
  },
  {
   "cell_type": "markdown",
   "metadata": {},
   "source": [
    "# The following code finetunes the  llama 3.2 vision model using lora with the train split of the dataset \n",
    "## I used unsloth in order to make the training faster"
   ]
  },
  {
   "cell_type": "code",
   "execution_count": null,
   "metadata": {},
   "outputs": [
    {
     "name": "stdout",
     "output_type": "stream",
     "text": [
      "Processed and replaced: india_news_p000006.jpg\n",
      "Processed and replaced: india_news_p000007.jpg\n",
      "Processed and replaced: india_news_p000008.jpg\n",
      "Processed and replaced: india_news_p000009.jpg\n",
      "Processed and replaced: india_news_p000010.jpg\n",
      "Processed and replaced: india_news_p000011.jpg\n",
      "Processed and replaced: india_news_p000012.jpg\n",
      "Processed and replaced: india_news_p000013.jpg\n",
      "Processed and replaced: india_news_p000017.jpg\n",
      "Processed and replaced: india_news_p000018.jpg\n",
      "Processed and replaced: india_news_p000020.jpg\n",
      "Processed and replaced: india_news_p000021.jpg\n",
      "Processed and replaced: india_news_p000024.jpg\n",
      "Processed and replaced: india_news_p000025.jpg\n",
      "Processed and replaced: india_news_p000027.jpg\n",
      "Processed and replaced: india_news_p000028.jpg\n",
      "Processed and replaced: india_news_p000030.jpg\n",
      "Processed and replaced: india_news_p000031.jpg\n",
      "Processed and replaced: india_news_p000032.jpg\n",
      "Processed and replaced: india_news_p000033.jpg\n",
      "Processed and replaced: india_news_p000035.jpg\n",
      "Processed and replaced: india_news_p000036.jpg\n",
      "Processed and replaced: india_news_p000037.jpg\n",
      "Processed and replaced: india_news_p000038.jpg\n",
      "Processed and replaced: india_news_p000041.jpg\n",
      "Processed and replaced: india_news_p000042.jpg\n",
      "Processed and replaced: india_news_p000043.jpg\n",
      "Processed and replaced: india_news_p000044.jpg\n",
      "Processed and replaced: india_news_p000045.jpg\n",
      "Processed and replaced: india_news_p000046.jpg\n",
      "Processed and replaced: india_news_p000047.jpg\n",
      "Processed and replaced: india_news_p000048.jpg\n",
      "Processed and replaced: india_news_p000049.jpg\n",
      "Processed and replaced: india_news_p000052.jpg\n",
      "Processed and replaced: india_news_p000053.jpg\n",
      "Processed and replaced: india_news_p000054.jpg\n",
      "Processed and replaced: india_news_p000055.jpg\n",
      "Processed and replaced: india_news_p000056.jpg\n",
      "Processed and replaced: india_news_p000057.jpg\n",
      "Processed and replaced: india_news_p000060.jpg\n",
      "Processed and replaced: india_news_p000061.jpg\n",
      "Processed and replaced: india_news_p000062.jpg\n",
      "Processed and replaced: india_news_p000063.jpg\n",
      "Processed and replaced: india_news_p000065.jpg\n",
      "Processed and replaced: india_news_p000066.jpg\n",
      "Processed and replaced: india_news_p000067.jpg\n",
      "Processed and replaced: india_news_p000068.jpg\n",
      "Processed and replaced: india_news_p000069.jpg\n",
      "Processed and replaced: india_news_p000070.jpg\n",
      "Processed and replaced: india_news_p000071.jpg\n",
      "Processed and replaced: india_news_p000072.jpg\n",
      "Processed and replaced: india_news_p000074.jpg\n",
      "Processed and replaced: india_news_p000075.jpg\n",
      "Processed and replaced: india_news_p000076.jpg\n",
      "Processed and replaced: india_news_p000078.jpg\n",
      "Processed and replaced: india_news_p000079.jpg\n",
      "Processed and replaced: india_news_p000080.jpg\n",
      "Processed and replaced: india_news_p000081.jpg\n",
      "Processed and replaced: india_news_p000082.jpg\n",
      "Processed and replaced: india_news_p000083.jpg\n",
      "Processed and replaced: india_news_p000084.jpg\n",
      "Processed and replaced: india_news_p000085.jpg\n",
      "Processed and replaced: india_news_p000086.jpg\n",
      "Processed and replaced: india_news_p000088.jpg\n",
      "Processed and replaced: india_news_p000089.jpg\n",
      "Processed and replaced: india_news_p000092.jpg\n",
      "Processed and replaced: india_news_p000093.jpg\n",
      "Processed and replaced: india_news_p000094.jpg\n",
      "Processed and replaced: india_news_p000096.jpg\n",
      "Processed and replaced: india_news_p000097.jpg\n",
      "Processed and replaced: india_news_p000101.jpg\n",
      "Processed and replaced: india_news_p000102.jpg\n",
      "Processed and replaced: india_news_p000103.jpg\n",
      "Processed and replaced: india_news_p000104.jpg\n",
      "Processed and replaced: india_news_p000105.jpg\n",
      "Processed and replaced: india_news_p000106.jpg\n",
      "Processed and replaced: india_news_p000107.jpg\n",
      "Processed and replaced: india_news_p000108.jpg\n",
      "Processed and replaced: india_news_p000109.jpg\n",
      "Processed and replaced: india_news_p000110.jpg\n",
      "Processed and replaced: india_news_p000111.jpg\n",
      "Processed and replaced: india_news_p000112.jpg\n",
      "Processed and replaced: india_news_p000113.jpg\n",
      "Processed and replaced: india_news_p000114.jpg\n",
      "Processed and replaced: india_news_p000115.jpg\n",
      "Processed and replaced: india_news_p000116.jpg\n",
      "Processed and replaced: india_news_p000118.jpg\n",
      "Processed and replaced: india_news_p000119.jpg\n",
      "Processed and replaced: india_news_p000120.jpg\n",
      "Processed and replaced: india_news_p000122.jpg\n",
      "Processed and replaced: india_news_p000124.jpg\n",
      "Processed and replaced: india_news_p000126.jpg\n",
      "Processed and replaced: india_news_p000127.jpg\n",
      "Processed and replaced: india_news_p000128.jpg\n",
      "Processed and replaced: india_news_p000129.jpg\n",
      "Processed and replaced: india_news_p000131.jpg\n",
      "Processed and replaced: india_news_p000132.jpg\n",
      "Processed and replaced: india_news_p000133.jpg\n",
      "Processed and replaced: india_news_p000134.jpg\n",
      "Processed and replaced: india_news_p000135.jpg\n",
      "Processed and replaced: india_news_p000136.jpg\n",
      "Processed and replaced: india_news_p000137.jpg\n",
      "Processed and replaced: india_news_p000138.jpg\n",
      "Processed and replaced: india_news_p000139.jpg\n",
      "Processed and replaced: india_news_p000142.jpg\n",
      "Processed and replaced: india_news_p000143.jpg\n",
      "Processed and replaced: india_news_p000144.jpg\n",
      "Processed and replaced: india_news_p000145.jpg\n"
     ]
    }
   ],
   "source": [
    "import cv2\n",
    "import os\n",
    "\n",
    "def crop_left_bottom(image_path, left_crop_percent=10, bottom_crop_percent=10):\n",
    "    \"\"\"Crop only the left and bottom borders of an image.\"\"\"\n",
    "    image = cv2.imread(image_path)\n",
    "\n",
    "    if image is None:\n",
    "        raise ValueError(f\"Could not open image: {image_path}\")\n",
    "\n",
    "    h, w, _ = image.shape  # Get image dimensions\n",
    "\n",
    "\n",
    "    crop_x = int(w * left_crop_percent / 100)  \n",
    "    crop_y = int(h * bottom_crop_percent / 100)  \n",
    "\n",
    "    # Apply cropping (keep top and right intact)\n",
    "    cropped_image = image[:h - crop_y, crop_x:w]\n",
    "\n",
    "    return cropped_image\n",
    "\n",
    "def process_images_in_directory(directory, left_crop_percent=10, bottom_crop_percent=10):\n",
    "    \"\"\"Process all images in the given directory and replace them with cropped versions.\"\"\"\n",
    "    for filename in os.listdir(directory):\n",
    "        if filename.lower().endswith(('.png', '.jpg', '.jpeg')):  # Only process images\n",
    "            image_path = os.path.join(directory, filename)\n",
    "\n",
    "            try:\n",
    "                cropped_image = crop_left_bottom(image_path, left_crop_percent, bottom_crop_percent)\n",
    "\n",
    "                # Overwrite the original image\n",
    "                cv2.imwrite(image_path, cropped_image)\n",
    "                print(f\"Processed and replaced: {filename}\")\n",
    "\n",
    "            except Exception as e:\n",
    "                print(f\"Error processing {filename}: {e}\")\n",
    "\n",
    "# Set your directory and crop percentages\n",
    "image_directory = \"/teamspace/studios/this_studio/train\"\n",
    "left_crop_percent = 7  # Adjust this to crop more/less from the left\n",
    "bottom_crop_percent = 7  # Adjust this to crop more/less from the bottom\n",
    "\n",
    "# Process and replace all images in the directory\n",
    "process_images_in_directory(image_directory, left_crop_percent, bottom_crop_percent)\n"
   ]
  },
  {
   "cell_type": "code",
   "execution_count": 3,
   "metadata": {},
   "outputs": [
    {
     "name": "stdout",
     "output_type": "stream",
     "text": [
      "🦥 Unsloth: Will patch your computer to enable 2x faster free finetuning.\n",
      "🦥 Unsloth Zoo will now patch everything to make training faster!\n",
      "==((====))==  Unsloth 2025.2.12: Fast Mllama vision patching. Transformers: 4.48.3.\n",
      "   \\\\   /|    GPU: NVIDIA L40S. Max memory: 44.527 GB. Platform: Linux.\n",
      "O^O/ \\_/ \\    Torch: 2.6.0+cu124. CUDA: 8.9. CUDA Toolkit: 12.4. Triton: 3.2.0\n",
      "\\        /    Bfloat16 = TRUE. FA [Xformers = 0.0.29.post3. FA2 = False]\n",
      " \"-____-\"     Free Apache license: http://github.com/unslothai/unsloth\n",
      "Unsloth: Fast downloading is enabled - ignore downloading bars which are red colored!\n"
     ]
    },
    {
     "data": {
      "application/vnd.jupyter.widget-view+json": {
       "model_id": "1ed7465b05b04b13bf51d327029eafa9",
       "version_major": 2,
       "version_minor": 0
      },
      "text/plain": [
       "Loading checkpoint shards:   0%|          | 0/2 [00:00<?, ?it/s]"
      ]
     },
     "metadata": {},
     "output_type": "display_data"
    }
   ],
   "source": [
    "from unsloth import FastVisionModel\n",
    "import torch\n",
    "\n",
    "model, tokenizer = FastVisionModel.from_pretrained(\n",
    "    \"unsloth/Llama-3.2-11B-Vision-Instruct\",\n",
    "    load_in_4bit = True,\n",
    "    use_gradient_checkpointing = \"unsloth\",\n",
    ")\n",
    "model.cuda()"
   ]
  },
  {
   "cell_type": "code",
   "execution_count": 4,
   "metadata": {},
   "outputs": [
    {
     "name": "stdout",
     "output_type": "stream",
     "text": [
      "Unsloth: Making `model.base_model.model.vision_model.transformer` require gradients\n"
     ]
    }
   ],
   "source": [
    "model = FastVisionModel.get_peft_model(\n",
    "    model,\n",
    "    finetune_vision_layers     = True, \n",
    "    finetune_language_layers   = True, \n",
    "    finetune_attention_modules = True,\n",
    "    finetune_mlp_modules       = True,\n",
    "    r = 16,           \n",
    "    lora_alpha = 16,\n",
    "    lora_dropout = 0,\n",
    "    bias = \"none\",\n",
    "    random_state = 3443,\n",
    "    use_rslora = False,\n",
    "    loftq_config = None,\n",
    ")"
   ]
  },
  {
   "cell_type": "code",
   "execution_count": 5,
   "metadata": {},
   "outputs": [
    {
     "name": "stdout",
     "output_type": "stream",
     "text": [
      "{'messages': [{'role': 'user', 'content': [{'type': 'text', 'text': '\\nIdentify and extract all textual content from this newspaper page while preserving the logical reading flow. Ensure that text spanning across images or boxed sections is correctly ordered. Ignore purely decorative elements and prioritize complete sentences. Maintain proper line breaks and paragraph structure.\"\\n'}, {'type': 'image', 'image': <PIL.Image.Image image mode=RGB size=1622x2114 at 0x7F821D46E950>}]}, {'role': 'assistant', 'content': [{'type': 'text', 'text': 'India\\'s Experience Has Taught That Peace Lies in Strength\\n\\nBy Atal Bihari Vajpayee, Prime Minister of India\\n\\nInternational Herald Tribune - September 21, 2000\\n\\nM Y RECENT visit to the United States has consolidated relations between the world\\'s two largest democracies. The joint initiatives and understandings that we reached represent a major step forward. India and the United States can be natural allies in the 21st century. Events and circumstances over the last two years have confirmed this.\\n\\nWe are both motivated by shared values that give freedom, dignity, democracy and tolerance the highest priority. Open societies oppose international terrorism which, in the cloak of religious extremism, is eating away at the foundation of democratic nations.\\n\\nThe integrity of nation-states as building blocks of a stable international order is threatened by newly-promoted concepts of interventionism that add to insecurity and social chaos. The principle of social equity that must underline economic prosperity and globalisation is often ignored. Barriers to mutually enriching science and technology must be removed to promote creativity and knowledge to the full.\\n\\nAs the two biggest open societies, India and the United States must address these pressing concerns. Agreement and common action would be ideal; but disagreement on some issues should not constitute division. We have agreed that, as our dialogue proceeds, we will listen with respect to each other and seek to accommodate our mutual concerns.\\n\\nAs natural allies, it is important that India and the United States remain engaged. Contacts should be so frequent that they become routine. President Bill Clinton\\'s visit to India in March took place after a gap of 22 years. In the fast-changing world in which we live, even 22 months is an unacceptable interruption.\\n\\nIndia is growing at an annual rate of more than 6 per cent; we aim to reach 9 per cent and beyond. Such growth results from unshackling the energy and enterprise of the Indian people. India is a vast market as well as an expanding platform for manufacture and services. Its growth has generated an insatiable thirst for green energy, efficient communications and modern infrastructure. India is open for business and partnership.\\n\\nIndia is in the vanguard of the knowledge revolution. Information technology and knowledge-intensive industries, including biotechnology, entertainment, communications and services, have taken root. They are now moving beyond India to network at a global level. Traditional industry and science also continue to flourish. India today is equally adept in both \"brick\" and \"click\" economies.\\n\\nNo armies from India have stepped out to conquer and dominate others. We want a world free of weapons of mass destruction. But security in the real world must be based on the principle of equal security for all. Without a non-discriminatory world order, our experience has taught us that peace lies in strength. The security of one billion Indians is central to Asia\\'s security and stability. Yet peace and strength are not incompatible. As a nuclear weapon state, our approach is guided by a sense of responsibility and transparency that we urge others to adopt.\\n\\nA unilateral moratorium on explosive tests, a policy of \"no first use,\" a tight export control regime and a willingness to engage with other countries on all aspects of international security are the principles of India\\'s nuclear policy.'}]}]}\n"
     ]
    }
   ],
   "source": [
    "import os\n",
    "import pandas as pd\n",
    "from PIL import Image\n",
    "from torch.utils.data import Dataset\n",
    "\n",
    "\n",
    "class OCRDataset(Dataset):\n",
    "    def __init__(self, csv_path: str, images_dir: str):\n",
    "        self.data = pd.read_csv(csv_path)\n",
    "        self.images_dir = images_dir\n",
    "\n",
    "    def __len__(self):\n",
    "        return len(self.data)\n",
    "\n",
    "    def __getitem__(self, idx: int):\n",
    "        row = self.data.iloc[idx]\n",
    "        image_path = os.path.join(self.images_dir, row[\"image_path\"])\n",
    "        image = Image.open(image_path).convert(\"RGB\")\n",
    "        return {\"image\": image, \"model_output\": row[\"model_output\"]}\n",
    "\n",
    "\n",
    "ocr_dataset = OCRDataset(\n",
    "    csv_path=\"/teamspace/studios/this_studio/ground_truth_train.csv\",\n",
    "    images_dir=\"/teamspace/studios/this_studio/train\",\n",
    ")\n",
    "\n",
    "dataset = [ocr_dataset[i] for i in range(min(500, len(ocr_dataset)))]\n",
    "\n",
    "instruction = \"\"\"\n",
    "Identify and extract all textual content from this newspaper page while preserving the logical reading flow. Ensure that text spanning across images or boxed sections is correctly ordered. Ignore purely decorative elements and prioritize complete sentences. Maintain proper line breaks and paragraph structure.\"\n",
    "\"\"\"\n",
    "\n",
    "def convert_to_conversation(sample):\n",
    "    conversation = [\n",
    "        {\n",
    "            \"role\": \"user\",\n",
    "            \"content\": [\n",
    "                {\"type\": \"text\", \"text\": instruction},\n",
    "                {\"type\": \"image\", \"image\": sample[\"image\"]},\n",
    "            ],\n",
    "        },\n",
    "        {\n",
    "            \"role\": \"assistant\",\n",
    "            \"content\": [{\"type\": \"text\", \"text\": sample[\"model_output\"]}],\n",
    "        },\n",
    "    ]\n",
    "    return {\"messages\": conversation}\n",
    "\n",
    "\n",
    "converted_dataset = [convert_to_conversation(sample) for sample in dataset]\n",
    "\n",
    "print(converted_dataset[45])\n"
   ]
  },
  {
   "cell_type": "code",
   "execution_count": 6,
   "metadata": {},
   "outputs": [],
   "source": [
    "from unsloth import is_bf16_supported\n",
    "from unsloth.trainer import UnslothVisionDataCollator\n",
    "from trl import SFTTrainer, SFTConfig\n",
    "\n",
    "FastVisionModel.for_training(model) \n",
    "trainer = SFTTrainer(\n",
    "    model=model,\n",
    "    tokenizer=tokenizer,\n",
    "    data_collator=UnslothVisionDataCollator(model, tokenizer),  \n",
    "    train_dataset=converted_dataset,\n",
    "    args=SFTConfig(\n",
    "        per_device_train_batch_size=1,         \n",
    "        gradient_accumulation_steps=8,          \n",
    "        warmup_steps=10,                        \n",
    "        max_steps=100,                           \n",
    "        learning_rate=1e-4,                      \n",
    "        fp16=not is_bf16_supported(),\n",
    "        bf16=is_bf16_supported(),\n",
    "        logging_steps=10,                        \n",
    "        optim=\"adamw_8bit\",\n",
    "        weight_decay=0.01,\n",
    "        lr_scheduler_type=\"linear\",\n",
    "        seed=3407,\n",
    "        output_dir=\"outputs\",\n",
    "        report_to=\"none\",  \n",
    "        remove_unused_columns=False,\n",
    "        dataset_text_field=\"\",\n",
    "        dataset_kwargs={\"skip_prepare_dataset\": True},\n",
    "        dataset_num_proc=4,\n",
    "        max_seq_length=2048,\n",
    "    ),\n",
    ")\n"
   ]
  },
  {
   "cell_type": "code",
   "execution_count": 7,
   "metadata": {},
   "outputs": [
    {
     "name": "stderr",
     "output_type": "stream",
     "text": [
      "==((====))==  Unsloth - 2x faster free finetuning | Num GPUs = 1\n",
      "   \\\\   /|    Num examples = 107 | Num Epochs = 8\n",
      "O^O/ \\_/ \\    Batch size per device = 1 | Gradient Accumulation steps = 8\n",
      "\\        /    Total batch size = 8 | Total steps = 100\n",
      " \"-____-\"     Number of trainable parameters = 67,174,400\n",
      "🦥 Unsloth needs about 1-3 minutes to load everything - please wait!\n"
     ]
    },
    {
     "name": "stdout",
     "output_type": "stream",
     "text": [
      "Unsloth: Will smartly offload gradients to save VRAM!\n"
     ]
    },
    {
     "data": {
      "text/html": [
       "\n",
       "    <div>\n",
       "      \n",
       "      <progress value='100' max='100' style='width:300px; height:20px; vertical-align: middle;'></progress>\n",
       "      [100/100 22:40, Epoch 7/8]\n",
       "    </div>\n",
       "    <table border=\"1\" class=\"dataframe\">\n",
       "  <thead>\n",
       " <tr style=\"text-align: left;\">\n",
       "      <th>Step</th>\n",
       "      <th>Training Loss</th>\n",
       "    </tr>\n",
       "  </thead>\n",
       "  <tbody>\n",
       "    <tr>\n",
       "      <td>10</td>\n",
       "      <td>0.443700</td>\n",
       "    </tr>\n",
       "    <tr>\n",
       "      <td>20</td>\n",
       "      <td>0.155500</td>\n",
       "    </tr>\n",
       "    <tr>\n",
       "      <td>30</td>\n",
       "      <td>0.077700</td>\n",
       "    </tr>\n",
       "    <tr>\n",
       "      <td>40</td>\n",
       "      <td>0.062700</td>\n",
       "    </tr>\n",
       "    <tr>\n",
       "      <td>50</td>\n",
       "      <td>0.055800</td>\n",
       "    </tr>\n",
       "    <tr>\n",
       "      <td>60</td>\n",
       "      <td>0.052700</td>\n",
       "    </tr>\n",
       "    <tr>\n",
       "      <td>70</td>\n",
       "      <td>0.039700</td>\n",
       "    </tr>\n",
       "    <tr>\n",
       "      <td>80</td>\n",
       "      <td>0.037600</td>\n",
       "    </tr>\n",
       "    <tr>\n",
       "      <td>90</td>\n",
       "      <td>0.035600</td>\n",
       "    </tr>\n",
       "    <tr>\n",
       "      <td>100</td>\n",
       "      <td>0.031900</td>\n",
       "    </tr>\n",
       "  </tbody>\n",
       "</table><p>"
      ],
      "text/plain": [
       "<IPython.core.display.HTML object>"
      ]
     },
     "metadata": {},
     "output_type": "display_data"
    }
   ],
   "source": [
    "trainer_stats = trainer.train()"
   ]
  },
  {
   "cell_type": "code",
   "execution_count": 11,
   "metadata": {},
   "outputs": [
    {
     "name": "stdout",
     "output_type": "stream",
     "text": [
      "PRIME MINISTER'S ADDRESS from page 9\n",
      "\n",
      "Our National Income has grown by 6 percent;\n",
      "Having crossed 200 million tonnes, production of foodgrains is higher today than ever before;\n",
      "Food stocks are higher today than ever. For this our kisans deserve our felicitations. Our agricultural scientists are also worthy of our praise.\n",
      "\n",
      "Industrial production is reviving at an energetic pace;\n",
      "\n",
      "The new initiatives which have been taken in infrastructure have infused a new purposefulness right across the economy;\n",
      "\n",
      "At over 30 billion dollars our foreign exchange reserves are higher than ever before;\n",
      "\n",
      "The Sensex in the stock market has risen to record levels. In spite of Kargil, our companies have been able to increase their market value by over Rs. 200,000 crore.\n",
      "\n",
      "The off-take of cement for building houses is 22 percent higher than it has ever been;\n",
      "\n",
      "Facilities which were known only to the rich, to the few, and in our cities alone --- insurance for the output, credit cards --- are now available to, and are being taken advantage of by farmers and by others in our far-flung villages.\n",
      "\n",
      "And we are stronger than ever. Pokharan has given us enviable strength and self-confidence. ADNI-2 has been tested --- in the face of pressures --- and will be integrated into our defence arsenal.\n",
      "\n",
      "PSLV and INSAT 2-E have been launched. What a feat our scientists have accomplished: sending not just one, but three satellites on a single rocket far out into space, and placing each of them at the precise point in space, which had been fixed. This has been a magnificent achievement.\n",
      "\n",
      "Yes, one thing has certainly come down. It is the rate of inflation. At 1.3 percent, this is the lowest rate in seventeen years.\n",
      "\n",
      "There has also been a sea change in the way the world sees us. Last year we had taken a major step --- Pokharan-2 --- which was essential for our security, a step which had been contemplated for long but which could not be taken because of the pressures which were put on successive governments.\n",
      "\n",
      "Some did not agree with our assessment. Some even sought to portray us as an irresponsible nation. However ever today, within a year, in the councils of the world, \"India\" is synonymous with \"responsibility\".\n",
      "\n",
      "The world has seen that we will protect our national interest at all costs: whether it is in developing an atomic weapons capability, whether it is in developing missile-capability, whether it is in driving adversaries out of our land:\n",
      "\n",
      "The world has seen that we will withstand all pressures that are intended to keep us from taking measures that we consider necessary in our national interest;\n",
      "\n",
      "Also the world has seen that whatever we will do will be for self-defence, never for aggression.\n",
      "\n",
      "But the world has also seen that we are capable of doing so with utmost restraint, with utmost responsibility. These were the principles, which guided us when Pakistan forced the Kargil war on us. Our response was well-thought out. It was so effective that it left the enemy stunned.\n",
      "\n",
      "The world today has well realized that we would do whatever is required to protect our country. The world has also understood that we would act with utmost responsibility and restraint even when so gravely provoked. This has raised the reputation of India in the international community.\n",
      "\n",
      "The Lahore bus journey was taken to improve our relations with Pakistan. This made the world realize that we truly want peace and friendship. This journey was not a showpiece. It was a serious and well-considered move, which we made knowing fully well that there could be risks in it.\n",
      "\n",
      "Our honesty made an impact on the international community. Later, when the bus to Lahore was taken to Kargil, it did not take much time for the world to realize that Pakistan not only violated the Shimla Agreement and the Lahore Declaration, but it also crossed the borders of trust and goodwill.\n",
      "\n",
      "That is what turned the world's opinion. Pakistan stood completely isolated on the world stage. India received widespread support in the world for the first time.\n",
      "\n",
      "I do hope that the people of Pakistan too will reflect on these events. We reached out to you with a message of friendship. What did we gain in return? Hundreds lost their lives. Relations were spoiled. The resources which ought to have been used for economic and social development were instead spent on war.\n",
      "\n",
      "We need peace in order to raise the standard of living of the people in both countries. For peace, we need trust. Has trust increased on account of all that happened in Kargil? Does the path of armed intrusion lead to friendship?\n",
      "\n",
      "Terrorists are being trained in Pakistan. Camps are being run for them. Hordes of terrorists are being sent into India. They are killing innocent people. They are targeting women and children. How can meaningful dialogue take place in this atmosphere?\n",
      "\n",
      "Pakistan must realize that no problem can be resolved if it continues to promote terrorist activities. We shall not let the evil designs of terrorists succeed. Today, Punjab is free of terrorism. The people of Jammu and Kashmir\n"
     ]
    }
   ],
   "source": [
    "ocr_dataset = OCRDataset(\n",
    "    csv_path=\"/teamspace/studios/this_studio/groud_truth_test.csv\",\n",
    "    images_dir=\"/teamspace/studios/this_studio/test\",\n",
    ")\n",
    "\n",
    "dataset = [ocr_dataset[i] for i in range(min(500, len(ocr_dataset)))]\n",
    "FastVisionModel.for_inference(model)  \n",
    "\n",
    "image = dataset[9][\"image\"]\n",
    "\n",
    "messages = [\n",
    "    {\n",
    "        \"role\": \"user\",\n",
    "        \"content\": [\n",
    "            {\"type\": \"image\"},\n",
    "            {\"type\": \"text\", \"text\": instruction},\n",
    "        ],\n",
    "    }\n",
    "]\n",
    "input_text = tokenizer.apply_chat_template(\n",
    "    messages, add_generation_prompt=True\n",
    ")\n",
    "inputs = tokenizer(\n",
    "    image,\n",
    "    input_text,\n",
    "    add_special_tokens=False,\n",
    "    return_tensors=\"pt\",\n",
    ").to(\"cuda\")\n",
    "\n",
    "from transformers import TextStreamer\n",
    "\n",
    "text_streamer = TextStreamer(tokenizer, skip_prompt=True)\n",
    "_ = model.generate(\n",
    "    **inputs,\n",
    "    streamer=text_streamer,\n",
    "    max_new_tokens=1024,\n",
    "    use_cache=True,\n",
    "    temperature=1.5,\n",
    "    min_p=0.1\n",
    ")"
   ]
  },
  {
   "cell_type": "code",
   "execution_count": 12,
   "metadata": {},
   "outputs": [
    {
     "name": "stderr",
     "output_type": "stream",
     "text": [
      "Processing images: 100%|██████████| 27/27 [33:05<00:00, 73.55s/it]\n"
     ]
    }
   ],
   "source": [
    "import pandas as pd\n",
    "from tqdm import tqdm\n",
    "\n",
    "# Paths to your CSV and image directory\n",
    "csv_path = \"/teamspace/studios/this_studio/groud_truth_test.csv\"\n",
    "images_dir = \"/teamspace/studios/this_studio/test\"\n",
    "\n",
    "# Load the CSV into a DataFrame (this assumes the CSV already contains image paths or identifiers)\n",
    "df = pd.read_csv(csv_path)\n",
    "\n",
    "# Create your OCRDataset instance\n",
    "ocr_dataset = OCRDataset(csv_path=csv_path, images_dir=images_dir)\n",
    "\n",
    "# Prepare your model for inference (make sure 'model' is already loaded and 'FastVisionModel' is imported)\n",
    "FastVisionModel.for_inference(model)\n",
    "\n",
    "# List to collect predictions for each image\n",
    "predictions = []\n",
    "\n",
    "# Loop over the entire dataset (one sample per image)\n",
    "for idx in tqdm(range(len(ocr_dataset)), desc=\"Processing images\"):\n",
    "    # Retrieve the sample; assumes each sample is a dictionary with key \"image\"\n",
    "    sample = ocr_dataset[idx]\n",
    "    image = sample[\"image\"]\n",
    "    \n",
    "    # Prepare the prompt/message.\n",
    "    # Ensure that the variable 'instruction' is defined with your desired text.\n",
    "    messages = [\n",
    "        {\n",
    "            \"role\": \"user\",\n",
    "            \"content\": [\n",
    "                {\"type\": \"image\"},\n",
    "                {\"type\": \"text\", \"text\": instruction},\n",
    "            ],\n",
    "        }\n",
    "    ]\n",
    "    \n",
    "    # Apply the chat template to create the input text for the model\n",
    "    input_text = tokenizer.apply_chat_template(messages, add_generation_prompt=True)\n",
    "    \n",
    "    # Tokenize both the image and text input\n",
    "    inputs = tokenizer(\n",
    "        image,\n",
    "        input_text,\n",
    "        add_special_tokens=False,\n",
    "        return_tensors=\"pt\",\n",
    "    ).to(\"cuda\")\n",
    "    \n",
    "    # Generate the prediction\n",
    "    outputs = model.generate(\n",
    "        **inputs,\n",
    "        max_new_tokens=1024,\n",
    "        use_cache=True,\n",
    "        temperature=1.5,\n",
    "        min_p=0.1\n",
    "    )\n",
    "    \n",
    "    # Decode the generated tokens into text (skip special tokens)\n",
    "    prediction = tokenizer.decode(outputs[0], skip_special_tokens=True)\n",
    "    \n",
    "    # Append the prediction to the list\n",
    "    predictions.append(prediction)\n",
    "\n",
    "# Add the predictions as a new column in the DataFrame.\n",
    "# Make sure the order of 'predictions' matches the rows in your CSV.\n",
    "df['prediction'] = predictions\n",
    "\n",
    "# Save the updated DataFrame back to CSV\n",
    "df.to_csv(csv_path, index=False)\n"
   ]
  },
  {
   "cell_type": "code",
   "execution_count": 15,
   "metadata": {},
   "outputs": [],
   "source": [
    "import pandas as pd\n",
    "\n",
    "# Load the CSV\n",
    "file_path = \"/teamspace/studios/this_studio/groud_truth_test.csv\"  # Update with your actual file path\n",
    "df = pd.read_csv(file_path)\n",
    "\n",
    "# Define the exact multiline string to remove\n",
    "text_to_remove = \"\"\"user\n",
    "\n",
    "\n",
    "Identify and extract all textual content from this newspaper page while preserving the logical reading flow. Ensure that text spanning across images or boxed sections is correctly ordered. Ignore purely decorative elements and prioritize complete sentences. Maintain proper line breaks and paragraph structure.\"\"\"\n",
    "\n",
    "# Remove occurrences of the specific string in the 'prediction' column\n",
    "df[\"prediction\"] = df[\"prediction\"].str.replace(text_to_remove, \"\", regex=False)\n",
    "\n",
    "# Save the cleaned CSV\n",
    "df.to_csv(\"cleaned_file_final.csv\", index=False)\n"
   ]
  },
  {
   "cell_type": "code",
   "execution_count": 11,
   "metadata": {},
   "outputs": [
    {
     "name": "stdout",
     "output_type": "stream",
     "text": [
      "Loaded 27 records from /teamspace/studios/this_studio/groud_truth_test.csv\n",
      "Starting inference on images...\n"
     ]
    },
    {
     "name": "stderr",
     "output_type": "stream",
     "text": [
      "100%|██████████| 27/27 [00:00<00:00, 89.09it/s]\n"
     ]
    }
   ],
   "source": [
    "import os\n",
    "import pandas as pd\n",
    "from PIL import Image\n",
    "import torch\n",
    "from tqdm import tqdm\n",
    "from jiwer import wer\n",
    "import editdistance\n",
    "\n",
    "from transformers import MllamaForConditionalGeneration, AutoProcessor\n",
    "\n",
    "\n",
    "CSV_PATH = \"/teamspace/studios/this_studio/groud_truth_test.csv\"      \n",
    "IMAGE_DIR = \"/teamspace/studios/this_studio/test\"       \n",
    "df = pd.read_csv(CSV_PATH)\n",
    "df = df.dropna(subset=[\"ocr_text\"])\n",
    "df = pd.read_csv(CSV_PATH)\n",
    "print(f\"Loaded {len(df)} records from {CSV_PATH}\")\n",
    "\n",
    "\n",
    "\n",
    "predictions = []  \n",
    "ground_truths = [] \n",
    "\n",
    "print(\"Starting inference on images...\")\n",
    "for idx, row in tqdm(df.iterrows(), total=len(df)):\n",
    "    \n",
    "    rel_img_path = row[\"image_path\"]\n",
    "    gt_text = row[\"ocr_text\"]\n",
    "    \n",
    "    \n",
    "    full_img_path = os.path.join(IMAGE_DIR, rel_img_path)\n",
    "    \n",
    "    \n",
    "    try:\n",
    "        image = Image.open(full_img_path).convert(\"RGB\")\n",
    "    except Exception as e:\n",
    "        print(f\"Error loading image {full_img_path}: {e}\")\n",
    "        continue"
   ]
  },
  {
   "cell_type": "code",
   "execution_count": 12,
   "metadata": {},
   "outputs": [
    {
     "data": {
      "text/plain": [
       "[]"
      ]
     },
     "execution_count": 12,
     "metadata": {},
     "output_type": "execute_result"
    }
   ],
   "source": [
    "model.save_pretrained(\"llama_3.2_vision_finetuned\") \n",
    "tokenizer.save_pretrained(\"llama_3.2_vision_finetuned\")"
   ]
  },
  {
   "cell_type": "code",
   "execution_count": 14,
   "metadata": {},
   "outputs": [
    {
     "name": "stdout",
     "output_type": "stream",
     "text": [
      "0    \\nNEWS IN BRIEF (Continued from page 8)\\n\\nDur...\n",
      "1    \\nIndia not to engage in a nuclear arms race: ...\n",
      "2    \\nIndia News is published by the Press & Infor...\n",
      "3    \\nIndia & Intellectual Property Rights\\n\\nTHER...\n",
      "4    \\nIndia Press Monitor\\n\\nWired to the World\\nL...\n",
      "Name: prediction, dtype: object\n",
      "Updated CSV saved to /teamspace/studios/this_studio/updated_cleaned_file_final.csv\n"
     ]
    }
   ],
   "source": [
    "import pandas as pd\n",
    "\n",
    "# Paths for the original and new CSV files\n",
    "CSV_PATH = \"/teamspace/studios/this_studio/cleaned_file_final.csv\"\n",
    "NEW_CSV_PATH = \"/teamspace/studios/this_studio/updated_cleaned_file_final.csv\"\n",
    "\n",
    "# Read the original CSV file\n",
    "df = pd.read_csv(CSV_PATH)\n",
    "\n",
    "# Remove occurrences where 'assistant' appears as a standalone line along with extra whitespace/newlines\n",
    "df[\"prediction\"] = df[\"prediction\"].str.replace(r\"\\nassistant\\s*\\n\", \"\\n\", regex=True)\n",
    "\n",
    "# Remove a starting double quote at the beginning of the text or following a newline\n",
    "df[\"prediction\"] = df[\"prediction\"].str.replace(r'(^|\\n)\"', r'\\1', regex=True)\n",
    "\n",
    "# Display the first few predictions to verify changes\n",
    "print(df[\"prediction\"].head())\n",
    "\n",
    "# Save the updated dataframe to a new CSV file\n",
    "df.to_csv(NEW_CSV_PATH, index=False)\n",
    "print(f\"Updated CSV saved to {NEW_CSV_PATH}\")\n"
   ]
  },
  {
   "cell_type": "code",
   "execution_count": 15,
   "metadata": {},
   "outputs": [
    {
     "name": "stdout",
     "output_type": "stream",
     "text": [
      "\n",
      "Evaluating performance...\n"
     ]
    },
    {
     "name": "stdout",
     "output_type": "stream",
     "text": [
      "\n",
      "Average Word Error Rate (WER): 0.1041\n",
      "Average Character Error Rate (CER): 0.0942\n"
     ]
    }
   ],
   "source": [
    "import pandas as pd\n",
    "import editdistance\n",
    "from jiwer import wer\n",
    "\n",
    "\n",
    "csv_path = \"/teamspace/studios/this_studio/updated_cleaned_file_final.csv\"\n",
    "df = pd.read_csv(csv_path)\n",
    "\n",
    "if \"prediction\" not in df.columns or \"ground_truth\" not in df.columns:\n",
    "    raise ValueError(\"CSV file must contain 'prediction' and 'ground_truth' columns.\")\n",
    "\n",
    "\n",
    "predictions = df[\"prediction\"].astype(str).tolist()\n",
    "ground_truths = df[\"ground_truth\"].astype(str).tolist()\n",
    "\n",
    "print(\"\\nEvaluating performance...\")\n",
    "\n",
    "total_wer = 0.0\n",
    "total_cer = 0.0\n",
    "num_samples = len(predictions)\n",
    "\n",
    "for pred, gt in zip(predictions, ground_truths):\n",
    "  \n",
    "    sample_wer = wer(gt, pred)\n",
    "    total_wer += sample_wer\n",
    "    \n",
    " \n",
    "    sample_cer = editdistance.eval(pred, gt) / len(gt) if len(gt) > 0 else 0.0\n",
    "    total_cer += sample_cer\n",
    "\n",
    "average_wer = total_wer / num_samples if num_samples > 0 else float('nan')\n",
    "average_cer = total_cer / num_samples if num_samples > 0 else float('nan')\n",
    "\n",
    "print(f\"\\nAverage Word Error Rate (WER): {average_wer:.4f}\")\n",
    "print(f\"Average Character Error Rate (CER): {average_cer:.4f}\")\n"
   ]
  },
  {
   "cell_type": "markdown",
   "metadata": {},
   "source": [
    "## Following code compares the code before and after fine tuning "
   ]
  },
  {
   "cell_type": "code",
   "execution_count": 18,
   "metadata": {},
   "outputs": [
    {
     "name": "stderr",
     "output_type": "stream",
     "text": [
      "/home/zeus/miniconda3/envs/cloudspace/lib/python3.10/site-packages/nltk/translate/bleu_score.py:577: UserWarning: \n",
      "The hypothesis contains 0 counts of 3-gram overlaps.\n",
      "Therefore the BLEU score evaluates to 0, independently of\n",
      "how many N-gram overlaps of lower order it contains.\n",
      "Consider using lower n-gram order or use SmoothingFunction()\n",
      "  warnings.warn(_msg)\n",
      "/home/zeus/miniconda3/envs/cloudspace/lib/python3.10/site-packages/nltk/translate/bleu_score.py:577: UserWarning: \n",
      "The hypothesis contains 0 counts of 4-gram overlaps.\n",
      "Therefore the BLEU score evaluates to 0, independently of\n",
      "how many N-gram overlaps of lower order it contains.\n",
      "Consider using lower n-gram order or use SmoothingFunction()\n",
      "  warnings.warn(_msg)\n",
      "/home/zeus/miniconda3/envs/cloudspace/lib/python3.10/site-packages/nltk/translate/bleu_score.py:577: UserWarning: \n",
      "The hypothesis contains 0 counts of 2-gram overlaps.\n",
      "Therefore the BLEU score evaluates to 0, independently of\n",
      "how many N-gram overlaps of lower order it contains.\n",
      "Consider using lower n-gram order or use SmoothingFunction()\n",
      "  warnings.warn(_msg)\n"
     ]
    },
    {
     "name": "stdout",
     "output_type": "stream",
     "text": [
      "\n",
      "Performance Comparison:\n",
      "+---------------+----------------+--------------------+\n",
      "| Metric        |   Normal Model |   Fine-Tuned Model |\n",
      "+===============+================+====================+\n",
      "| WER           |         1.1465 |             0.1041 |\n",
      "+---------------+----------------+--------------------+\n",
      "| CER           |         0.9231 |             0.0942 |\n",
      "+---------------+----------------+--------------------+\n",
      "| Edit Distance |      3325.07   |           267.926  |\n",
      "+---------------+----------------+--------------------+\n",
      "| BLEU Score    |         0.3453 |             0.8848 |\n",
      "+---------------+----------------+--------------------+\n"
     ]
    }
   ],
   "source": [
    "import pandas as pd\n",
    "import editdistance\n",
    "from jiwer import wer\n",
    "from nltk.translate.bleu_score import sentence_bleu\n",
    "from tabulate import tabulate\n",
    "\n",
    "\n",
    "normal_csv = \"/teamspace/studios/this_studio/cleaned_fileunsloth.csv\"\n",
    "finetuned_csv = \"/teamspace/studios/this_studio/updated_cleaned_file_final.csv\"\n",
    "\n",
    "df_normal = pd.read_csv(normal_csv)\n",
    "df_finetuned = pd.read_csv(finetuned_csv)\n",
    "\n",
    "\n",
    "for df in [df_normal, df_finetuned]:\n",
    "    if \"prediction\" not in df.columns or \"ground_truth\" not in df.columns:\n",
    "        raise ValueError(\"CSV files must contain 'prediction' and 'ground_truth' columns.\")\n",
    "\n",
    "def calculate_metrics(predictions, ground_truths):\n",
    "    total_wer, total_cer, total_edit_distance, total_bleu, exact_matches = 0, 0, 0, 0, 0\n",
    "    num_samples = len(predictions)\n",
    "    \n",
    "    for pred, gt in zip(predictions, ground_truths):\n",
    "        total_wer += wer(gt, pred)\n",
    "        total_cer += editdistance.eval(pred, gt) / len(gt) if len(gt) > 0 else 0.0\n",
    "        total_edit_distance += editdistance.eval(pred, gt)\n",
    "        total_bleu += sentence_bleu([gt.split()], pred.split()) \n",
    "        exact_matches += 1 if pred == gt else 0\n",
    "    \n",
    "    return {\n",
    "        \"WER\": total_wer / num_samples if num_samples > 0 else float('nan'),\n",
    "        \"CER\": total_cer / num_samples if num_samples > 0 else float('nan'),\n",
    "        \"Edit Distance\": total_edit_distance / num_samples if num_samples > 0 else float('nan'),\n",
    "        \"BLEU Score\": total_bleu / num_samples if num_samples > 0 else float('nan'),\n",
    "    }\n",
    "\n",
    "\n",
    "normal_metrics = calculate_metrics(df_normal[\"prediction\"].astype(str).tolist(), df_normal[\"ground_truth\"].astype(str).tolist())\n",
    "finetuned_metrics = calculate_metrics(df_finetuned[\"prediction\"].astype(str).tolist(), df_finetuned[\"ground_truth\"].astype(str).tolist())\n",
    "\n",
    "\n",
    "data = [[metric, f\"{normal_metrics[metric]:.4f}\", f\"{finetuned_metrics[metric]:.4f}\"] for metric in normal_metrics.keys()]\n",
    "\n",
    "print(\"\\nPerformance Comparison:\")\n",
    "print(tabulate(data, headers=[\"Metric\", \"Normal Model\", \"Fine-Tuned Model\"], tablefmt=\"grid\"))\n"
   ]
  }
 ],
 "metadata": {
  "language_info": {
   "name": "python"
  }
 },
 "nbformat": 4,
 "nbformat_minor": 2
}
